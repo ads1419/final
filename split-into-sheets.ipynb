{
 "cells": [
  {
   "cell_type": "code",
   "execution_count": 1,
   "metadata": {
    "ExecuteTime": {
     "end_time": "2020-07-07T17:56:36.929779Z",
     "start_time": "2020-07-07T17:56:35.013858Z"
    }
   },
   "outputs": [],
   "source": [
    "from fastai.imports import *"
   ]
  },
  {
   "cell_type": "code",
   "execution_count": 2,
   "metadata": {
    "ExecuteTime": {
     "end_time": "2020-07-07T17:57:07.475374Z",
     "start_time": "2020-07-07T17:57:07.472366Z"
    }
   },
   "outputs": [],
   "source": [
    "FILE = \"C:/Playground/bhaiya-orders/9th July - Fruits & Vegetable Order Form(2020-07-07).xlsx\""
   ]
  },
  {
   "cell_type": "code",
   "execution_count": 3,
   "metadata": {
    "ExecuteTime": {
     "end_time": "2020-07-07T17:57:08.223612Z",
     "start_time": "2020-07-07T17:57:08.177722Z"
    }
   },
   "outputs": [],
   "source": [
    "df = pd.read_excel(FILE)"
   ]
  },
  {
   "cell_type": "code",
   "execution_count": 4,
   "metadata": {
    "ExecuteTime": {
     "end_time": "2020-07-07T17:57:08.631553Z",
     "start_time": "2020-07-07T17:57:08.607644Z"
    }
   },
   "outputs": [
    {
     "data": {
      "text/html": [
       "<div>\n",
       "<style scoped>\n",
       "    .dataframe tbody tr th:only-of-type {\n",
       "        vertical-align: middle;\n",
       "    }\n",
       "\n",
       "    .dataframe tbody tr th {\n",
       "        vertical-align: top;\n",
       "    }\n",
       "\n",
       "    .dataframe thead th {\n",
       "        text-align: right;\n",
       "    }\n",
       "</style>\n",
       "<table border=\"1\" class=\"dataframe\">\n",
       "  <thead>\n",
       "    <tr style=\"text-align: right;\">\n",
       "      <th></th>\n",
       "      <th>Submission Date</th>\n",
       "      <th>Order Number#</th>\n",
       "      <th>First Name</th>\n",
       "      <th>Last Name</th>\n",
       "      <th>Select Drop Point and Building</th>\n",
       "      <th>Any other building?</th>\n",
       "      <th>Select Wing</th>\n",
       "      <th>Flat No</th>\n",
       "      <th>Phone Number</th>\n",
       "      <th>Email</th>\n",
       "      <th>Select Delivery Date</th>\n",
       "      <th>Your Order: Products</th>\n",
       "      <th>No Label</th>\n",
       "      <th>Any Pending credit from previous orders?</th>\n",
       "    </tr>\n",
       "  </thead>\n",
       "  <tbody>\n",
       "    <tr>\n",
       "      <th>0</th>\n",
       "      <td>2020-07-07 22:25:54</td>\n",
       "      <td>BHOR-0507</td>\n",
       "      <td>Payal</td>\n",
       "      <td>Sharma</td>\n",
       "      <td>Cosmic - Cosmic Heights</td>\n",
       "      <td>NaN</td>\n",
       "      <td>A Wing</td>\n",
       "      <td>1904</td>\n",
       "      <td>9930581815</td>\n",
       "      <td>payalmakhijani@gmail.com</td>\n",
       "      <td>Thursday 9th July</td>\n",
       "      <td>Baby Corn 300 gms (Amount: 60.00 INR, Select n...</td>\n",
       "      <td>Accepted\\n\\n1. All issues and complaints regar...</td>\n",
       "      <td>NaN</td>\n",
       "    </tr>\n",
       "    <tr>\n",
       "      <th>1</th>\n",
       "      <td>2020-07-07 22:06:39</td>\n",
       "      <td>BHOR-0506</td>\n",
       "      <td>Priyanka</td>\n",
       "      <td>Pipada</td>\n",
       "      <td>Aeon/Zeon - Zeon</td>\n",
       "      <td>NaN</td>\n",
       "      <td>B Wing</td>\n",
       "      <td>2901</td>\n",
       "      <td>9819714534</td>\n",
       "      <td>vaibhavkanyalkar@gmail.com</td>\n",
       "      <td>Thursday 9th July</td>\n",
       "      <td>Potato 1 Kg (Amount: 36.00 INR, Special Quanti...</td>\n",
       "      <td>Accepted\\n\\n1. All issues and complaints regar...</td>\n",
       "      <td>NaN</td>\n",
       "    </tr>\n",
       "    <tr>\n",
       "      <th>2</th>\n",
       "      <td>2020-07-07 20:56:14</td>\n",
       "      <td>BHOR-0505</td>\n",
       "      <td>Binita</td>\n",
       "      <td>Thakker</td>\n",
       "      <td>NCP - Tower 5</td>\n",
       "      <td>NaN</td>\n",
       "      <td>B Wing</td>\n",
       "      <td>202</td>\n",
       "      <td>9867490700</td>\n",
       "      <td>binitath@gmail.com</td>\n",
       "      <td>Thursday 9th July</td>\n",
       "      <td>Potato 1 Kg (Amount: 72.00 INR, Special Quanti...</td>\n",
       "      <td>Accepted\\n\\n1. All issues and complaints regar...</td>\n",
       "      <td>NaN</td>\n",
       "    </tr>\n",
       "    <tr>\n",
       "      <th>3</th>\n",
       "      <td>2020-07-07 20:21:49</td>\n",
       "      <td>BHOR-0504</td>\n",
       "      <td>Ranjana</td>\n",
       "      <td>Shah</td>\n",
       "      <td>Aeon/Zeon - Zeon</td>\n",
       "      <td>NaN</td>\n",
       "      <td>B Wing</td>\n",
       "      <td>B 1603</td>\n",
       "      <td>9999733628</td>\n",
       "      <td>ranjana.shah2010@gmail.com</td>\n",
       "      <td>Thursday 9th July</td>\n",
       "      <td>Onion Red 1 Kg (Amount: 60.00 INR, Special Qua...</td>\n",
       "      <td>Accepted\\n\\n1. All issues and complaints regar...</td>\n",
       "      <td>NaN</td>\n",
       "    </tr>\n",
       "    <tr>\n",
       "      <th>4</th>\n",
       "      <td>2020-07-07 20:21:03</td>\n",
       "      <td>BHOR-0503</td>\n",
       "      <td>Deepika</td>\n",
       "      <td>Mehta</td>\n",
       "      <td>NCP - Tower 6</td>\n",
       "      <td>NaN</td>\n",
       "      <td>B Wing</td>\n",
       "      <td>3302 b wing</td>\n",
       "      <td>9654138008</td>\n",
       "      <td>deepikamehta.16@gmail.com</td>\n",
       "      <td>Thursday 9th July</td>\n",
       "      <td>Potato 1 Kg (Amount: 36.00 INR, Special Quanti...</td>\n",
       "      <td>Accepted\\n\\n1. All issues and complaints regar...</td>\n",
       "      <td>NaN</td>\n",
       "    </tr>\n",
       "  </tbody>\n",
       "</table>\n",
       "</div>"
      ],
      "text/plain": [
       "      Submission Date Order Number# First Name Last Name  \\\n",
       "0 2020-07-07 22:25:54     BHOR-0507      Payal    Sharma   \n",
       "1 2020-07-07 22:06:39     BHOR-0506   Priyanka    Pipada   \n",
       "2 2020-07-07 20:56:14     BHOR-0505     Binita   Thakker   \n",
       "3 2020-07-07 20:21:49     BHOR-0504    Ranjana      Shah   \n",
       "4 2020-07-07 20:21:03     BHOR-0503    Deepika     Mehta   \n",
       "\n",
       "  Select Drop Point and Building Any other building? Select Wing      Flat No  \\\n",
       "0        Cosmic - Cosmic Heights                 NaN      A Wing         1904   \n",
       "1               Aeon/Zeon - Zeon                 NaN      B Wing         2901   \n",
       "2                  NCP - Tower 5                 NaN      B Wing          202   \n",
       "3               Aeon/Zeon - Zeon                 NaN      B Wing       B 1603   \n",
       "4                  NCP - Tower 6                 NaN      B Wing  3302 b wing   \n",
       "\n",
       "   Phone Number                       Email Select Delivery Date  \\\n",
       "0    9930581815    payalmakhijani@gmail.com    Thursday 9th July   \n",
       "1    9819714534  vaibhavkanyalkar@gmail.com    Thursday 9th July   \n",
       "2    9867490700          binitath@gmail.com    Thursday 9th July   \n",
       "3    9999733628  ranjana.shah2010@gmail.com    Thursday 9th July   \n",
       "4    9654138008   deepikamehta.16@gmail.com    Thursday 9th July   \n",
       "\n",
       "                                Your Order: Products  \\\n",
       "0  Baby Corn 300 gms (Amount: 60.00 INR, Select n...   \n",
       "1  Potato 1 Kg (Amount: 36.00 INR, Special Quanti...   \n",
       "2  Potato 1 Kg (Amount: 72.00 INR, Special Quanti...   \n",
       "3  Onion Red 1 Kg (Amount: 60.00 INR, Special Qua...   \n",
       "4  Potato 1 Kg (Amount: 36.00 INR, Special Quanti...   \n",
       "\n",
       "                                            No Label  \\\n",
       "0  Accepted\\n\\n1. All issues and complaints regar...   \n",
       "1  Accepted\\n\\n1. All issues and complaints regar...   \n",
       "2  Accepted\\n\\n1. All issues and complaints regar...   \n",
       "3  Accepted\\n\\n1. All issues and complaints regar...   \n",
       "4  Accepted\\n\\n1. All issues and complaints regar...   \n",
       "\n",
       "   Any Pending credit from previous orders?  \n",
       "0                                       NaN  \n",
       "1                                       NaN  \n",
       "2                                       NaN  \n",
       "3                                       NaN  \n",
       "4                                       NaN  "
      ]
     },
     "execution_count": 4,
     "metadata": {},
     "output_type": "execute_result"
    }
   ],
   "source": [
    "df.head()"
   ]
  },
  {
   "cell_type": "code",
   "execution_count": 5,
   "metadata": {
    "ExecuteTime": {
     "end_time": "2020-07-07T17:57:12.010685Z",
     "start_time": "2020-07-07T17:57:12.004700Z"
    }
   },
   "outputs": [
    {
     "data": {
      "text/plain": [
       "Index(['Submission Date', 'Order Number#', 'First Name', 'Last Name',\n",
       "       'Select Drop Point and Building', 'Any other building?', 'Select Wing',\n",
       "       'Flat No', 'Phone Number', 'Email', 'Select Delivery Date',\n",
       "       'Your Order: Products', 'No Label',\n",
       "       'Any Pending credit from previous orders?'],\n",
       "      dtype='object')"
      ]
     },
     "execution_count": 5,
     "metadata": {},
     "output_type": "execute_result"
    }
   ],
   "source": [
    "df.columns"
   ]
  },
  {
   "cell_type": "code",
   "execution_count": 5,
   "metadata": {
    "ExecuteTime": {
     "end_time": "2020-07-02T20:11:08.075881Z",
     "start_time": "2020-07-02T20:11:08.056919Z"
    }
   },
   "outputs": [],
   "source": [
    "df[\"Name\"] = df[df.columns[1]] + ' ' + df[df.columns[2]]"
   ]
  },
  {
   "cell_type": "code",
   "execution_count": 6,
   "metadata": {
    "ExecuteTime": {
     "end_time": "2020-07-02T20:11:10.279867Z",
     "start_time": "2020-07-02T20:11:10.275850Z"
    }
   },
   "outputs": [],
   "source": [
    "highlight_col = 'No Of Packets'"
   ]
  },
  {
   "cell_type": "code",
   "execution_count": 7,
   "metadata": {
    "ExecuteTime": {
     "end_time": "2020-07-02T20:11:11.569871Z",
     "start_time": "2020-07-02T20:11:11.565879Z"
    }
   },
   "outputs": [],
   "source": [
    "custs = df.Name.unique()"
   ]
  },
  {
   "cell_type": "code",
   "execution_count": 8,
   "metadata": {
    "ExecuteTime": {
     "end_time": "2020-07-02T20:11:12.576980Z",
     "start_time": "2020-07-02T20:11:12.573982Z"
    }
   },
   "outputs": [],
   "source": [
    "# with pd.ExcelWriter('output.xlsx') as writer:\n",
    "#     for cust in custs:\n",
    "#         df[df[df.columns[1]] == cust].to_excel(writer, sheet_name=cust)"
   ]
  },
  {
   "cell_type": "code",
   "execution_count": 9,
   "metadata": {
    "ExecuteTime": {
     "end_time": "2020-07-02T20:11:17.632127Z",
     "start_time": "2020-07-02T20:11:17.628138Z"
    }
   },
   "outputs": [],
   "source": [
    "def f(x):\n",
    "    col = highlight_col\n",
    "    r = 'background-color: none'\n",
    "    g = 'background-color: yellow'\n",
    "    c = np.where(x[col] > 1, g, r)\n",
    "    y = pd.DataFrame('', index=x.index, columns=x.columns)\n",
    "    y[col] = c\n",
    "    return y"
   ]
  },
  {
   "cell_type": "code",
   "execution_count": 10,
   "metadata": {
    "ExecuteTime": {
     "end_time": "2020-07-02T20:11:24.362012Z",
     "start_time": "2020-07-02T20:11:18.351607Z"
    }
   },
   "outputs": [],
   "source": [
    "all_data = 0\n",
    "\n",
    "with pd.ExcelWriter('formatted.xlsx') as writer:\n",
    "    for cust in custs:\n",
    "        c = cust.split()\n",
    "        data = df[df.Name == cust]\n",
    "        all_data += len(data.index)\n",
    "        styled = data.drop(columns=[\"Name\"]).style.apply(f, axis=None)\n",
    "        styled.to_excel(writer, sheet_name=cust, engine='openpyxl')"
   ]
  },
  {
   "cell_type": "code",
   "execution_count": 11,
   "metadata": {
    "ExecuteTime": {
     "end_time": "2020-07-02T20:11:24.368829Z",
     "start_time": "2020-07-02T20:11:24.363803Z"
    }
   },
   "outputs": [],
   "source": [
    "assert all_data == len(df)"
   ]
  },
  {
   "cell_type": "code",
   "execution_count": null,
   "metadata": {},
   "outputs": [],
   "source": []
  }
 ],
 "metadata": {
  "kernelspec": {
   "display_name": "Python [conda env:fastaiv1] *",
   "language": "python",
   "name": "conda-env-fastaiv1-py"
  },
  "language_info": {
   "codemirror_mode": {
    "name": "ipython",
    "version": 3
   },
   "file_extension": ".py",
   "mimetype": "text/x-python",
   "name": "python",
   "nbconvert_exporter": "python",
   "pygments_lexer": "ipython3",
   "version": "3.6.9"
  },
  "toc": {
   "base_numbering": 1,
   "nav_menu": {},
   "number_sections": true,
   "sideBar": true,
   "skip_h1_title": false,
   "title_cell": "Table of Contents",
   "title_sidebar": "Contents",
   "toc_cell": false,
   "toc_position": {},
   "toc_section_display": true,
   "toc_window_display": false
  }
 },
 "nbformat": 4,
 "nbformat_minor": 2
}
