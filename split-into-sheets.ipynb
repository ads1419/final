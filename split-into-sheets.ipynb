{
 "cells": [
  {
   "cell_type": "code",
   "execution_count": 3,
   "metadata": {
    "ExecuteTime": {
     "end_time": "2020-06-27T13:44:36.769700Z",
     "start_time": "2020-06-27T13:44:32.690707Z"
    }
   },
   "outputs": [],
   "source": [
    "from fastai.imports import *"
   ]
  },
  {
   "cell_type": "code",
   "execution_count": 4,
   "metadata": {
    "ExecuteTime": {
     "end_time": "2020-06-27T13:44:36.775552Z",
     "start_time": "2020-06-27T13:44:36.771572Z"
    }
   },
   "outputs": [],
   "source": [
    "FILE = \"Printout Data.xlsx\""
   ]
  },
  {
   "cell_type": "code",
   "execution_count": 5,
   "metadata": {
    "ExecuteTime": {
     "end_time": "2020-06-27T13:44:36.940110Z",
     "start_time": "2020-06-27T13:44:36.778542Z"
    }
   },
   "outputs": [],
   "source": [
    "df = pd.read_excel(FILE)"
   ]
  },
  {
   "cell_type": "code",
   "execution_count": 6,
   "metadata": {
    "ExecuteTime": {
     "end_time": "2020-06-27T13:44:36.967039Z",
     "start_time": "2020-06-27T13:44:36.943114Z"
    }
   },
   "outputs": [
    {
     "data": {
      "text/html": [
       "<div>\n",
       "<style scoped>\n",
       "    .dataframe tbody tr th:only-of-type {\n",
       "        vertical-align: middle;\n",
       "    }\n",
       "\n",
       "    .dataframe tbody tr th {\n",
       "        vertical-align: top;\n",
       "    }\n",
       "\n",
       "    .dataframe thead th {\n",
       "        text-align: right;\n",
       "    }\n",
       "</style>\n",
       "<table border=\"1\" class=\"dataframe\">\n",
       "  <thead>\n",
       "    <tr style=\"text-align: right;\">\n",
       "      <th></th>\n",
       "      <th>Sr. No.</th>\n",
       "      <th>Customer Name</th>\n",
       "      <th>Building Name</th>\n",
       "      <th>Final Item Name</th>\n",
       "      <th>Final Marathi Name</th>\n",
       "      <th>Final Weight</th>\n",
       "      <th>No Of Packets</th>\n",
       "      <th>Unit/Grm</th>\n",
       "      <th>Drop Point</th>\n",
       "    </tr>\n",
       "  </thead>\n",
       "  <tbody>\n",
       "    <tr>\n",
       "      <th>0</th>\n",
       "      <td>1</td>\n",
       "      <td>Rashmita  Sundaram</td>\n",
       "      <td>Aeon A</td>\n",
       "      <td>Potato</td>\n",
       "      <td>बटाटा</td>\n",
       "      <td>1000</td>\n",
       "      <td>1</td>\n",
       "      <td>Grm</td>\n",
       "      <td>Aeon / Zeon</td>\n",
       "    </tr>\n",
       "    <tr>\n",
       "      <th>1</th>\n",
       "      <td>1</td>\n",
       "      <td>Rashmita  Sundaram</td>\n",
       "      <td>Aeon A</td>\n",
       "      <td>Onion Red</td>\n",
       "      <td>कांदा लाल</td>\n",
       "      <td>1000</td>\n",
       "      <td>1</td>\n",
       "      <td>Grm</td>\n",
       "      <td>Aeon / Zeon</td>\n",
       "    </tr>\n",
       "    <tr>\n",
       "      <th>2</th>\n",
       "      <td>1</td>\n",
       "      <td>Rashmita  Sundaram</td>\n",
       "      <td>Aeon A</td>\n",
       "      <td>Cauliflower</td>\n",
       "      <td>फुलकोबी</td>\n",
       "      <td>1</td>\n",
       "      <td>1</td>\n",
       "      <td>Unit</td>\n",
       "      <td>Aeon / Zeon</td>\n",
       "    </tr>\n",
       "    <tr>\n",
       "      <th>3</th>\n",
       "      <td>1</td>\n",
       "      <td>Rashmita  Sundaram</td>\n",
       "      <td>Aeon A</td>\n",
       "      <td>Cabbage</td>\n",
       "      <td>कोबी</td>\n",
       "      <td>1</td>\n",
       "      <td>1</td>\n",
       "      <td>Unit</td>\n",
       "      <td>Aeon / Zeon</td>\n",
       "    </tr>\n",
       "    <tr>\n",
       "      <th>4</th>\n",
       "      <td>1</td>\n",
       "      <td>Rashmita  Sundaram</td>\n",
       "      <td>Aeon A</td>\n",
       "      <td>Coconut</td>\n",
       "      <td>नारळ</td>\n",
       "      <td>1</td>\n",
       "      <td>1</td>\n",
       "      <td>Unit</td>\n",
       "      <td>Aeon / Zeon</td>\n",
       "    </tr>\n",
       "    <tr>\n",
       "      <th>...</th>\n",
       "      <td>...</td>\n",
       "      <td>...</td>\n",
       "      <td>...</td>\n",
       "      <td>...</td>\n",
       "      <td>...</td>\n",
       "      <td>...</td>\n",
       "      <td>...</td>\n",
       "      <td>...</td>\n",
       "      <td>...</td>\n",
       "    </tr>\n",
       "    <tr>\n",
       "      <th>1227</th>\n",
       "      <td>87</td>\n",
       "      <td>Ritu Shri</td>\n",
       "      <td>Elisium</td>\n",
       "      <td>Pineapple</td>\n",
       "      <td>अननस</td>\n",
       "      <td>1</td>\n",
       "      <td>1</td>\n",
       "      <td>Unit</td>\n",
       "      <td>NCP</td>\n",
       "    </tr>\n",
       "    <tr>\n",
       "      <th>1228</th>\n",
       "      <td>87</td>\n",
       "      <td>Ritu Shri</td>\n",
       "      <td>Elisium</td>\n",
       "      <td>Ginger</td>\n",
       "      <td>आले</td>\n",
       "      <td>250</td>\n",
       "      <td>1</td>\n",
       "      <td>Grm</td>\n",
       "      <td>NCP</td>\n",
       "    </tr>\n",
       "    <tr>\n",
       "      <th>1229</th>\n",
       "      <td>87</td>\n",
       "      <td>Ritu Shri</td>\n",
       "      <td>Elisium</td>\n",
       "      <td>Lemons</td>\n",
       "      <td>लिंबू</td>\n",
       "      <td>5</td>\n",
       "      <td>1</td>\n",
       "      <td>Unit</td>\n",
       "      <td>NCP</td>\n",
       "    </tr>\n",
       "    <tr>\n",
       "      <th>1230</th>\n",
       "      <td>87</td>\n",
       "      <td>Ritu Shri</td>\n",
       "      <td>Elisium</td>\n",
       "      <td>Coriander</td>\n",
       "      <td>कोथिंबीर</td>\n",
       "      <td>1</td>\n",
       "      <td>1</td>\n",
       "      <td>Unit</td>\n",
       "      <td>NCP</td>\n",
       "    </tr>\n",
       "    <tr>\n",
       "      <th>1231</th>\n",
       "      <td>87</td>\n",
       "      <td>Ritu Shri</td>\n",
       "      <td>Elisium</td>\n",
       "      <td>Basil Leaves</td>\n",
       "      <td>तुळशीची पाने</td>\n",
       "      <td>100</td>\n",
       "      <td>1</td>\n",
       "      <td>Grm</td>\n",
       "      <td>NCP</td>\n",
       "    </tr>\n",
       "  </tbody>\n",
       "</table>\n",
       "<p>1232 rows × 9 columns</p>\n",
       "</div>"
      ],
      "text/plain": [
       "      Sr. No.        Customer Name Building Name Final Item Name  \\\n",
       "0           1  Rashmita  Sundaram         Aeon A          Potato   \n",
       "1           1  Rashmita  Sundaram         Aeon A       Onion Red   \n",
       "2           1  Rashmita  Sundaram         Aeon A     Cauliflower   \n",
       "3           1  Rashmita  Sundaram         Aeon A         Cabbage   \n",
       "4           1  Rashmita  Sundaram         Aeon A         Coconut   \n",
       "...       ...                  ...           ...             ...   \n",
       "1227       87            Ritu Shri      Elisium        Pineapple   \n",
       "1228       87            Ritu Shri      Elisium           Ginger   \n",
       "1229       87            Ritu Shri      Elisium           Lemons   \n",
       "1230       87            Ritu Shri      Elisium        Coriander   \n",
       "1231       87            Ritu Shri      Elisium     Basil Leaves   \n",
       "\n",
       "     Final Marathi Name  Final Weight  No Of Packets Unit/Grm    Drop Point  \n",
       "0                 बटाटा          1000              1      Grm  Aeon / Zeon   \n",
       "1             कांदा लाल          1000              1      Grm  Aeon / Zeon   \n",
       "2               फुलकोबी             1              1     Unit  Aeon / Zeon   \n",
       "3                  कोबी             1              1     Unit  Aeon / Zeon   \n",
       "4                  नारळ             1              1     Unit  Aeon / Zeon   \n",
       "...                 ...           ...            ...      ...           ...  \n",
       "1227               अननस             1              1     Unit           NCP  \n",
       "1228                आले           250              1      Grm           NCP  \n",
       "1229              लिंबू             5              1     Unit           NCP  \n",
       "1230           कोथिंबीर             1              1     Unit           NCP  \n",
       "1231       तुळशीची पाने           100              1      Grm           NCP  \n",
       "\n",
       "[1232 rows x 9 columns]"
      ]
     },
     "execution_count": 6,
     "metadata": {},
     "output_type": "execute_result"
    }
   ],
   "source": [
    "df"
   ]
  },
  {
   "cell_type": "code",
   "execution_count": 7,
   "metadata": {
    "ExecuteTime": {
     "end_time": "2020-06-27T13:44:44.698153Z",
     "start_time": "2020-06-27T13:44:44.694164Z"
    }
   },
   "outputs": [],
   "source": [
    "custs = df[\"Customer Name\"].unique()"
   ]
  },
  {
   "cell_type": "code",
   "execution_count": 9,
   "metadata": {
    "ExecuteTime": {
     "end_time": "2020-06-27T13:44:54.352248Z",
     "start_time": "2020-06-27T13:44:52.978067Z"
    }
   },
   "outputs": [],
   "source": [
    "with pd.ExcelWriter('output.xlsx') as writer:\n",
    "    for cust in custs:\n",
    "        df[df[\"Customer Name\"] == cust].to_excel(writer, sheet_name=cust)"
   ]
  },
  {
   "cell_type": "code",
   "execution_count": null,
   "metadata": {},
   "outputs": [],
   "source": []
  }
 ],
 "metadata": {
  "kernelspec": {
   "display_name": "Python [conda env:fastaiv1] *",
   "language": "python",
   "name": "conda-env-fastaiv1-py"
  },
  "language_info": {
   "codemirror_mode": {
    "name": "ipython",
    "version": 3
   },
   "file_extension": ".py",
   "mimetype": "text/x-python",
   "name": "python",
   "nbconvert_exporter": "python",
   "pygments_lexer": "ipython3",
   "version": "3.6.9"
  },
  "toc": {
   "base_numbering": 1,
   "nav_menu": {},
   "number_sections": true,
   "sideBar": true,
   "skip_h1_title": false,
   "title_cell": "Table of Contents",
   "title_sidebar": "Contents",
   "toc_cell": false,
   "toc_position": {},
   "toc_section_display": true,
   "toc_window_display": false
  }
 },
 "nbformat": 4,
 "nbformat_minor": 2
}
