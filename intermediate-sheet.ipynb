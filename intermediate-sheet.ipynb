{
 "cells": [
  {
   "cell_type": "markdown",
   "metadata": {},
   "source": [
    "# Customer Wise | Unavailable Translation Files"
   ]
  },
  {
   "cell_type": "code",
   "execution_count": 32,
   "metadata": {
    "ExecuteTime": {
     "end_time": "2020-07-23T17:08:25.229597Z",
     "start_time": "2020-07-23T17:08:25.225610Z"
    }
   },
   "outputs": [],
   "source": [
    "import pandas as pd\n",
    "import re\n",
    "from pathlib import Path\n",
    "import numpy as np\n",
    "import os"
   ]
  },
  {
   "cell_type": "code",
   "execution_count": 33,
   "metadata": {
    "ExecuteTime": {
     "end_time": "2020-07-23T17:08:26.702239Z",
     "start_time": "2020-07-23T17:08:26.699261Z"
    }
   },
   "outputs": [],
   "source": [
    "OUTPUT_DIR = Path(\"C:/Playground/bhaiya-orders/outputs/\")"
   ]
  },
  {
   "cell_type": "code",
   "execution_count": 34,
   "metadata": {
    "ExecuteTime": {
     "end_time": "2020-07-23T17:08:27.386061Z",
     "start_time": "2020-07-23T17:08:27.382070Z"
    }
   },
   "outputs": [],
   "source": [
    "from ipyfilechooser import FileChooser"
   ]
  },
  {
   "cell_type": "code",
   "execution_count": 35,
   "metadata": {
    "ExecuteTime": {
     "end_time": "2020-07-23T17:08:27.991758Z",
     "start_time": "2020-07-23T17:08:27.903994Z"
    }
   },
   "outputs": [
    {
     "data": {
      "application/vnd.jupyter.widget-view+json": {
       "model_id": "1ec1d0f932f649fe8413409815e95640",
       "version_major": 2,
       "version_minor": 0
      },
      "text/plain": [
       "FileChooser(path='C:/Playground/bhaiya-orders/inputs/', filename='', show_hidden='False')"
      ]
     },
     "metadata": {},
     "output_type": "display_data"
    }
   ],
   "source": [
    "fc = FileChooser(\"C:/Playground/bhaiya-orders/inputs/\")\n",
    "fc.use_dir_icons = True\n",
    "display(fc)"
   ]
  },
  {
   "cell_type": "code",
   "execution_count": 36,
   "metadata": {
    "ExecuteTime": {
     "end_time": "2020-07-23T17:08:35.376460Z",
     "start_time": "2020-07-23T17:08:35.372466Z"
    }
   },
   "outputs": [],
   "source": [
    "FILE = Path(fc.selected)"
   ]
  },
  {
   "cell_type": "markdown",
   "metadata": {},
   "source": [
    "Try to read valid `csv` and `xlsx` files into a dataframe `df`. "
   ]
  },
  {
   "cell_type": "markdown",
   "metadata": {},
   "source": [
    "## Read Translations"
   ]
  },
  {
   "cell_type": "code",
   "execution_count": 37,
   "metadata": {
    "ExecuteTime": {
     "end_time": "2020-07-23T17:08:51.229828Z",
     "start_time": "2020-07-23T17:08:51.214865Z"
    }
   },
   "outputs": [],
   "source": [
    "df_trans = pd.read_excel(\"C:/Playground/bhaiya-orders/translations.xlsx\")"
   ]
  },
  {
   "cell_type": "markdown",
   "metadata": {},
   "source": [
    "### Drop Kiwi, Coconut Translation"
   ]
  },
  {
   "cell_type": "code",
   "execution_count": 38,
   "metadata": {
    "ExecuteTime": {
     "end_time": "2020-07-23T17:08:52.354067Z",
     "start_time": "2020-07-23T17:08:52.350076Z"
    }
   },
   "outputs": [],
   "source": [
    "from fuzzywuzzy import fuzz"
   ]
  },
  {
   "cell_type": "code",
   "execution_count": 39,
   "metadata": {
    "ExecuteTime": {
     "end_time": "2020-07-23T17:08:57.126336Z",
     "start_time": "2020-07-23T17:08:57.122313Z"
    }
   },
   "outputs": [],
   "source": [
    "def get_match(x, thresh=65):\n",
    "    x = x.lower()\n",
    "    rmax = -1\n",
    "    for k in items: \n",
    "        if fuzz.partial_ratio(k, x) > rmax:\n",
    "            rmax = fuzz.partial_ratio(k, x)\n",
    "\n",
    "    if rmax > thresh:\n",
    "        return True\n",
    "    return False"
   ]
  },
  {
   "cell_type": "code",
   "execution_count": 40,
   "metadata": {
    "ExecuteTime": {
     "end_time": "2020-07-23T17:08:59.596084Z",
     "start_time": "2020-07-23T17:08:59.593092Z"
    }
   },
   "outputs": [],
   "source": [
    "items = ['coconut', 'kiwi']"
   ]
  },
  {
   "cell_type": "code",
   "execution_count": 41,
   "metadata": {
    "ExecuteTime": {
     "end_time": "2020-07-23T17:08:59.881346Z",
     "start_time": "2020-07-23T17:08:59.851652Z"
    }
   },
   "outputs": [
    {
     "data": {
      "text/plain": [
       "array(['Coconut', 'Kiwi Imported', 'Coconut Mangalore Small',\n",
       "       'Kiwi Imported', ' Coconut Mangalore Big',\n",
       "       ' Coconut Mangalore Medium'], dtype=object)"
      ]
     },
     "execution_count": 41,
     "metadata": {},
     "output_type": "execute_result"
    }
   ],
   "source": [
    "keys2drop = df_trans[df_trans['Final Item Name'].apply(get_match)]['Final Item Name'].values; keys2drop"
   ]
  },
  {
   "cell_type": "code",
   "execution_count": 42,
   "metadata": {
    "ExecuteTime": {
     "end_time": "2020-07-23T17:09:08.361967Z",
     "start_time": "2020-07-23T17:09:08.355013Z"
    }
   },
   "outputs": [],
   "source": [
    "df_trans = df_trans.set_index('Final Item Name').drop(keys2drop).reset_index()"
   ]
  },
  {
   "cell_type": "code",
   "execution_count": 43,
   "metadata": {
    "ExecuteTime": {
     "end_time": "2020-07-23T17:09:09.001482Z",
     "start_time": "2020-07-23T17:09:08.994501Z"
    }
   },
   "outputs": [],
   "source": [
    "eng2marathi = df_trans.set_index('Final Item Name').to_dict()['Final Marathi Name']\n",
    "marathi2eng = df_trans.set_index('Final Marathi Name').to_dict()['Final Item Name']\n",
    "marathi2eng[np.nan] = ''"
   ]
  },
  {
   "cell_type": "code",
   "execution_count": 44,
   "metadata": {
    "ExecuteTime": {
     "end_time": "2020-07-23T17:09:10.420112Z",
     "start_time": "2020-07-23T17:09:10.376230Z"
    }
   },
   "outputs": [],
   "source": [
    "try:\n",
    "    if 'csv' in FILE.suffix: df = pd.read_csv(FILE)\n",
    "    else: df = pd.read_excel(FILE)\n",
    "except OSError:\n",
    "    print(\"Error occured, invalid file!\")"
   ]
  },
  {
   "cell_type": "code",
   "execution_count": 45,
   "metadata": {
    "ExecuteTime": {
     "end_time": "2020-07-23T17:09:10.614283Z",
     "start_time": "2020-07-23T17:09:10.597354Z"
    }
   },
   "outputs": [
    {
     "data": {
      "text/html": [
       "<div>\n",
       "<style scoped>\n",
       "    .dataframe tbody tr th:only-of-type {\n",
       "        vertical-align: middle;\n",
       "    }\n",
       "\n",
       "    .dataframe tbody tr th {\n",
       "        vertical-align: top;\n",
       "    }\n",
       "\n",
       "    .dataframe thead th {\n",
       "        text-align: right;\n",
       "    }\n",
       "</style>\n",
       "<table border=\"1\" class=\"dataframe\">\n",
       "  <thead>\n",
       "    <tr style=\"text-align: right;\">\n",
       "      <th></th>\n",
       "      <th>Submission Date</th>\n",
       "      <th>Order Number#</th>\n",
       "      <th>Token</th>\n",
       "      <th>First Name</th>\n",
       "      <th>Last Name</th>\n",
       "      <th>Select Drop Point and Building</th>\n",
       "      <th>Any other building?</th>\n",
       "      <th>Select Wing</th>\n",
       "      <th>Flat No</th>\n",
       "      <th>Phone Number</th>\n",
       "      <th>Email</th>\n",
       "      <th>Select Delivery Date</th>\n",
       "      <th>Your Order: Products</th>\n",
       "      <th>No Label</th>\n",
       "      <th>Any pending unadjusted credit from previous orders?</th>\n",
       "    </tr>\n",
       "  </thead>\n",
       "  <tbody>\n",
       "    <tr>\n",
       "      <th>117</th>\n",
       "      <td>2020-07-22 17:24:18</td>\n",
       "      <td>BHOR-0961</td>\n",
       "      <td>118</td>\n",
       "      <td>Malavika</td>\n",
       "      <td>Adkoli</td>\n",
       "      <td>Sector 1/2 - Silver Arch</td>\n",
       "      <td>NaN</td>\n",
       "      <td>A Wing</td>\n",
       "      <td>602</td>\n",
       "      <td>9819321913</td>\n",
       "      <td>malavika.adkoli@gmail.com</td>\n",
       "      <td>Friday 24th July</td>\n",
       "      <td>Potato 1 Kg (Amount: 80.00 INR, Special Quanti...</td>\n",
       "      <td>Accepted\\n\\n1. All issues and complaints regar...</td>\n",
       "      <td>NaN</td>\n",
       "    </tr>\n",
       "    <tr>\n",
       "      <th>118</th>\n",
       "      <td>2020-07-20 23:39:04</td>\n",
       "      <td>BHOR-0892</td>\n",
       "      <td>119</td>\n",
       "      <td>Suresh</td>\n",
       "      <td>Shiudkar</td>\n",
       "      <td>Sector 1/2 - Topaz</td>\n",
       "      <td>NaN</td>\n",
       "      <td>NaN</td>\n",
       "      <td>104</td>\n",
       "      <td>9820053416</td>\n",
       "      <td>aakarsuresh@yahoo.co.in</td>\n",
       "      <td>Friday 24th July</td>\n",
       "      <td>Coconut Mangalore Small per 300 gms (Amount: 6...</td>\n",
       "      <td>Accepted\\n\\n1. All issues and complaints regar...</td>\n",
       "      <td>NaN</td>\n",
       "    </tr>\n",
       "  </tbody>\n",
       "</table>\n",
       "</div>"
      ],
      "text/plain": [
       "        Submission Date Order Number#  Token First Name Last Name  \\\n",
       "117 2020-07-22 17:24:18     BHOR-0961    118   Malavika    Adkoli   \n",
       "118 2020-07-20 23:39:04     BHOR-0892    119     Suresh  Shiudkar   \n",
       "\n",
       "    Select Drop Point and Building  Any other building? Select Wing Flat No  \\\n",
       "117       Sector 1/2 - Silver Arch                  NaN      A Wing     602   \n",
       "118             Sector 1/2 - Topaz                  NaN         NaN     104   \n",
       "\n",
       "     Phone Number                      Email Select Delivery Date  \\\n",
       "117    9819321913  malavika.adkoli@gmail.com     Friday 24th July   \n",
       "118    9820053416    aakarsuresh@yahoo.co.in     Friday 24th July   \n",
       "\n",
       "                                  Your Order: Products  \\\n",
       "117  Potato 1 Kg (Amount: 80.00 INR, Special Quanti...   \n",
       "118  Coconut Mangalore Small per 300 gms (Amount: 6...   \n",
       "\n",
       "                                              No Label  \\\n",
       "117  Accepted\\n\\n1. All issues and complaints regar...   \n",
       "118  Accepted\\n\\n1. All issues and complaints regar...   \n",
       "\n",
       "     Any pending unadjusted credit from previous orders?  \n",
       "117                                                NaN    \n",
       "118                                                NaN    "
      ]
     },
     "execution_count": 45,
     "metadata": {},
     "output_type": "execute_result"
    }
   ],
   "source": [
    "df.tail(2)"
   ]
  },
  {
   "cell_type": "code",
   "execution_count": 46,
   "metadata": {
    "ExecuteTime": {
     "end_time": "2020-07-23T17:09:12.689157Z",
     "start_time": "2020-07-23T17:09:12.681147Z"
    }
   },
   "outputs": [],
   "source": [
    "df.fillna('', inplace=True)"
   ]
  },
  {
   "cell_type": "code",
   "execution_count": 47,
   "metadata": {
    "ExecuteTime": {
     "end_time": "2020-07-23T17:09:12.930939Z",
     "start_time": "2020-07-23T17:09:12.925953Z"
    }
   },
   "outputs": [],
   "source": [
    "for col in df.columns:\n",
    "    if \"Your Order\" in col:\n",
    "        your_order = col\n",
    "        \n",
    "    if \"token\" in col.lower():\n",
    "        token = col\n",
    "        \n",
    "    if \"flat\" in col.lower():\n",
    "        flat = col\n",
    "        \n",
    "    if \"delivery\" in col.lower() and \"date\" in col.lower():\n",
    "        delivery_date = col"
   ]
  },
  {
   "cell_type": "code",
   "execution_count": 48,
   "metadata": {
    "ExecuteTime": {
     "end_time": "2020-07-23T17:09:14.843219Z",
     "start_time": "2020-07-23T17:09:14.832248Z"
    }
   },
   "outputs": [],
   "source": [
    "def get_item_name(order):\n",
    "    '''\n",
    "    Return the Item Name, Final Weight, Num Packets, Unit\n",
    "    '''\n",
    "    \n",
    "    stopwords = ['per', 'gms', 'gm', 'kgs', 'kg', 'pack', 'each']\n",
    "    \n",
    "    # parse the key, stop when you encounter a number, unit, keyword like 'per', 'pack'\n",
    "    item = order.split('(')[0].strip()\n",
    "    item = re.sub('[0-9]+', ' ', item)\n",
    "    item = item.split()\n",
    "#     print(item)\n",
    "    final_item = ''\n",
    "    for token in item:\n",
    "        if token.lower() in stopwords:\n",
    "            break\n",
    "        final_item += ' ' + token\n",
    "    \n",
    "    return final_item.strip()\n",
    "\n",
    "\n",
    "def get_qty(txt):\n",
    "    \n",
    "    \"\"\"\n",
    "        Returns the Special Quantity key for a given order. \n",
    "            Sample input string: '...no. of 500 gm packets required: 1)'\n",
    "            Returns: 1\n",
    "    \"\"\"\n",
    "    \n",
    "    if txt[-1] != ')':  txt = txt + ')'\n",
    "    \n",
    "    match = re.search(\": ([0-9]+?)\\)\", txt)\n",
    "\n",
    "    # temporary fix for VNR Guava\n",
    "    if \"VNR Guava Per Kg (\" in txt: match = re.search(\"\\(([0-9]+?)\", txt)\n",
    "    \n",
    "    if match:\n",
    "        return int(match.group(1))\n",
    "    \n",
    "    \n",
    "def extract_num(txt):\n",
    "    \n",
    "    \"\"\"\n",
    "        Searches a string and returns the last number found, if present. \n",
    "        Otherwise return 1.\n",
    "        Use case: For an item key such as 'Tondli 300 gms ', return 300 (to calculate total qty required)\n",
    "    \"\"\"\n",
    "    \n",
    "    match = re.findall(\"([0-9]+)\", txt)\n",
    "    if match:\n",
    "        return int(match[-1])\n",
    "    else:\n",
    "        return 1\n",
    "    \n",
    "    \n",
    "    \n",
    "def get_unit(txt):\n",
    "    \"\"\"\n",
    "        Gets unit from an item string.\n",
    "        Assumption: standard occurence of units all across the board. \n",
    "    \"\"\"\n",
    "    txt = txt.lower()\n",
    "    if txt.find(' gm') != -1: unit = 'gms'\n",
    "    elif (txt.find(' pc') != -1) or (txt.find(' pack') != -1): unit = 'pcs'\n",
    "    elif txt.find(' bunch') != -1: unit = 'bunches'\n",
    "    else: unit = 'kgs'\n",
    "    return unit"
   ]
  },
  {
   "cell_type": "code",
   "execution_count": 49,
   "metadata": {
    "ExecuteTime": {
     "end_time": "2020-07-23T17:09:16.854976Z",
     "start_time": "2020-07-23T17:09:16.848991Z"
    }
   },
   "outputs": [],
   "source": [
    "def parse_order(order):\n",
    "    '''\n",
    "    Return the Item Name, Final Weight, Num Packets, Unit\n",
    "    '''\n",
    "    if len(order.split('(')) < 2: return None\n",
    "    \n",
    "    item_name = get_item_name(order)\n",
    "    num_packets = get_qty(order)\n",
    "    unit = get_unit(order)\n",
    "    qty_per_pack = extract_num(order.split('(')[0])\n",
    "    final_weight = qty_per_pack * num_packets\n",
    "\n",
    "    return {\"item_name\": item_name,\n",
    "            \"num_packets\": num_packets,\n",
    "            \"unit\": unit,\n",
    "            \"final_weight\": final_weight}"
   ]
  },
  {
   "cell_type": "code",
   "execution_count": 50,
   "metadata": {
    "ExecuteTime": {
     "end_time": "2020-07-23T17:09:17.097453Z",
     "start_time": "2020-07-23T17:09:17.091468Z"
    }
   },
   "outputs": [],
   "source": [
    "from fuzzywuzzy import fuzz\n",
    "\n",
    "def get_trans(x, thresh=85):\n",
    "    rmax = -1\n",
    "    trans = ''\n",
    "    for k in eng2marathi.keys():\n",
    "        if fuzz.ratio(k, x) > rmax:\n",
    "            rmax = fuzz.ratio(k, x)\n",
    "            trans = eng2marathi[k]\n",
    "\n",
    "    if rmax > thresh:\n",
    "        return trans\n",
    "    return np.nan"
   ]
  },
  {
   "cell_type": "markdown",
   "metadata": {},
   "source": [
    "## For Thane"
   ]
  },
  {
   "cell_type": "code",
   "execution_count": 51,
   "metadata": {
    "ExecuteTime": {
     "end_time": "2020-07-23T17:09:19.241030Z",
     "start_time": "2020-07-23T17:09:19.237040Z"
    }
   },
   "outputs": [],
   "source": [
    "# rows_list = []\n",
    "# for index, row in df.iterrows():\n",
    "#     for order in row[your_order].split(')'):\n",
    "#         parsed = parse_order(order)\n",
    "#         if parsed:\n",
    "#             row_dict = {}\n",
    "            \n",
    "#             row_dict['token_no'] = row[token]\n",
    "#             row_dict['first_name'] = row[\"First Name\"]\n",
    "#             row_dict['last_name'] = row[\"Last Name\"]\n",
    "# #             row_dict['delivery_date'] = row['Select Delivery Date']\n",
    "#             row_dict['item_name'] = parsed['item_name']\n",
    "#             row_dict['marathi_name'] = get_trans(row_dict['item_name'])\n",
    "#             row_dict['num_packets'] = parsed['num_packets']\n",
    "#             row_dict['final_weight'] = parsed['final_weight']\n",
    "#             row_dict['unit'] = parsed['unit']\n",
    "#             row_dict['drop_point'] = row['Enter Building Name']\n",
    "# #             row_dict['wing'] = row['Select Wing']\n",
    "#             row_dict['flat_no'] = row[flat]\n",
    "            \n",
    "#             rows_list.append(row_dict)"
   ]
  },
  {
   "cell_type": "markdown",
   "metadata": {
    "ExecuteTime": {
     "end_time": "2020-07-07T22:33:26.731616Z",
     "start_time": "2020-07-07T22:33:26.727599Z"
    }
   },
   "source": [
    "## For Non Thane"
   ]
  },
  {
   "cell_type": "code",
   "execution_count": 52,
   "metadata": {
    "ExecuteTime": {
     "end_time": "2020-07-23T17:09:26.301483Z",
     "start_time": "2020-07-23T17:09:21.914080Z"
    }
   },
   "outputs": [],
   "source": [
    "rows_list = []\n",
    "for index, row in df.iterrows():\n",
    "    for order in row[your_order].split(')'):\n",
    "        parsed = parse_order(order)\n",
    "        if parsed:\n",
    "            row_dict = {}\n",
    "            \n",
    "            row_dict['token_no'] = row[token]\n",
    "            row_dict['first_name'] = row[\"First Name\"]\n",
    "            row_dict['last_name'] = row[\"Last Name\"]\n",
    "            row_dict['delivery_date'] = row[delivery_date]\n",
    "            row_dict['item_name'] = parsed['item_name']\n",
    "            row_dict['marathi_name'] = get_trans(row_dict['item_name'])\n",
    "            row_dict['num_packets'] = parsed['num_packets']\n",
    "            row_dict['final_weight'] = parsed['final_weight']\n",
    "            row_dict['unit'] = parsed['unit']\n",
    "            if row['Select Drop Point and Building'] != '': \n",
    "                row_dict['drop_point'] = row['Select Drop Point and Building'].split('-')[0]\n",
    "            row_dict['flat_no'] = row[flat]\n",
    "            row_dict['phone_no'] = row['Phone Number']\n",
    "            row_dict['email'] = row['Email']\n",
    "            \n",
    "            rows_list.append(row_dict)"
   ]
  },
  {
   "cell_type": "code",
   "execution_count": 53,
   "metadata": {
    "ExecuteTime": {
     "end_time": "2020-07-23T17:09:30.997854Z",
     "start_time": "2020-07-23T17:09:30.987868Z"
    }
   },
   "outputs": [],
   "source": [
    "new_df = pd.DataFrame(rows_list)"
   ]
  },
  {
   "cell_type": "code",
   "execution_count": 54,
   "metadata": {
    "ExecuteTime": {
     "end_time": "2020-07-23T17:09:31.742122Z",
     "start_time": "2020-07-23T17:09:31.739107Z"
    }
   },
   "outputs": [],
   "source": [
    "# # checker for translations\n",
    "# new_df['checker'] = new_df.marathi_name.apply(lambda x: marathi2eng[x])\n",
    "# new_df.groupby('item_name').first()['checker']"
   ]
  },
  {
   "cell_type": "markdown",
   "metadata": {},
   "source": [
    "## Set Up SavePath"
   ]
  },
  {
   "cell_type": "code",
   "execution_count": 55,
   "metadata": {
    "ExecuteTime": {
     "end_time": "2020-07-23T17:09:33.733528Z",
     "start_time": "2020-07-23T17:09:33.728508Z"
    }
   },
   "outputs": [],
   "source": [
    "save_pth = OUTPUT_DIR/FILE.stem\n",
    "os.makedirs(save_pth, exist_ok=True)"
   ]
  },
  {
   "cell_type": "markdown",
   "metadata": {},
   "source": [
    "## Subset Item Files"
   ]
  },
  {
   "cell_type": "code",
   "execution_count": 56,
   "metadata": {
    "ExecuteTime": {
     "end_time": "2020-07-23T17:11:27.625716Z",
     "start_time": "2020-07-23T17:11:27.621760Z"
    }
   },
   "outputs": [],
   "source": [
    "items = ['tondli']"
   ]
  },
  {
   "cell_type": "code",
   "execution_count": 64,
   "metadata": {
    "ExecuteTime": {
     "end_time": "2020-07-23T17:13:39.054134Z",
     "start_time": "2020-07-23T17:13:39.045134Z"
    }
   },
   "outputs": [
    {
     "data": {
      "text/plain": [
       "'nottondli-Input final 24th'"
      ]
     },
     "execution_count": 64,
     "metadata": {},
     "output_type": "execute_result"
    }
   ],
   "source": [
    "prefix = \"\".join(items)\n",
    "unavl_pth = save_pth/f'{prefix}-{str(FILE.stem)}.csv'; unavl_pth.stem"
   ]
  },
  {
   "cell_type": "code",
   "execution_count": 58,
   "metadata": {
    "ExecuteTime": {
     "end_time": "2020-07-23T17:11:29.606313Z",
     "start_time": "2020-07-23T17:11:29.602355Z"
    }
   },
   "outputs": [],
   "source": [
    "from functools import partial\n",
    "\n",
    "f = partial(get_match, thresh=75)"
   ]
  },
  {
   "cell_type": "code",
   "execution_count": 59,
   "metadata": {
    "ExecuteTime": {
     "end_time": "2020-07-23T17:11:42.212408Z",
     "start_time": "2020-07-23T17:11:41.933564Z"
    }
   },
   "outputs": [],
   "source": [
    "idxs = new_df.item_name.apply(f)"
   ]
  },
  {
   "cell_type": "code",
   "execution_count": 62,
   "metadata": {
    "ExecuteTime": {
     "end_time": "2020-07-23T17:12:28.268839Z",
     "start_time": "2020-07-23T17:12:28.263840Z"
    }
   },
   "outputs": [],
   "source": [
    "# idxs = ~idxs"
   ]
  },
  {
   "cell_type": "code",
   "execution_count": 63,
   "metadata": {
    "ExecuteTime": {
     "end_time": "2020-07-23T17:12:33.037065Z",
     "start_time": "2020-07-23T17:12:33.029062Z"
    }
   },
   "outputs": [
    {
     "data": {
      "text/plain": [
       "array(['Baby Potato', 'Onion Red', 'Bitter Gourd', 'Button Mushroom',\n",
       "       'Tomato', 'Broccoli', 'Lemons', 'Coriander Leaves',\n",
       "       'Palak/ Spinach Leaves', 'Methi Leaves', 'Spring Onions',\n",
       "       'Basil Leaves', 'Potato', 'Brinjal Bharta', 'Pumpkin',\n",
       "       'Coconut Mangalore Medium', 'Brinjal Kateri', 'Cucumber',\n",
       "       \"Bhindi/Lady's Finger\", 'Bottle Gourd', 'Cherry Tomato',\n",
       "       'Sweet Corn', 'VNR Guava', 'Apples Royal Gala', 'Mosambi',\n",
       "       'Banana Regular', 'Banana Elaichi', 'Green Chilly', 'Lemongrass',\n",
       "       'Red & Yellow Bell Pepper', 'Cabbage', 'Coconut Mangalore Small',\n",
       "       'Capsicum Green', 'Apples Washington', 'Sitaphal', 'Mint Leaves',\n",
       "       'Cauliflower', 'Parwal/Pointed gourd', 'Lettuce', 'Ginger',\n",
       "       'Arbi Leaves', 'Garlic', 'Green Zucchini', 'Yellow Zucchini',\n",
       "       'Parsley', 'Beetroot', 'Celery', 'Gawar/Cluster Beans',\n",
       "       'Orange Imported', 'Sponge Gourd', 'Kiwi Imported', 'Baby Corn',\n",
       "       'Arbi/ Colocasia', 'Raw Banana', 'Curry Leaves',\n",
       "       'Shepu/ Dill Leaves', 'Coconut Mangalore Big', 'Pineapple Whole',\n",
       "       'Sweet Tamarind'], dtype=object)"
      ]
     },
     "execution_count": 63,
     "metadata": {},
     "output_type": "execute_result"
    }
   ],
   "source": [
    "# all items detected\n",
    "new_df[idxs].item_name.unique()"
   ]
  },
  {
   "cell_type": "code",
   "execution_count": 65,
   "metadata": {
    "ExecuteTime": {
     "end_time": "2020-07-23T17:13:43.513066Z",
     "start_time": "2020-07-23T17:13:43.489157Z"
    }
   },
   "outputs": [],
   "source": [
    "new_df[idxs].drop('marathi_name', axis=1).to_csv(unavl_pth, index=False)"
   ]
  },
  {
   "cell_type": "markdown",
   "metadata": {},
   "source": [
    "## Unavailable Translations"
   ]
  },
  {
   "cell_type": "code",
   "execution_count": 26,
   "metadata": {
    "ExecuteTime": {
     "end_time": "2020-07-23T06:48:50.118063Z",
     "start_time": "2020-07-23T06:48:50.110110Z"
    }
   },
   "outputs": [
    {
     "data": {
      "text/plain": [
       "array(['Coconut Mangalore Medium', 'Coconut Mangalore Small',\n",
       "       'Kiwi Imported', 'Coconut Mangalore Big'], dtype=object)"
      ]
     },
     "execution_count": 26,
     "metadata": {},
     "output_type": "execute_result"
    }
   ],
   "source": [
    "notranslist = new_df[new_df.marathi_name.isna()].item_name.unique(); notranslist"
   ]
  },
  {
   "cell_type": "markdown",
   "metadata": {},
   "source": [
    "### Save Unavailable Translations into Separate File"
   ]
  },
  {
   "cell_type": "code",
   "execution_count": 27,
   "metadata": {
    "ExecuteTime": {
     "end_time": "2020-07-23T06:48:57.343450Z",
     "start_time": "2020-07-23T06:48:57.337632Z"
    }
   },
   "outputs": [
    {
     "data": {
      "text/plain": [
       "'cocokiwi-Input final 24th'"
      ]
     },
     "execution_count": 27,
     "metadata": {},
     "output_type": "execute_result"
    }
   ],
   "source": [
    "ids = set([i.lower()[:4] for i in notranslist])\n",
    "prefix = \"\".join(ids)\n",
    "\n",
    "unavl_pth = save_pth/f'{prefix}-{str(FILE.stem)}.csv'; unavl_pth.stem"
   ]
  },
  {
   "cell_type": "code",
   "execution_count": 28,
   "metadata": {
    "ExecuteTime": {
     "end_time": "2020-07-23T06:48:57.867094Z",
     "start_time": "2020-07-23T06:48:57.849115Z"
    }
   },
   "outputs": [],
   "source": [
    "new_df[new_df.marathi_name.isna()].drop(columns='marathi_name').to_csv(unavl_pth, index=False)"
   ]
  },
  {
   "cell_type": "markdown",
   "metadata": {},
   "source": [
    "### Drop Unavailable Translations"
   ]
  },
  {
   "cell_type": "code",
   "execution_count": 29,
   "metadata": {
    "ExecuteTime": {
     "end_time": "2020-07-23T06:49:03.257974Z",
     "start_time": "2020-07-23T06:49:03.249575Z"
    }
   },
   "outputs": [],
   "source": [
    "new_df.dropna(subset=['marathi_name'], inplace=True)"
   ]
  },
  {
   "cell_type": "markdown",
   "metadata": {},
   "source": [
    "## Build SaveFile"
   ]
  },
  {
   "cell_type": "code",
   "execution_count": 30,
   "metadata": {
    "ExecuteTime": {
     "end_time": "2020-07-23T06:49:04.994271Z",
     "start_time": "2020-07-23T06:49:04.819677Z"
    }
   },
   "outputs": [],
   "source": [
    "new_df['name'] = new_df.first_name + ' ' + new_df.last_name"
   ]
  },
  {
   "cell_type": "code",
   "execution_count": 31,
   "metadata": {
    "ExecuteTime": {
     "end_time": "2020-07-23T06:49:05.516068Z",
     "start_time": "2020-07-23T06:49:05.513074Z"
    }
   },
   "outputs": [],
   "source": [
    "highlight_col = 'num_packets'"
   ]
  },
  {
   "cell_type": "code",
   "execution_count": 32,
   "metadata": {
    "ExecuteTime": {
     "end_time": "2020-07-23T06:49:06.029680Z",
     "start_time": "2020-07-23T06:49:06.023639Z"
    }
   },
   "outputs": [],
   "source": [
    "# split on customer name + token no\n",
    "custs = new_df.name + '_' + new_df.token_no.astype(str)\n",
    "custs = custs.unique()"
   ]
  },
  {
   "cell_type": "code",
   "execution_count": 33,
   "metadata": {
    "ExecuteTime": {
     "end_time": "2020-07-23T06:49:06.492833Z",
     "start_time": "2020-07-23T06:49:06.487837Z"
    }
   },
   "outputs": [],
   "source": [
    "def f(x):\n",
    "    col = highlight_col\n",
    "    r = 'background-color: none'\n",
    "    g = 'background-color: #37FDFC'\n",
    "    c = np.where(x[col] > 1, g, r)\n",
    "    y = pd.DataFrame('', index=x.index, columns=x.columns)\n",
    "    for h in all_cols:\n",
    "        if h != \"name\": y[h] = c\n",
    "    \n",
    "    return y"
   ]
  },
  {
   "cell_type": "code",
   "execution_count": 34,
   "metadata": {
    "ExecuteTime": {
     "end_time": "2020-07-23T06:49:06.885474Z",
     "start_time": "2020-07-23T06:49:06.881516Z"
    }
   },
   "outputs": [],
   "source": [
    "fname = save_pth/('customerwise-' + str(FILE.stem) + '.xlsx')"
   ]
  },
  {
   "cell_type": "code",
   "execution_count": 35,
   "metadata": {
    "ExecuteTime": {
     "end_time": "2020-07-23T06:49:08.117624Z",
     "start_time": "2020-07-23T06:49:08.113642Z"
    }
   },
   "outputs": [],
   "source": [
    "all_cols = new_df.columns"
   ]
  },
  {
   "cell_type": "code",
   "execution_count": 36,
   "metadata": {
    "ExecuteTime": {
     "end_time": "2020-07-23T06:49:08.451571Z",
     "start_time": "2020-07-23T06:49:08.435630Z"
    }
   },
   "outputs": [
    {
     "data": {
      "text/html": [
       "<div>\n",
       "<style scoped>\n",
       "    .dataframe tbody tr th:only-of-type {\n",
       "        vertical-align: middle;\n",
       "    }\n",
       "\n",
       "    .dataframe tbody tr th {\n",
       "        vertical-align: top;\n",
       "    }\n",
       "\n",
       "    .dataframe thead th {\n",
       "        text-align: right;\n",
       "    }\n",
       "</style>\n",
       "<table border=\"1\" class=\"dataframe\">\n",
       "  <thead>\n",
       "    <tr style=\"text-align: right;\">\n",
       "      <th></th>\n",
       "      <th>token_no</th>\n",
       "      <th>first_name</th>\n",
       "      <th>last_name</th>\n",
       "      <th>delivery_date</th>\n",
       "      <th>item_name</th>\n",
       "      <th>marathi_name</th>\n",
       "      <th>num_packets</th>\n",
       "      <th>final_weight</th>\n",
       "      <th>unit</th>\n",
       "      <th>drop_point</th>\n",
       "      <th>flat_no</th>\n",
       "      <th>name</th>\n",
       "    </tr>\n",
       "  </thead>\n",
       "  <tbody>\n",
       "    <tr>\n",
       "      <th>0</th>\n",
       "      <td>1</td>\n",
       "      <td>Neha</td>\n",
       "      <td>Agrawal</td>\n",
       "      <td>Friday 24th July</td>\n",
       "      <td>Baby Potato</td>\n",
       "      <td>बेबी बटाटा</td>\n",
       "      <td>1</td>\n",
       "      <td>500</td>\n",
       "      <td>gms</td>\n",
       "      <td>Aeon/Zeon</td>\n",
       "      <td>A1604</td>\n",
       "      <td>Neha Agrawal</td>\n",
       "    </tr>\n",
       "    <tr>\n",
       "      <th>1</th>\n",
       "      <td>1</td>\n",
       "      <td>Neha</td>\n",
       "      <td>Agrawal</td>\n",
       "      <td>Friday 24th July</td>\n",
       "      <td>Onion Red</td>\n",
       "      <td>कांदा लाल</td>\n",
       "      <td>1</td>\n",
       "      <td>1</td>\n",
       "      <td>kgs</td>\n",
       "      <td>Aeon/Zeon</td>\n",
       "      <td>A1604</td>\n",
       "      <td>Neha Agrawal</td>\n",
       "    </tr>\n",
       "    <tr>\n",
       "      <th>2</th>\n",
       "      <td>1</td>\n",
       "      <td>Neha</td>\n",
       "      <td>Agrawal</td>\n",
       "      <td>Friday 24th July</td>\n",
       "      <td>Bitter Gourd</td>\n",
       "      <td>कारले</td>\n",
       "      <td>1</td>\n",
       "      <td>300</td>\n",
       "      <td>gms</td>\n",
       "      <td>Aeon/Zeon</td>\n",
       "      <td>A1604</td>\n",
       "      <td>Neha Agrawal</td>\n",
       "    </tr>\n",
       "    <tr>\n",
       "      <th>3</th>\n",
       "      <td>1</td>\n",
       "      <td>Neha</td>\n",
       "      <td>Agrawal</td>\n",
       "      <td>Friday 24th July</td>\n",
       "      <td>Button Mushroom</td>\n",
       "      <td>बटण मशरूम</td>\n",
       "      <td>1</td>\n",
       "      <td>200</td>\n",
       "      <td>gms</td>\n",
       "      <td>Aeon/Zeon</td>\n",
       "      <td>A1604</td>\n",
       "      <td>Neha Agrawal</td>\n",
       "    </tr>\n",
       "    <tr>\n",
       "      <th>4</th>\n",
       "      <td>1</td>\n",
       "      <td>Neha</td>\n",
       "      <td>Agrawal</td>\n",
       "      <td>Friday 24th July</td>\n",
       "      <td>Tomato</td>\n",
       "      <td>टोमॅटो</td>\n",
       "      <td>1</td>\n",
       "      <td>1</td>\n",
       "      <td>kgs</td>\n",
       "      <td>Aeon/Zeon</td>\n",
       "      <td>A1604</td>\n",
       "      <td>Neha Agrawal</td>\n",
       "    </tr>\n",
       "  </tbody>\n",
       "</table>\n",
       "</div>"
      ],
      "text/plain": [
       "   token_no first_name last_name     delivery_date        item_name  \\\n",
       "0         1       Neha   Agrawal  Friday 24th July      Baby Potato   \n",
       "1         1       Neha   Agrawal  Friday 24th July        Onion Red   \n",
       "2         1       Neha   Agrawal  Friday 24th July     Bitter Gourd   \n",
       "3         1       Neha   Agrawal  Friday 24th July  Button Mushroom   \n",
       "4         1       Neha   Agrawal  Friday 24th July           Tomato   \n",
       "\n",
       "  marathi_name  num_packets  final_weight unit  drop_point flat_no  \\\n",
       "0   बेबी बटाटा            1           500  gms  Aeon/Zeon    A1604   \n",
       "1    कांदा लाल            1             1  kgs  Aeon/Zeon    A1604   \n",
       "2        कारले            1           300  gms  Aeon/Zeon    A1604   \n",
       "3    बटण मशरूम            1           200  gms  Aeon/Zeon    A1604   \n",
       "4       टोमॅटो            1             1  kgs  Aeon/Zeon    A1604   \n",
       "\n",
       "           name  \n",
       "0  Neha Agrawal  \n",
       "1  Neha Agrawal  \n",
       "2  Neha Agrawal  \n",
       "3  Neha Agrawal  \n",
       "4  Neha Agrawal  "
      ]
     },
     "execution_count": 36,
     "metadata": {},
     "output_type": "execute_result"
    }
   ],
   "source": [
    "new_df.head()"
   ]
  },
  {
   "cell_type": "code",
   "execution_count": 37,
   "metadata": {
    "ExecuteTime": {
     "end_time": "2020-07-23T06:49:26.516966Z",
     "start_time": "2020-07-23T06:49:10.398293Z"
    }
   },
   "outputs": [],
   "source": [
    "all_data = 0\n",
    "\n",
    "with pd.ExcelWriter(fname) as writer:\n",
    "    for cust in custs:\n",
    "        data = new_df[new_df.name == cust.split('_')[0]]\n",
    "        data = data[data.token_no == int(cust.split('_')[1])]\n",
    "        all_data += len(data.index)\n",
    "        styled = data.drop(columns=[\"name\"]).style.apply(f, axis=None)\n",
    "        styled.to_excel(writer, sheet_name=cust[:31], engine='openpyxl')\n",
    "        \n",
    "assert all_data == len(new_df)"
   ]
  },
  {
   "cell_type": "markdown",
   "metadata": {},
   "source": [
    "## Finished!"
   ]
  },
  {
   "cell_type": "code",
   "execution_count": 57,
   "metadata": {
    "ExecuteTime": {
     "end_time": "2020-07-18T09:07:37.979253Z",
     "start_time": "2020-07-18T09:07:37.974267Z"
    }
   },
   "outputs": [],
   "source": [
    "# new_df.item_name.unique()"
   ]
  },
  {
   "cell_type": "code",
   "execution_count": 58,
   "metadata": {
    "ExecuteTime": {
     "end_time": "2020-07-18T09:07:39.421954Z",
     "start_time": "2020-07-18T09:07:39.417941Z"
    }
   },
   "outputs": [],
   "source": [
    "# items = ['VNR Guava', 'Pear', 'Drumsticks']"
   ]
  },
  {
   "cell_type": "code",
   "execution_count": 59,
   "metadata": {
    "ExecuteTime": {
     "end_time": "2020-07-18T09:07:39.589480Z",
     "start_time": "2020-07-18T09:07:39.585493Z"
    }
   },
   "outputs": [],
   "source": [
    "# new_df[new_df.item_name.isin(items)].to_csv(f'guava-pear-drums-{str(FILE.stem)}.csv', index=False)"
   ]
  },
  {
   "cell_type": "code",
   "execution_count": 30,
   "metadata": {
    "ExecuteTime": {
     "end_time": "2020-07-14T17:16:29.585275Z",
     "start_time": "2020-07-14T17:16:29.582125Z"
    }
   },
   "outputs": [],
   "source": [
    "# new_df[new_df.item_name.isin(items)]"
   ]
  },
  {
   "cell_type": "code",
   "execution_count": null,
   "metadata": {},
   "outputs": [],
   "source": []
  },
  {
   "cell_type": "code",
   "execution_count": null,
   "metadata": {},
   "outputs": [],
   "source": []
  }
 ],
 "metadata": {
  "kernelspec": {
   "display_name": "Python [conda env:fastaiv1] *",
   "language": "python",
   "name": "conda-env-fastaiv1-py"
  },
  "language_info": {
   "codemirror_mode": {
    "name": "ipython",
    "version": 3
   },
   "file_extension": ".py",
   "mimetype": "text/x-python",
   "name": "python",
   "nbconvert_exporter": "python",
   "pygments_lexer": "ipython3",
   "version": "3.6.9"
  },
  "toc": {
   "base_numbering": 1,
   "nav_menu": {},
   "number_sections": true,
   "sideBar": true,
   "skip_h1_title": false,
   "title_cell": "Table of Contents",
   "title_sidebar": "Contents",
   "toc_cell": false,
   "toc_position": {},
   "toc_section_display": true,
   "toc_window_display": false
  }
 },
 "nbformat": 4,
 "nbformat_minor": 2
}
