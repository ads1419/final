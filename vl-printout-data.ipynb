{
 "cells": [
  {
   "cell_type": "markdown",
   "metadata": {},
   "source": [
    "# Printout Data | Item Count | Pipe Separated File"
   ]
  },
  {
   "cell_type": "code",
   "execution_count": 1,
   "metadata": {
    "ExecuteTime": {
     "end_time": "2020-07-23T17:21:32.335639Z",
     "start_time": "2020-07-23T17:21:31.553735Z"
    }
   },
   "outputs": [],
   "source": [
    "import pandas as pd\n",
    "import re\n",
    "from pathlib import Path\n",
    "import os"
   ]
  },
  {
   "cell_type": "code",
   "execution_count": 2,
   "metadata": {
    "ExecuteTime": {
     "end_time": "2020-07-23T17:21:32.340627Z",
     "start_time": "2020-07-23T17:21:32.336635Z"
    }
   },
   "outputs": [],
   "source": [
    "OUTPUT_DIR = Path(\"C:/Playground/bhaiya-orders/outputs/\")"
   ]
  },
  {
   "cell_type": "code",
   "execution_count": 3,
   "metadata": {
    "ExecuteTime": {
     "end_time": "2020-07-23T17:21:32.402533Z",
     "start_time": "2020-07-23T17:21:32.342621Z"
    }
   },
   "outputs": [],
   "source": [
    "from ipyfilechooser import FileChooser"
   ]
  },
  {
   "cell_type": "code",
   "execution_count": 4,
   "metadata": {
    "ExecuteTime": {
     "end_time": "2020-07-23T17:21:32.617950Z",
     "start_time": "2020-07-23T17:21:32.549136Z"
    }
   },
   "outputs": [
    {
     "data": {
      "application/vnd.jupyter.widget-view+json": {
       "model_id": "a00cc245e49146688e28ace2c345f9c6",
       "version_major": 2,
       "version_minor": 0
      },
      "text/plain": [
       "FileChooser(path='C:/Playground/bhaiya-orders/inputs/', filename='', show_hidden='False')"
      ]
     },
     "metadata": {},
     "output_type": "display_data"
    }
   ],
   "source": [
    "fc = FileChooser(\"C:/Playground/bhaiya-orders/inputs/\")\n",
    "fc.use_dir_icons = True\n",
    "display(fc)"
   ]
  },
  {
   "cell_type": "code",
   "execution_count": 5,
   "metadata": {
    "ExecuteTime": {
     "end_time": "2020-07-23T17:22:45.141532Z",
     "start_time": "2020-07-23T17:22:45.137544Z"
    }
   },
   "outputs": [],
   "source": [
    "FILE = Path(fc.selected)"
   ]
  },
  {
   "cell_type": "code",
   "execution_count": 6,
   "metadata": {
    "ExecuteTime": {
     "end_time": "2020-07-23T17:22:45.865474Z",
     "start_time": "2020-07-23T17:22:45.799547Z"
    }
   },
   "outputs": [],
   "source": [
    "try:\n",
    "    if 'csv' in FILE.suffix: df = pd.read_csv(FILE)\n",
    "    else: df = pd.read_excel(FILE)\n",
    "except OSError:\n",
    "    print(\"Error occured, invalid file!\")"
   ]
  },
  {
   "cell_type": "code",
   "execution_count": 7,
   "metadata": {
    "ExecuteTime": {
     "end_time": "2020-07-23T17:22:47.157013Z",
     "start_time": "2020-07-23T17:22:47.149466Z"
    }
   },
   "outputs": [],
   "source": [
    "df.fillna('', inplace=True)"
   ]
  },
  {
   "cell_type": "code",
   "execution_count": 8,
   "metadata": {
    "ExecuteTime": {
     "end_time": "2020-07-23T17:22:47.508762Z",
     "start_time": "2020-07-23T17:22:47.482830Z"
    }
   },
   "outputs": [
    {
     "data": {
      "text/html": [
       "<div>\n",
       "<style scoped>\n",
       "    .dataframe tbody tr th:only-of-type {\n",
       "        vertical-align: middle;\n",
       "    }\n",
       "\n",
       "    .dataframe tbody tr th {\n",
       "        vertical-align: top;\n",
       "    }\n",
       "\n",
       "    .dataframe thead th {\n",
       "        text-align: right;\n",
       "    }\n",
       "</style>\n",
       "<table border=\"1\" class=\"dataframe\">\n",
       "  <thead>\n",
       "    <tr style=\"text-align: right;\">\n",
       "      <th></th>\n",
       "      <th>Submission Date</th>\n",
       "      <th>Order Number#</th>\n",
       "      <th>Token</th>\n",
       "      <th>First Name</th>\n",
       "      <th>Last Name</th>\n",
       "      <th>Select Drop Point and Building</th>\n",
       "      <th>Any other building?</th>\n",
       "      <th>Select Wing</th>\n",
       "      <th>Flat No</th>\n",
       "      <th>Phone Number</th>\n",
       "      <th>Email</th>\n",
       "      <th>Select Delivery Date</th>\n",
       "      <th>Your Order: Products</th>\n",
       "      <th>No Label</th>\n",
       "      <th>Any pending unadjusted credit from previous orders?</th>\n",
       "    </tr>\n",
       "  </thead>\n",
       "  <tbody>\n",
       "    <tr>\n",
       "      <th>0</th>\n",
       "      <td>2020-07-22 15:05:42</td>\n",
       "      <td>BHOR-0947</td>\n",
       "      <td>1</td>\n",
       "      <td>Neha</td>\n",
       "      <td>Agrawal</td>\n",
       "      <td>Aeon/Zeon - Aeon</td>\n",
       "      <td></td>\n",
       "      <td>A Wing</td>\n",
       "      <td>A1604</td>\n",
       "      <td>9930851066</td>\n",
       "      <td>neha31verma@gmail.com</td>\n",
       "      <td>Friday 24th July</td>\n",
       "      <td>Baby Potato 500 Gms (Amount: 20.00 INR, Specia...</td>\n",
       "      <td>Accepted\\n\\n1. All issues and complaints regar...</td>\n",
       "      <td></td>\n",
       "    </tr>\n",
       "    <tr>\n",
       "      <th>1</th>\n",
       "      <td>2020-07-21 12:59:12</td>\n",
       "      <td>BHOR-0908</td>\n",
       "      <td>2</td>\n",
       "      <td>Madhavi</td>\n",
       "      <td>Ravuri</td>\n",
       "      <td>Aeon/Zeon - Aeon</td>\n",
       "      <td></td>\n",
       "      <td>A Wing</td>\n",
       "      <td>803</td>\n",
       "      <td>9820157581</td>\n",
       "      <td>ravurimadhavi@ymail.com</td>\n",
       "      <td>Friday 24th July</td>\n",
       "      <td>Potato 1 Kg (Amount: 40.00 INR, Special Quanti...</td>\n",
       "      <td>Accepted\\n\\n1. All issues and complaints regar...</td>\n",
       "      <td></td>\n",
       "    </tr>\n",
       "  </tbody>\n",
       "</table>\n",
       "</div>"
      ],
      "text/plain": [
       "       Submission Date Order Number#  Token First Name Last Name  \\\n",
       "0  2020-07-22 15:05:42     BHOR-0947      1       Neha   Agrawal   \n",
       "1  2020-07-21 12:59:12     BHOR-0908      2    Madhavi    Ravuri   \n",
       "\n",
       "  Select Drop Point and Building Any other building? Select Wing Flat No  \\\n",
       "0               Aeon/Zeon - Aeon                          A Wing   A1604   \n",
       "1               Aeon/Zeon - Aeon                          A Wing     803   \n",
       "\n",
       "   Phone Number                    Email Select Delivery Date  \\\n",
       "0    9930851066    neha31verma@gmail.com     Friday 24th July   \n",
       "1    9820157581  ravurimadhavi@ymail.com     Friday 24th July   \n",
       "\n",
       "                                Your Order: Products  \\\n",
       "0  Baby Potato 500 Gms (Amount: 20.00 INR, Specia...   \n",
       "1  Potato 1 Kg (Amount: 40.00 INR, Special Quanti...   \n",
       "\n",
       "                                            No Label  \\\n",
       "0  Accepted\\n\\n1. All issues and complaints regar...   \n",
       "1  Accepted\\n\\n1. All issues and complaints regar...   \n",
       "\n",
       "  Any pending unadjusted credit from previous orders?  \n",
       "0                                                      \n",
       "1                                                      "
      ]
     },
     "execution_count": 8,
     "metadata": {},
     "output_type": "execute_result"
    }
   ],
   "source": [
    "df.head(2)"
   ]
  },
  {
   "cell_type": "code",
   "execution_count": 9,
   "metadata": {
    "ExecuteTime": {
     "end_time": "2020-07-23T17:22:49.049212Z",
     "start_time": "2020-07-23T17:22:49.045224Z"
    }
   },
   "outputs": [],
   "source": [
    "# df['Token'] = list(range(len(df)))"
   ]
  },
  {
   "cell_type": "code",
   "execution_count": 10,
   "metadata": {
    "ExecuteTime": {
     "end_time": "2020-07-23T17:22:49.550141Z",
     "start_time": "2020-07-23T17:22:49.545155Z"
    }
   },
   "outputs": [],
   "source": [
    "for col in df.columns:\n",
    "    if \"Your Order\" in col:\n",
    "        your_order = col\n",
    "        \n",
    "    if \"token\" in col.lower():\n",
    "        token = col\n",
    "        \n",
    "    if \"flat\" in col.lower():\n",
    "        flat = col\n",
    "        \n",
    "    if \"order\" in col.lower() and \"num\" in col.lower():\n",
    "        order_number = col"
   ]
  },
  {
   "cell_type": "code",
   "execution_count": 11,
   "metadata": {
    "ExecuteTime": {
     "end_time": "2020-07-23T17:22:51.108515Z",
     "start_time": "2020-07-23T17:22:51.016486Z"
    }
   },
   "outputs": [],
   "source": [
    "df['name'] = df['First Name'] + ' ' + df['Last Name'] + '_' + df[token].astype(str)"
   ]
  },
  {
   "cell_type": "code",
   "execution_count": 12,
   "metadata": {
    "ExecuteTime": {
     "end_time": "2020-07-23T17:22:51.347029Z",
     "start_time": "2020-07-23T17:22:51.331065Z"
    }
   },
   "outputs": [
    {
     "data": {
      "text/plain": [
       "'Baby Potato 500 Gms (Amount: 20.00 INR, Special Quantity: 1)\\nOnion Red 1 Kg (Amount: 18.00 INR, Special Quantity: 1)\\nBitter Gourd 300 Gms (Amount: 17.00 INR, Special Quantity: 1)\\nButton Mushroom 200 gms Pack (Amount: 60.00 INR, Special Quantity: 1)\\nTomato 1 Kg (Amount: 52.00 INR, Special Quantity: 1)\\nBroccoli  250 gms (Amount: 50.00 INR, Special Quantity: 1)\\nLemons pack of 5  (Amount: 15.00 INR, Special Quantity: 1)\\nCoriander Leaves per bunch 250 - 300 gms (Amount: 60.00 INR, Special Quantity: 2)\\nPalak/ Spinach Leaves per bunch 400 gms - 500 gms (Amount: 30.00 INR, Special Quantity: 1)\\nMethi Leaves per bunch 450 gms - 500 gms (Amount: 40.00 INR, Special Quantity: 1)\\nSpring Onions per bunch (Amount: 22.00 INR, Quantity: 1)\\nBasil Leaves  200 gms (Amount: 40.00 INR, Special Quantity: 1)\\nSubtotal: \\nTax: \\n\\nTotal: 424.00'"
      ]
     },
     "execution_count": 12,
     "metadata": {},
     "output_type": "execute_result"
    }
   ],
   "source": [
    "df[your_order][0]"
   ]
  },
  {
   "cell_type": "code",
   "execution_count": 13,
   "metadata": {
    "ExecuteTime": {
     "end_time": "2020-07-23T17:22:54.379996Z",
     "start_time": "2020-07-23T17:22:54.373015Z"
    }
   },
   "outputs": [],
   "source": [
    "k = []\n",
    "for order in df[your_order]:\n",
    "    split = order.split(')') # last item is always total cost\n",
    "    split = [s.replace('\\n', '') for s in split] # remove newlines if present\n",
    "    k.append(split)"
   ]
  },
  {
   "cell_type": "code",
   "execution_count": 14,
   "metadata": {
    "ExecuteTime": {
     "end_time": "2020-07-23T17:22:54.754004Z",
     "start_time": "2020-07-23T17:22:54.751005Z"
    }
   },
   "outputs": [],
   "source": [
    "save_pth = OUTPUT_DIR/FILE.stem\n",
    "os.makedirs(save_pth, exist_ok=True)"
   ]
  },
  {
   "cell_type": "markdown",
   "metadata": {},
   "source": [
    "## Non-Fruits (Item Count)"
   ]
  },
  {
   "cell_type": "code",
   "execution_count": 15,
   "metadata": {
    "ExecuteTime": {
     "end_time": "2020-07-23T17:22:58.051412Z",
     "start_time": "2020-07-23T17:22:58.046425Z"
    }
   },
   "outputs": [],
   "source": [
    "def get_qty(txt):\n",
    "    \n",
    "    \"\"\"\n",
    "        Returns the Special Quantity key for a given order. \n",
    "            Sample input string: '...no. of 500 gm packets required: 1)'\n",
    "            Returns: 1\n",
    "    \"\"\"\n",
    "    \n",
    "    match = re.search(\": ([0-9]+?)\\)\", txt)\n",
    "    if match:\n",
    "        return int(match.group(1))"
   ]
  },
  {
   "cell_type": "code",
   "execution_count": 16,
   "metadata": {
    "ExecuteTime": {
     "end_time": "2020-07-23T17:22:59.315284Z",
     "start_time": "2020-07-23T17:22:59.305339Z"
    }
   },
   "outputs": [],
   "source": [
    "val = {}\n",
    "total = {}\n",
    "for name, order in zip(df.name, k):\n",
    "    val[name] = 0\n",
    "    for i in order:\n",
    "        sp1 = i.split(\"(\")\n",
    "        if len(sp1) < 2:\n",
    "            total[name] = sp1[0].split()[-1] # total cost\n",
    "            continue\n",
    "        \n",
    "        sp1[1] = sp1[1] + ')'\n",
    "        val[name] += get_qty(sp1[1])\n",
    "        "
   ]
  },
  {
   "cell_type": "code",
   "execution_count": 17,
   "metadata": {
    "ExecuteTime": {
     "end_time": "2020-07-23T17:23:04.787241Z",
     "start_time": "2020-07-23T17:23:04.783278Z"
    }
   },
   "outputs": [],
   "source": [
    "new_df = pd.DataFrame()"
   ]
  },
  {
   "cell_type": "code",
   "execution_count": 18,
   "metadata": {
    "ExecuteTime": {
     "end_time": "2020-07-23T17:23:06.000526Z",
     "start_time": "2020-07-23T17:23:05.996508Z"
    }
   },
   "outputs": [],
   "source": [
    "new_df['token_no'] = df[token]"
   ]
  },
  {
   "cell_type": "code",
   "execution_count": 19,
   "metadata": {
    "ExecuteTime": {
     "end_time": "2020-07-23T17:23:06.258697Z",
     "start_time": "2020-07-23T17:23:06.252713Z"
    }
   },
   "outputs": [],
   "source": [
    "new_df['order_no'] = df[order_number]"
   ]
  },
  {
   "cell_type": "code",
   "execution_count": 20,
   "metadata": {
    "ExecuteTime": {
     "end_time": "2020-07-23T17:23:07.447595Z",
     "start_time": "2020-07-23T17:23:07.442582Z"
    }
   },
   "outputs": [],
   "source": [
    "new_df['name'] = df['name'].apply(lambda x: x.split('_')[0])"
   ]
  },
  {
   "cell_type": "code",
   "execution_count": 21,
   "metadata": {
    "ExecuteTime": {
     "end_time": "2020-07-23T17:23:07.753807Z",
     "start_time": "2020-07-23T17:23:07.749816Z"
    }
   },
   "outputs": [],
   "source": [
    "new_df['flat_no'] = df[flat]"
   ]
  },
  {
   "cell_type": "code",
   "execution_count": 22,
   "metadata": {
    "ExecuteTime": {
     "end_time": "2020-07-23T17:23:09.007255Z",
     "start_time": "2020-07-23T17:23:09.004292Z"
    }
   },
   "outputs": [],
   "source": [
    "# # For Thane\n",
    "# new_df['wing'] = df['Select Wing']"
   ]
  },
  {
   "cell_type": "code",
   "execution_count": 23,
   "metadata": {
    "ExecuteTime": {
     "end_time": "2020-07-23T17:23:09.398028Z",
     "start_time": "2020-07-23T17:23:09.393066Z"
    }
   },
   "outputs": [],
   "source": [
    "def func(x):\n",
    "    if '-' in x:\n",
    "        return x.split('-')[1]\n",
    "    return x\n",
    "\n",
    "new_df['building_name'] = df['Select Drop Point and Building'].apply(func)"
   ]
  },
  {
   "cell_type": "code",
   "execution_count": 24,
   "metadata": {
    "ExecuteTime": {
     "end_time": "2020-07-23T17:23:10.660328Z",
     "start_time": "2020-07-23T17:23:10.654343Z"
    }
   },
   "outputs": [],
   "source": [
    "new_df['building_name'] = new_df['building_name'] + ', ' + df['Select Wing']"
   ]
  },
  {
   "cell_type": "code",
   "execution_count": 25,
   "metadata": {
    "ExecuteTime": {
     "end_time": "2020-07-23T17:23:10.993440Z",
     "start_time": "2020-07-23T17:23:10.989421Z"
    }
   },
   "outputs": [],
   "source": [
    "new_df['phone_no'] = df['Phone Number']"
   ]
  },
  {
   "cell_type": "code",
   "execution_count": 26,
   "metadata": {
    "ExecuteTime": {
     "end_time": "2020-07-23T17:23:11.298419Z",
     "start_time": "2020-07-23T17:23:11.293404Z"
    }
   },
   "outputs": [],
   "source": [
    "new_df['email'] = df['Email']"
   ]
  },
  {
   "cell_type": "code",
   "execution_count": 27,
   "metadata": {
    "ExecuteTime": {
     "end_time": "2020-07-23T17:23:12.439368Z",
     "start_time": "2020-07-23T17:23:12.436372Z"
    }
   },
   "outputs": [],
   "source": [
    "# # # if Thane\n",
    "# new_df['drop_point'] = df['Enter Building Name']"
   ]
  },
  {
   "cell_type": "code",
   "execution_count": 28,
   "metadata": {
    "ExecuteTime": {
     "end_time": "2020-07-23T17:23:12.827300Z",
     "start_time": "2020-07-23T17:23:12.821316Z"
    }
   },
   "outputs": [],
   "source": [
    "new_df['drop_point'] = df['Select Drop Point and Building'].apply(lambda x: x.split('-')[0])"
   ]
  },
  {
   "cell_type": "code",
   "execution_count": 29,
   "metadata": {
    "ExecuteTime": {
     "end_time": "2020-07-23T17:23:13.299990Z",
     "start_time": "2020-07-23T17:23:13.294006Z"
    }
   },
   "outputs": [],
   "source": [
    "new_df['item_count'] = df.name.apply(lambda x: val[x])"
   ]
  },
  {
   "cell_type": "code",
   "execution_count": 30,
   "metadata": {
    "ExecuteTime": {
     "end_time": "2020-07-23T17:23:14.379069Z",
     "start_time": "2020-07-23T17:23:14.374084Z"
    }
   },
   "outputs": [],
   "source": [
    "new_df['total_amt'] = df.name.apply(lambda x: total[x])"
   ]
  },
  {
   "cell_type": "code",
   "execution_count": 31,
   "metadata": {
    "ExecuteTime": {
     "end_time": "2020-07-23T17:23:16.009065Z",
     "start_time": "2020-07-23T17:23:15.993081Z"
    }
   },
   "outputs": [
    {
     "data": {
      "text/html": [
       "<div>\n",
       "<style scoped>\n",
       "    .dataframe tbody tr th:only-of-type {\n",
       "        vertical-align: middle;\n",
       "    }\n",
       "\n",
       "    .dataframe tbody tr th {\n",
       "        vertical-align: top;\n",
       "    }\n",
       "\n",
       "    .dataframe thead th {\n",
       "        text-align: right;\n",
       "    }\n",
       "</style>\n",
       "<table border=\"1\" class=\"dataframe\">\n",
       "  <thead>\n",
       "    <tr style=\"text-align: right;\">\n",
       "      <th></th>\n",
       "      <th>token_no</th>\n",
       "      <th>order_no</th>\n",
       "      <th>name</th>\n",
       "      <th>flat_no</th>\n",
       "      <th>building_name</th>\n",
       "      <th>phone_no</th>\n",
       "      <th>email</th>\n",
       "      <th>drop_point</th>\n",
       "      <th>item_count</th>\n",
       "      <th>total_amt</th>\n",
       "    </tr>\n",
       "  </thead>\n",
       "  <tbody>\n",
       "    <tr>\n",
       "      <th>0</th>\n",
       "      <td>1</td>\n",
       "      <td>BHOR-0947</td>\n",
       "      <td>Neha Agrawal</td>\n",
       "      <td>A1604</td>\n",
       "      <td>Aeon, A Wing</td>\n",
       "      <td>9930851066</td>\n",
       "      <td>neha31verma@gmail.com</td>\n",
       "      <td>Aeon/Zeon</td>\n",
       "      <td>13</td>\n",
       "      <td>424.00</td>\n",
       "    </tr>\n",
       "    <tr>\n",
       "      <th>1</th>\n",
       "      <td>2</td>\n",
       "      <td>BHOR-0908</td>\n",
       "      <td>Madhavi Ravuri</td>\n",
       "      <td>803</td>\n",
       "      <td>Aeon, A Wing</td>\n",
       "      <td>9820157581</td>\n",
       "      <td>ravurimadhavi@ymail.com</td>\n",
       "      <td>Aeon/Zeon</td>\n",
       "      <td>35</td>\n",
       "      <td>1,565.00</td>\n",
       "    </tr>\n",
       "    <tr>\n",
       "      <th>2</th>\n",
       "      <td>3</td>\n",
       "      <td>BHOR-0891</td>\n",
       "      <td>Ronak Surana</td>\n",
       "      <td>1304</td>\n",
       "      <td>Aeon, A Wing</td>\n",
       "      <td>9769656431</td>\n",
       "      <td>ronaksurana29@hotmail.com</td>\n",
       "      <td>Aeon/Zeon</td>\n",
       "      <td>13</td>\n",
       "      <td>646.00</td>\n",
       "    </tr>\n",
       "    <tr>\n",
       "      <th>3</th>\n",
       "      <td>4</td>\n",
       "      <td>BHOR-0932</td>\n",
       "      <td>Pooja Verma</td>\n",
       "      <td>1201</td>\n",
       "      <td>Zeon, A Wing</td>\n",
       "      <td>9920411189</td>\n",
       "      <td>poojalverma1208@gmail.com</td>\n",
       "      <td>Aeon/Zeon</td>\n",
       "      <td>26</td>\n",
       "      <td>896.00</td>\n",
       "    </tr>\n",
       "    <tr>\n",
       "      <th>4</th>\n",
       "      <td>5</td>\n",
       "      <td>BHOR-0884</td>\n",
       "      <td>SAUMYA SARAOGI</td>\n",
       "      <td>204</td>\n",
       "      <td>Zeon, A Wing</td>\n",
       "      <td>9833992919</td>\n",
       "      <td>SAUMYASARAOGI@GMAIL.COM</td>\n",
       "      <td>Aeon/Zeon</td>\n",
       "      <td>18</td>\n",
       "      <td>616.00</td>\n",
       "    </tr>\n",
       "  </tbody>\n",
       "</table>\n",
       "</div>"
      ],
      "text/plain": [
       "   token_no   order_no            name flat_no  building_name    phone_no  \\\n",
       "0         1  BHOR-0947    Neha Agrawal   A1604   Aeon, A Wing  9930851066   \n",
       "1         2  BHOR-0908  Madhavi Ravuri     803   Aeon, A Wing  9820157581   \n",
       "2         3  BHOR-0891    Ronak Surana    1304   Aeon, A Wing  9769656431   \n",
       "3         4  BHOR-0932     Pooja Verma    1201   Zeon, A Wing  9920411189   \n",
       "4         5  BHOR-0884  SAUMYA SARAOGI     204   Zeon, A Wing  9833992919   \n",
       "\n",
       "                       email  drop_point  item_count total_amt  \n",
       "0      neha31verma@gmail.com  Aeon/Zeon           13    424.00  \n",
       "1    ravurimadhavi@ymail.com  Aeon/Zeon           35  1,565.00  \n",
       "2  ronaksurana29@hotmail.com  Aeon/Zeon           13    646.00  \n",
       "3  poojalverma1208@gmail.com  Aeon/Zeon           26    896.00  \n",
       "4    SAUMYASARAOGI@GMAIL.COM  Aeon/Zeon           18    616.00  "
      ]
     },
     "execution_count": 31,
     "metadata": {},
     "output_type": "execute_result"
    }
   ],
   "source": [
    "new_df.head()"
   ]
  },
  {
   "cell_type": "code",
   "execution_count": 32,
   "metadata": {
    "ExecuteTime": {
     "end_time": "2020-07-23T06:51:19.003303Z",
     "start_time": "2020-07-23T06:51:18.998317Z"
    }
   },
   "outputs": [],
   "source": [
    "fname = save_pth/('printout-' + str(FILE.stem) + '.csv')"
   ]
  },
  {
   "cell_type": "code",
   "execution_count": 33,
   "metadata": {
    "ExecuteTime": {
     "end_time": "2020-07-23T06:51:20.577221Z",
     "start_time": "2020-07-23T06:51:20.565554Z"
    }
   },
   "outputs": [],
   "source": [
    "new_df.to_csv(fname, index=False)"
   ]
  },
  {
   "cell_type": "code",
   "execution_count": 38,
   "metadata": {
    "ExecuteTime": {
     "end_time": "2020-07-18T09:24:04.381187Z",
     "start_time": "2020-07-18T09:24:04.377200Z"
    }
   },
   "outputs": [],
   "source": [
    "# new_df[new_df['name'] == 'Suparna Bhandari']"
   ]
  },
  {
   "cell_type": "markdown",
   "metadata": {},
   "source": [
    "## Fruits (Pipe Separated Orders)"
   ]
  },
  {
   "cell_type": "code",
   "execution_count": 15,
   "metadata": {
    "ExecuteTime": {
     "end_time": "2020-07-21T17:30:42.644667Z",
     "start_time": "2020-07-21T17:30:42.632725Z"
    }
   },
   "outputs": [],
   "source": [
    "def get_item_name(order):\n",
    "    '''\n",
    "    Return the Item Name, Final Weight, Num Packets, Unit\n",
    "    '''\n",
    "    \n",
    "    stopwords = ['per', 'gms', 'gm', 'kgs', 'kg', 'pack', 'each', '-']\n",
    "    \n",
    "    # parse the key, stop when you encounter a number, unit, keyword like 'per', 'pack'\n",
    "    item = order.split('(')[0].strip()\n",
    "    item = re.sub('[0-9]+', ' ', item)\n",
    "    item = item.split()\n",
    "#     print(item)\n",
    "    final_item = ''\n",
    "    for token in item:\n",
    "        if token.lower() in stopwords:\n",
    "            break\n",
    "        final_item += ' ' + token\n",
    "    \n",
    "    return final_item.strip()\n",
    "\n",
    "\n",
    "def get_qty(txt):\n",
    "    \n",
    "    \"\"\"\n",
    "        Returns the Special Quantity key for a given order. \n",
    "            Sample input string: '...no. of 500 gm packets required: 1)'\n",
    "            Returns: 1\n",
    "    \"\"\"\n",
    "    \n",
    "    if txt[-1] != ')':  txt = txt + ')'\n",
    "    \n",
    "    match = re.search(\": ([0-9]+?)\\)\", txt)\n",
    "\n",
    "    # temporary fix for VNR Guava\n",
    "    if \"VNR Guava Per Kg (\" in txt: match = re.search(\"\\(([0-9]+?)\", txt)\n",
    "    \n",
    "    if match:\n",
    "        return int(match.group(1))\n",
    "    \n",
    "    \n",
    "def extract_num(txt):\n",
    "    \n",
    "    \"\"\"\n",
    "        Searches a string and returns the last number found, if present. \n",
    "        Otherwise return 1.\n",
    "        Use case: For an item key such as 'Tondli 300 gms ', return 300 (to calculate total qty required)\n",
    "    \"\"\"\n",
    "    \n",
    "    match = re.findall(\"([0-9]+)\", txt)\n",
    "    if match:\n",
    "        return int(match[-1])\n",
    "    else:\n",
    "        return 1\n",
    "    \n",
    "    \n",
    "    \n",
    "def get_unit(txt):\n",
    "    \"\"\"\n",
    "        Gets unit from an item string.\n",
    "        Assumption: standard occurence of units all across the board. \n",
    "    \"\"\"\n",
    "    txt = txt.lower()\n",
    "    if txt.find(' gm') != -1: unit = 'gms'\n",
    "    elif (txt.find(' pc') != -1) or (txt.find(' pack') != -1): unit = 'pcs'\n",
    "    elif txt.find(' bunch') != -1: unit = 'bunches'\n",
    "    else: unit = 'kgs'\n",
    "    return unit"
   ]
  },
  {
   "cell_type": "code",
   "execution_count": 16,
   "metadata": {
    "ExecuteTime": {
     "end_time": "2020-07-21T17:30:43.424583Z",
     "start_time": "2020-07-21T17:30:43.419622Z"
    }
   },
   "outputs": [],
   "source": [
    "def parse_order(order):\n",
    "    '''\n",
    "    Return the Item Name, Final Weight, Num Packets, Unit\n",
    "    '''\n",
    "    if len(order.split('(')) < 2: return None\n",
    "    \n",
    "    item_name = get_item_name(order)\n",
    "    num_packets = get_qty(order)\n",
    "    unit = get_unit(order)\n",
    "    qty_per_pack = extract_num(order.split('(')[0])\n",
    "    final_weight = qty_per_pack * num_packets\n",
    "\n",
    "    return {\"item_name\": item_name,\n",
    "            \"num_packets\": num_packets,\n",
    "            \"unit\": unit,\n",
    "            \"final_weight\": final_weight}"
   ]
  },
  {
   "cell_type": "code",
   "execution_count": 17,
   "metadata": {
    "ExecuteTime": {
     "end_time": "2020-07-21T17:30:44.557576Z",
     "start_time": "2020-07-21T17:30:44.549598Z"
    }
   },
   "outputs": [],
   "source": [
    "val = {}\n",
    "total = {}\n",
    "for name, order in zip(df.name, k):\n",
    "    val[name] = ''\n",
    "    for i in order:\n",
    "        sp1 = i.split(\"(\")\n",
    "        if len(sp1) < 2:\n",
    "            total[name] = sp1[0].split()[-1] # total cost\n",
    "            continue\n",
    "        \n",
    "        sp1[1] = sp1[1] + ')'\n",
    "        val[name] += get_item_name(sp1[0]) + ':' + str(get_qty(sp1[1])) + ' | '"
   ]
  },
  {
   "cell_type": "code",
   "execution_count": 18,
   "metadata": {
    "ExecuteTime": {
     "end_time": "2020-07-21T17:30:44.959477Z",
     "start_time": "2020-07-21T17:30:44.954519Z"
    }
   },
   "outputs": [],
   "source": [
    "new_df = pd.DataFrame()"
   ]
  },
  {
   "cell_type": "code",
   "execution_count": 19,
   "metadata": {
    "ExecuteTime": {
     "end_time": "2020-07-21T17:30:45.364425Z",
     "start_time": "2020-07-21T17:30:45.344447Z"
    }
   },
   "outputs": [],
   "source": [
    "new_df['token_no'] = df[token]\n",
    "new_df['order_no'] = df[order_number]\n",
    "\n",
    "new_df['name'] = df['name'].apply(lambda x: x.split('_')[0])\n",
    "\n",
    "new_df['flat_no'] = df[flat]\n",
    "\n",
    "def func(x):\n",
    "    if '-' in x:\n",
    "        return x.split('-')[1]\n",
    "    return x\n",
    "\n",
    "# # THANE\n",
    "# new_df['drop_point'] = df['Enter Building Name']\n",
    "\n",
    "new_df['building_name'] = df['Select Drop Point and Building'].apply(func)\n",
    "new_df['building_name'] = new_df['building_name'] + ', ' + df['Select Wing']\n",
    "\n",
    "new_df['phone_no'] = df['Phone Number']\n",
    "\n",
    "new_df['email'] = df['Email']\n",
    "\n",
    "# THANE, COMMENT OUT\n",
    "new_df['drop_point'] = df['Select Drop Point and Building'].apply(lambda x: x.split('-')[0])\n",
    "\n",
    "new_df['items'] = df.name.apply(lambda x: val[x][:-3])\n",
    "\n",
    "new_df['total_amt'] = df.name.apply(lambda x: total[x])"
   ]
  },
  {
   "cell_type": "code",
   "execution_count": 20,
   "metadata": {
    "ExecuteTime": {
     "end_time": "2020-07-21T17:30:50.665214Z",
     "start_time": "2020-07-21T17:30:50.652275Z"
    }
   },
   "outputs": [
    {
     "data": {
      "text/html": [
       "<div>\n",
       "<style scoped>\n",
       "    .dataframe tbody tr th:only-of-type {\n",
       "        vertical-align: middle;\n",
       "    }\n",
       "\n",
       "    .dataframe tbody tr th {\n",
       "        vertical-align: top;\n",
       "    }\n",
       "\n",
       "    .dataframe thead th {\n",
       "        text-align: right;\n",
       "    }\n",
       "</style>\n",
       "<table border=\"1\" class=\"dataframe\">\n",
       "  <thead>\n",
       "    <tr style=\"text-align: right;\">\n",
       "      <th></th>\n",
       "      <th>token_no</th>\n",
       "      <th>order_no</th>\n",
       "      <th>name</th>\n",
       "      <th>flat_no</th>\n",
       "      <th>building_name</th>\n",
       "      <th>phone_no</th>\n",
       "      <th>email</th>\n",
       "      <th>drop_point</th>\n",
       "      <th>items</th>\n",
       "      <th>total_amt</th>\n",
       "    </tr>\n",
       "  </thead>\n",
       "  <tbody>\n",
       "    <tr>\n",
       "      <th>0</th>\n",
       "      <td>1</td>\n",
       "      <td>BHORS-0557</td>\n",
       "      <td>Rashmita Sundaram</td>\n",
       "      <td>1202</td>\n",
       "      <td>Aeon, A</td>\n",
       "      <td>9004913659</td>\n",
       "      <td>rashmita.sundaram@gmail.com</td>\n",
       "      <td>Aeon/Zeon</td>\n",
       "      <td>Sitaphal/Custard Apple:1 | Elaichi Banana One ...</td>\n",
       "      <td>210.00</td>\n",
       "    </tr>\n",
       "    <tr>\n",
       "      <th>1</th>\n",
       "      <td>2</td>\n",
       "      <td>BHORS-0548</td>\n",
       "      <td>Heena Parekh</td>\n",
       "      <td>1101</td>\n",
       "      <td>Aeon, A</td>\n",
       "      <td>9892404976</td>\n",
       "      <td>heenaparekh75@gmail.com</td>\n",
       "      <td>Aeon/Zeon</td>\n",
       "      <td>Muskmelon:2 | Sitaphal/Custard Apple:1</td>\n",
       "      <td>240.00</td>\n",
       "    </tr>\n",
       "  </tbody>\n",
       "</table>\n",
       "</div>"
      ],
      "text/plain": [
       "   token_no    order_no               name flat_no building_name    phone_no  \\\n",
       "0         1  BHORS-0557  Rashmita Sundaram    1202       Aeon, A  9004913659   \n",
       "1         2  BHORS-0548       Heena Parekh    1101       Aeon, A  9892404976   \n",
       "\n",
       "                         email  drop_point  \\\n",
       "0  rashmita.sundaram@gmail.com  Aeon/Zeon    \n",
       "1      heenaparekh75@gmail.com  Aeon/Zeon    \n",
       "\n",
       "                                               items total_amt  \n",
       "0  Sitaphal/Custard Apple:1 | Elaichi Banana One ...    210.00  \n",
       "1             Muskmelon:2 | Sitaphal/Custard Apple:1    240.00  "
      ]
     },
     "execution_count": 20,
     "metadata": {},
     "output_type": "execute_result"
    }
   ],
   "source": [
    "new_df.head(2)"
   ]
  },
  {
   "cell_type": "code",
   "execution_count": 21,
   "metadata": {
    "ExecuteTime": {
     "end_time": "2020-07-21T17:30:52.365665Z",
     "start_time": "2020-07-21T17:30:52.358695Z"
    }
   },
   "outputs": [
    {
     "data": {
      "text/plain": [
       "35778.0"
      ]
     },
     "execution_count": 21,
     "metadata": {},
     "output_type": "execute_result"
    }
   ],
   "source": [
    "new_df.total_amt.apply(lambda x: x.replace(',', '')).astype(float).sum()"
   ]
  },
  {
   "cell_type": "code",
   "execution_count": 22,
   "metadata": {
    "ExecuteTime": {
     "end_time": "2020-07-21T17:30:53.947464Z",
     "start_time": "2020-07-21T17:30:53.944441Z"
    }
   },
   "outputs": [],
   "source": [
    "fname = save_pth/('printout-' + str(FILE.stem) + '.csv')"
   ]
  },
  {
   "cell_type": "code",
   "execution_count": 23,
   "metadata": {
    "ExecuteTime": {
     "end_time": "2020-07-21T17:30:54.321432Z",
     "start_time": "2020-07-21T17:30:54.307469Z"
    }
   },
   "outputs": [],
   "source": [
    "new_df.to_csv(fname, index=False)"
   ]
  },
  {
   "cell_type": "markdown",
   "metadata": {},
   "source": [
    "## Finished!"
   ]
  },
  {
   "cell_type": "code",
   "execution_count": null,
   "metadata": {},
   "outputs": [],
   "source": []
  }
 ],
 "metadata": {
  "kernelspec": {
   "display_name": "Python [conda env:fastaiv1] *",
   "language": "python",
   "name": "conda-env-fastaiv1-py"
  },
  "language_info": {
   "codemirror_mode": {
    "name": "ipython",
    "version": 3
   },
   "file_extension": ".py",
   "mimetype": "text/x-python",
   "name": "python",
   "nbconvert_exporter": "python",
   "pygments_lexer": "ipython3",
   "version": "3.6.9"
  },
  "toc": {
   "base_numbering": 1,
   "nav_menu": {},
   "number_sections": true,
   "sideBar": true,
   "skip_h1_title": false,
   "title_cell": "Table of Contents",
   "title_sidebar": "Contents",
   "toc_cell": false,
   "toc_position": {},
   "toc_section_display": true,
   "toc_window_display": false
  }
 },
 "nbformat": 4,
 "nbformat_minor": 2
}
