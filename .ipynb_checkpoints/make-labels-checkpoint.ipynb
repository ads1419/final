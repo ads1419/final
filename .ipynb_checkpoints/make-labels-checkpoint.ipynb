{
 "cells": [
  {
   "cell_type": "markdown",
   "metadata": {},
   "source": [
    "# Labels | Dropwise Count"
   ]
  },
  {
   "cell_type": "code",
   "execution_count": 17,
   "metadata": {
    "ExecuteTime": {
     "end_time": "2020-07-18T09:26:34.223130Z",
     "start_time": "2020-07-18T09:26:34.219138Z"
    }
   },
   "outputs": [],
   "source": [
    "import pandas as pd\n",
    "import re\n",
    "from pathlib import Path\n",
    "import os"
   ]
  },
  {
   "cell_type": "code",
   "execution_count": 18,
   "metadata": {
    "ExecuteTime": {
     "end_time": "2020-07-18T09:26:34.566212Z",
     "start_time": "2020-07-18T09:26:34.562222Z"
    }
   },
   "outputs": [],
   "source": [
    "OUTPUT_DIR = Path(\"C:/Playground/bhaiya-orders/outputs/\")"
   ]
  },
  {
   "cell_type": "code",
   "execution_count": 19,
   "metadata": {
    "ExecuteTime": {
     "end_time": "2020-07-18T09:26:35.207780Z",
     "start_time": "2020-07-18T09:26:35.153846Z"
    }
   },
   "outputs": [],
   "source": [
    "from ipyfilechooser import FileChooser"
   ]
  },
  {
   "cell_type": "code",
   "execution_count": 20,
   "metadata": {
    "ExecuteTime": {
     "end_time": "2020-07-18T09:26:35.706368Z",
     "start_time": "2020-07-18T09:26:35.626582Z"
    }
   },
   "outputs": [
    {
     "data": {
      "application/vnd.jupyter.widget-view+json": {
       "model_id": "732668e8ef564d8c8cc1c2bedbc940ef",
       "version_major": 2,
       "version_minor": 0
      },
      "text/plain": [
       "FileChooser(path='C:/Playground/bhaiya-orders/', filename='', show_hidden='False')"
      ]
     },
     "metadata": {},
     "output_type": "display_data"
    }
   ],
   "source": [
    "fc = FileChooser(\"C:/Playground/bhaiya-orders/\")\n",
    "fc.use_dir_icons = True\n",
    "display(fc)"
   ]
  },
  {
   "cell_type": "code",
   "execution_count": 21,
   "metadata": {
    "ExecuteTime": {
     "end_time": "2020-07-18T09:26:41.637205Z",
     "start_time": "2020-07-18T09:26:41.633191Z"
    }
   },
   "outputs": [],
   "source": [
    "FILE = Path(fc.selected)"
   ]
  },
  {
   "cell_type": "code",
   "execution_count": 22,
   "metadata": {
    "ExecuteTime": {
     "end_time": "2020-07-18T09:26:43.376572Z",
     "start_time": "2020-07-18T09:26:43.348615Z"
    }
   },
   "outputs": [],
   "source": [
    "try:\n",
    "    if 'csv' in FILE.suffix: df = pd.read_csv(FILE)\n",
    "    else: df = pd.read_excel(FILE)\n",
    "except OSError:\n",
    "    print(\"Error occured, invalid file!\")"
   ]
  },
  {
   "cell_type": "code",
   "execution_count": 23,
   "metadata": {
    "ExecuteTime": {
     "end_time": "2020-07-18T09:26:49.394467Z",
     "start_time": "2020-07-18T09:26:49.377489Z"
    }
   },
   "outputs": [
    {
     "data": {
      "text/html": [
       "<div>\n",
       "<style scoped>\n",
       "    .dataframe tbody tr th:only-of-type {\n",
       "        vertical-align: middle;\n",
       "    }\n",
       "\n",
       "    .dataframe tbody tr th {\n",
       "        vertical-align: top;\n",
       "    }\n",
       "\n",
       "    .dataframe thead th {\n",
       "        text-align: right;\n",
       "    }\n",
       "</style>\n",
       "<table border=\"1\" class=\"dataframe\">\n",
       "  <thead>\n",
       "    <tr style=\"text-align: right;\">\n",
       "      <th></th>\n",
       "      <th>Submission Date</th>\n",
       "      <th>Order Number#</th>\n",
       "      <th>First Name</th>\n",
       "      <th>Last Name</th>\n",
       "      <th>Select Drop Point and Building</th>\n",
       "      <th>Any other building?</th>\n",
       "      <th>Select Wing</th>\n",
       "      <th>Flat No</th>\n",
       "      <th>Phone Number</th>\n",
       "      <th>Email</th>\n",
       "      <th>Select Delivery Date</th>\n",
       "      <th>Your Order: Products</th>\n",
       "      <th>No Label</th>\n",
       "      <th>Any Pending credit from previous orders?</th>\n",
       "    </tr>\n",
       "  </thead>\n",
       "  <tbody>\n",
       "    <tr>\n",
       "      <th>0</th>\n",
       "      <td>2020-07-07 22:25:54</td>\n",
       "      <td>BHOR-0507</td>\n",
       "      <td>Payal</td>\n",
       "      <td>Sharma</td>\n",
       "      <td>Cosmic - Cosmic Heights</td>\n",
       "      <td>NaN</td>\n",
       "      <td>A Wing</td>\n",
       "      <td>1904</td>\n",
       "      <td>9930581815</td>\n",
       "      <td>payalmakhijani@gmail.com</td>\n",
       "      <td>Thursday 9th July</td>\n",
       "      <td>Baby Corn 300 gms (Amount: 60.00 INR, Select n...</td>\n",
       "      <td>Accepted\\n\\n1. All issues and complaints regar...</td>\n",
       "      <td>NaN</td>\n",
       "    </tr>\n",
       "    <tr>\n",
       "      <th>1</th>\n",
       "      <td>2020-07-07 22:06:39</td>\n",
       "      <td>BHOR-0506</td>\n",
       "      <td>Priyanka</td>\n",
       "      <td>Pipada</td>\n",
       "      <td>Aeon/Zeon - Zeon</td>\n",
       "      <td>NaN</td>\n",
       "      <td>B Wing</td>\n",
       "      <td>2901</td>\n",
       "      <td>9819714534</td>\n",
       "      <td>vaibhavkanyalkar@gmail.com</td>\n",
       "      <td>Thursday 9th July</td>\n",
       "      <td>Potato 1 Kg (Amount: 36.00 INR, Special Quanti...</td>\n",
       "      <td>Accepted\\n\\n1. All issues and complaints regar...</td>\n",
       "      <td>NaN</td>\n",
       "    </tr>\n",
       "  </tbody>\n",
       "</table>\n",
       "</div>"
      ],
      "text/plain": [
       "      Submission Date Order Number# First Name Last Name  \\\n",
       "0 2020-07-07 22:25:54     BHOR-0507      Payal    Sharma   \n",
       "1 2020-07-07 22:06:39     BHOR-0506   Priyanka    Pipada   \n",
       "\n",
       "  Select Drop Point and Building Any other building? Select Wing Flat No  \\\n",
       "0        Cosmic - Cosmic Heights                 NaN      A Wing    1904   \n",
       "1               Aeon/Zeon - Zeon                 NaN      B Wing    2901   \n",
       "\n",
       "   Phone Number                       Email Select Delivery Date  \\\n",
       "0    9930581815    payalmakhijani@gmail.com    Thursday 9th July   \n",
       "1    9819714534  vaibhavkanyalkar@gmail.com    Thursday 9th July   \n",
       "\n",
       "                                Your Order: Products  \\\n",
       "0  Baby Corn 300 gms (Amount: 60.00 INR, Select n...   \n",
       "1  Potato 1 Kg (Amount: 36.00 INR, Special Quanti...   \n",
       "\n",
       "                                            No Label  \\\n",
       "0  Accepted\\n\\n1. All issues and complaints regar...   \n",
       "1  Accepted\\n\\n1. All issues and complaints regar...   \n",
       "\n",
       "   Any Pending credit from previous orders?  \n",
       "0                                       NaN  \n",
       "1                                       NaN  "
      ]
     },
     "execution_count": 23,
     "metadata": {},
     "output_type": "execute_result"
    }
   ],
   "source": [
    "df.head(2)"
   ]
  },
  {
   "cell_type": "markdown",
   "metadata": {},
   "source": [
    "# Manual (Obsolete)"
   ]
  },
  {
   "cell_type": "markdown",
   "metadata": {},
   "source": [
    "This section creates labels from the Pipe Separated File, which was done manually earlier."
   ]
  },
  {
   "cell_type": "code",
   "execution_count": 45,
   "metadata": {
    "ExecuteTime": {
     "end_time": "2020-07-18T09:37:15.200729Z",
     "start_time": "2020-07-18T09:37:15.195742Z"
    }
   },
   "outputs": [],
   "source": [
    "# ITEMS = 'Your Order: Products'"
   ]
  },
  {
   "cell_type": "code",
   "execution_count": 46,
   "metadata": {
    "ExecuteTime": {
     "end_time": "2020-07-18T09:37:15.353534Z",
     "start_time": "2020-07-18T09:37:15.349546Z"
    }
   },
   "outputs": [],
   "source": [
    "# df[ITEMS][0]"
   ]
  },
  {
   "cell_type": "code",
   "execution_count": 47,
   "metadata": {
    "ExecuteTime": {
     "end_time": "2020-07-18T09:37:15.501139Z",
     "start_time": "2020-07-18T09:37:15.497150Z"
    }
   },
   "outputs": [],
   "source": [
    "# cols = df.columns"
   ]
  },
  {
   "cell_type": "code",
   "execution_count": 48,
   "metadata": {
    "ExecuteTime": {
     "end_time": "2020-07-18T09:37:15.644754Z",
     "start_time": "2020-07-18T09:37:15.640766Z"
    }
   },
   "outputs": [],
   "source": [
    "# # splitting on pipe\n",
    "# new_df = pd.DataFrame(columns=df.columns)\n",
    "\n",
    "# for index, row in df.iterrows():\n",
    "#     row_dict = {}\n",
    "    \n",
    "#     for col in cols:\n",
    "#         row_dict[col] = row[col]\n",
    "        \n",
    "#     spl = row[ITEMS].split('|')\n",
    "#     for item in spl:\n",
    "#         item = item.strip()\n",
    "#         if len(item) > 2:\n",
    "#             row_dict[ITEMS] = item\n",
    "#             new_df = new_df.append(row_dict, ignore_index=True)"
   ]
  },
  {
   "cell_type": "code",
   "execution_count": 49,
   "metadata": {
    "ExecuteTime": {
     "end_time": "2020-07-18T09:37:16.878455Z",
     "start_time": "2020-07-18T09:37:16.874467Z"
    }
   },
   "outputs": [],
   "source": [
    "# new_df.to_csv('separate-pipe.csv', index=False)"
   ]
  },
  {
   "cell_type": "code",
   "execution_count": 50,
   "metadata": {
    "ExecuteTime": {
     "end_time": "2020-07-18T09:37:17.034039Z",
     "start_time": "2020-07-18T09:37:17.030048Z"
    }
   },
   "outputs": [],
   "source": [
    "# # replicate count number of times\n",
    "# brand_new_df = pd.DataFrame(columns=new_df.columns)\n",
    "\n",
    "# for index, row in new_df.iterrows():\n",
    "#     spl = row[ITEMS].split('-')\n",
    "#     for i in range(int(spl[-1])):\n",
    "#         brand_new_df = brand_new_df.append(row, ignore_index=True)\n",
    "\n",
    "# brand_new_df[ITEMS] = brand_new_df[ITEMS].apply(lambda x: x.split('-')[0])"
   ]
  },
  {
   "cell_type": "code",
   "execution_count": 51,
   "metadata": {
    "ExecuteTime": {
     "end_time": "2020-07-18T09:37:17.605510Z",
     "start_time": "2020-07-18T09:37:17.601521Z"
    }
   },
   "outputs": [],
   "source": [
    "# brand_new_df.to_csv('separate-pipe-make-labels.csv', index=False)"
   ]
  },
  {
   "cell_type": "markdown",
   "metadata": {},
   "source": [
    "# Use This"
   ]
  },
  {
   "cell_type": "code",
   "execution_count": 33,
   "metadata": {
    "ExecuteTime": {
     "end_time": "2020-07-18T09:28:46.484680Z",
     "start_time": "2020-07-18T09:28:46.477697Z"
    }
   },
   "outputs": [],
   "source": [
    "# df[\"Token\"] = list(range(len(df)))"
   ]
  },
  {
   "cell_type": "code",
   "execution_count": 34,
   "metadata": {
    "ExecuteTime": {
     "end_time": "2020-07-18T09:28:48.194019Z",
     "start_time": "2020-07-18T09:28:48.189029Z"
    }
   },
   "outputs": [],
   "source": [
    "for col in df.columns:\n",
    "    if \"Your Order\" in col:\n",
    "        your_order = col\n",
    "        \n",
    "    if \"token\" in col.lower():\n",
    "        token = col\n",
    "        \n",
    "    if \"flat\" in col.lower():\n",
    "        flat = col"
   ]
  },
  {
   "cell_type": "code",
   "execution_count": 29,
   "metadata": {
    "ExecuteTime": {
     "end_time": "2020-07-18T09:27:48.344271Z",
     "start_time": "2020-07-18T09:27:48.338286Z"
    }
   },
   "outputs": [
    {
     "data": {
      "text/plain": [
       "'Baby Corn 300 gms (Amount: 60.00 INR, Select no. of 300 gm packets required: 1)\\nBroccoli  250 gms (Amount: 65.00 INR, Special Quantity: 1)\\nRed & Yellow Bell Pepper 2 each in a pack (Amount: 110.00 INR, Special Quantity: 1)\\nBasil Leaves  100 gms (Amount: 25.00 INR, Special Quantity: 1)\\nSubtotal: \\nTax: \\n\\nTotal: 260.00'"
      ]
     },
     "execution_count": 29,
     "metadata": {},
     "output_type": "execute_result"
    }
   ],
   "source": [
    "df[your_order][0]"
   ]
  },
  {
   "cell_type": "code",
   "execution_count": 30,
   "metadata": {
    "ExecuteTime": {
     "end_time": "2020-07-18T09:27:48.946658Z",
     "start_time": "2020-07-18T09:27:48.935689Z"
    }
   },
   "outputs": [],
   "source": [
    "def get_item_name(order):\n",
    "    '''\n",
    "    Return the Item Name, Final Weight, Num Packets, Unit\n",
    "    '''\n",
    "    \n",
    "    stopwords = ['per', 'gms', 'gm', 'kgs', 'kg', 'pack', 'each', '-']\n",
    "    \n",
    "    # parse the key, stop when you encounter a number, unit, keyword like 'per', 'pack'\n",
    "    item = order.split('(')[0].strip()\n",
    "    item = re.sub('[0-9]+', ' ', item)\n",
    "    item = item.split()\n",
    "#     print(item)\n",
    "    final_item = ''\n",
    "    for token in item:\n",
    "        if token.lower() in stopwords:\n",
    "            break\n",
    "        final_item += ' ' + token\n",
    "    \n",
    "    return final_item.strip()\n",
    "\n",
    "\n",
    "def get_qty(txt):\n",
    "    \n",
    "    \"\"\"\n",
    "        Returns the Special Quantity key for a given order. \n",
    "            Sample input string: '...no. of 500 gm packets required: 1)'\n",
    "            Returns: 1\n",
    "    \"\"\"\n",
    "    \n",
    "    if txt[-1] != ')':  txt = txt + ')'\n",
    "    \n",
    "    match = re.search(\": ([0-9]+?)\\)\", txt)\n",
    "\n",
    "    # temporary fix for VNR Guava\n",
    "    if \"VNR Guava Per Kg (\" in txt: match = re.search(\"\\(([0-9]+?)\", txt)\n",
    "    \n",
    "    if match:\n",
    "        return int(match.group(1))\n",
    "    \n",
    "    \n",
    "def extract_num(txt):\n",
    "    \n",
    "    \"\"\"\n",
    "        Searches a string and returns the last number found, if present. \n",
    "        Otherwise return 1.\n",
    "        Use case: For an item key such as 'Tondli 300 gms ', return 300 (to calculate total qty required)\n",
    "    \"\"\"\n",
    "    \n",
    "    match = re.findall(\"([0-9]+)\", txt)\n",
    "    if match:\n",
    "        return int(match[-1])\n",
    "    else:\n",
    "        return 1\n",
    "    \n",
    "    \n",
    "    \n",
    "def get_unit(txt):\n",
    "    \"\"\"\n",
    "        Gets unit from an item string.\n",
    "        Assumption: standard occurence of units all across the board. \n",
    "    \"\"\"\n",
    "    txt = txt.lower()\n",
    "    if txt.find(' gm') != -1: unit = 'gms'\n",
    "    elif (txt.find(' pc') != -1) or (txt.find(' pack') != -1): unit = 'pcs'\n",
    "    elif txt.find(' bunch') != -1: unit = 'bunches'\n",
    "    else: unit = 'kgs'\n",
    "    return unit"
   ]
  },
  {
   "cell_type": "code",
   "execution_count": 31,
   "metadata": {
    "ExecuteTime": {
     "end_time": "2020-07-18T09:27:50.130701Z",
     "start_time": "2020-07-18T09:27:50.124715Z"
    }
   },
   "outputs": [],
   "source": [
    "def parse_order(order):\n",
    "    '''\n",
    "    Return the Item Name, Final Weight, Num Packets, Unit\n",
    "    '''\n",
    "    if len(order.split('(')) < 2: return None\n",
    "    \n",
    "    item_name = get_item_name(order)\n",
    "    num_packets = get_qty(order)\n",
    "    unit = get_unit(order)\n",
    "    qty_per_pack = extract_num(order.split('(')[0])\n",
    "    final_weight = qty_per_pack * num_packets\n",
    "\n",
    "    return {\"item_name\": item_name,\n",
    "            \"num_packets\": num_packets,\n",
    "            \"unit\": unit,\n",
    "            \"final_weight\": final_weight}"
   ]
  },
  {
   "cell_type": "code",
   "execution_count": 35,
   "metadata": {
    "ExecuteTime": {
     "end_time": "2020-07-18T09:28:57.031484Z",
     "start_time": "2020-07-18T09:28:56.922680Z"
    }
   },
   "outputs": [],
   "source": [
    "rows_list = []\n",
    "for index, row in df.iterrows():\n",
    "    for order in row[your_order].split(')'):\n",
    "        parsed = parse_order(order)\n",
    "        if parsed:\n",
    "            for q in range(parsed['num_packets']):\n",
    "                row_dict = {}\n",
    "                row_dict['token_no'] = row[token]\n",
    "                row_dict['first_name'] = row[\"First Name\"]\n",
    "                row_dict['last_name'] = row[\"Last Name\"]\n",
    "                row_dict['item_name'] = parsed['item_name']\n",
    "                row_dict['drop_point'] = row['Select Drop Point and Building'].split('-')[0]\n",
    "\n",
    "    #             # TEMP\n",
    "    #             row_dict['final_weight'] = parsed['final_weight']\n",
    "    #             row_dict['num_packets'] = parsed['num_packets']\n",
    "\n",
    "                row_dict['building'] = row['Select Drop Point and Building']\n",
    "                row_dict['wing'] = row['Select Wing']\n",
    "                row_dict['flat_no'] = row[flat]\n",
    "                row_dict['phone_number'] = row['Phone Number']\n",
    "                row_dict['email_id'] = row['Email']\n",
    "\n",
    "#                 if 'parwal' in row_dict['item_name'].lower() or 'potato' in row_dict['item_name'].lower():\n",
    "                rows_list.append(row_dict)"
   ]
  },
  {
   "cell_type": "code",
   "execution_count": 36,
   "metadata": {
    "ExecuteTime": {
     "end_time": "2020-07-18T09:28:59.079329Z",
     "start_time": "2020-07-18T09:28:59.069354Z"
    }
   },
   "outputs": [],
   "source": [
    "new_df = pd.DataFrame(rows_list)"
   ]
  },
  {
   "cell_type": "code",
   "execution_count": 37,
   "metadata": {
    "ExecuteTime": {
     "end_time": "2020-07-18T09:29:04.436087Z",
     "start_time": "2020-07-18T09:29:04.416112Z"
    }
   },
   "outputs": [
    {
     "data": {
      "text/html": [
       "<div>\n",
       "<style scoped>\n",
       "    .dataframe tbody tr th:only-of-type {\n",
       "        vertical-align: middle;\n",
       "    }\n",
       "\n",
       "    .dataframe tbody tr th {\n",
       "        vertical-align: top;\n",
       "    }\n",
       "\n",
       "    .dataframe thead th {\n",
       "        text-align: right;\n",
       "    }\n",
       "</style>\n",
       "<table border=\"1\" class=\"dataframe\">\n",
       "  <thead>\n",
       "    <tr style=\"text-align: right;\">\n",
       "      <th></th>\n",
       "      <th>token_no</th>\n",
       "      <th>first_name</th>\n",
       "      <th>last_name</th>\n",
       "      <th>item_name</th>\n",
       "      <th>drop_point</th>\n",
       "      <th>building</th>\n",
       "      <th>wing</th>\n",
       "      <th>flat_no</th>\n",
       "      <th>phone_number</th>\n",
       "      <th>email_id</th>\n",
       "    </tr>\n",
       "  </thead>\n",
       "  <tbody>\n",
       "    <tr>\n",
       "      <th>0</th>\n",
       "      <td>0</td>\n",
       "      <td>Payal</td>\n",
       "      <td>Sharma</td>\n",
       "      <td>Baby Corn</td>\n",
       "      <td>Cosmic</td>\n",
       "      <td>Cosmic - Cosmic Heights</td>\n",
       "      <td>A Wing</td>\n",
       "      <td>1904</td>\n",
       "      <td>9930581815</td>\n",
       "      <td>payalmakhijani@gmail.com</td>\n",
       "    </tr>\n",
       "    <tr>\n",
       "      <th>1</th>\n",
       "      <td>0</td>\n",
       "      <td>Payal</td>\n",
       "      <td>Sharma</td>\n",
       "      <td>Broccoli</td>\n",
       "      <td>Cosmic</td>\n",
       "      <td>Cosmic - Cosmic Heights</td>\n",
       "      <td>A Wing</td>\n",
       "      <td>1904</td>\n",
       "      <td>9930581815</td>\n",
       "      <td>payalmakhijani@gmail.com</td>\n",
       "    </tr>\n",
       "    <tr>\n",
       "      <th>2</th>\n",
       "      <td>0</td>\n",
       "      <td>Payal</td>\n",
       "      <td>Sharma</td>\n",
       "      <td>Red &amp; Yellow Bell Pepper</td>\n",
       "      <td>Cosmic</td>\n",
       "      <td>Cosmic - Cosmic Heights</td>\n",
       "      <td>A Wing</td>\n",
       "      <td>1904</td>\n",
       "      <td>9930581815</td>\n",
       "      <td>payalmakhijani@gmail.com</td>\n",
       "    </tr>\n",
       "    <tr>\n",
       "      <th>3</th>\n",
       "      <td>0</td>\n",
       "      <td>Payal</td>\n",
       "      <td>Sharma</td>\n",
       "      <td>Basil Leaves</td>\n",
       "      <td>Cosmic</td>\n",
       "      <td>Cosmic - Cosmic Heights</td>\n",
       "      <td>A Wing</td>\n",
       "      <td>1904</td>\n",
       "      <td>9930581815</td>\n",
       "      <td>payalmakhijani@gmail.com</td>\n",
       "    </tr>\n",
       "    <tr>\n",
       "      <th>4</th>\n",
       "      <td>1</td>\n",
       "      <td>Priyanka</td>\n",
       "      <td>Pipada</td>\n",
       "      <td>Potato</td>\n",
       "      <td>Aeon/Zeon</td>\n",
       "      <td>Aeon/Zeon - Zeon</td>\n",
       "      <td>B Wing</td>\n",
       "      <td>2901</td>\n",
       "      <td>9819714534</td>\n",
       "      <td>vaibhavkanyalkar@gmail.com</td>\n",
       "    </tr>\n",
       "  </tbody>\n",
       "</table>\n",
       "</div>"
      ],
      "text/plain": [
       "   token_no first_name last_name                 item_name  drop_point  \\\n",
       "0         0      Payal    Sharma                 Baby Corn     Cosmic    \n",
       "1         0      Payal    Sharma                  Broccoli     Cosmic    \n",
       "2         0      Payal    Sharma  Red & Yellow Bell Pepper     Cosmic    \n",
       "3         0      Payal    Sharma              Basil Leaves     Cosmic    \n",
       "4         1   Priyanka    Pipada                    Potato  Aeon/Zeon    \n",
       "\n",
       "                  building    wing flat_no  phone_number  \\\n",
       "0  Cosmic - Cosmic Heights  A Wing    1904    9930581815   \n",
       "1  Cosmic - Cosmic Heights  A Wing    1904    9930581815   \n",
       "2  Cosmic - Cosmic Heights  A Wing    1904    9930581815   \n",
       "3  Cosmic - Cosmic Heights  A Wing    1904    9930581815   \n",
       "4         Aeon/Zeon - Zeon  B Wing    2901    9819714534   \n",
       "\n",
       "                     email_id  \n",
       "0    payalmakhijani@gmail.com  \n",
       "1    payalmakhijani@gmail.com  \n",
       "2    payalmakhijani@gmail.com  \n",
       "3    payalmakhijani@gmail.com  \n",
       "4  vaibhavkanyalkar@gmail.com  "
      ]
     },
     "execution_count": 37,
     "metadata": {},
     "output_type": "execute_result"
    }
   ],
   "source": [
    "new_df.head()"
   ]
  },
  {
   "cell_type": "code",
   "execution_count": 38,
   "metadata": {
    "ExecuteTime": {
     "end_time": "2020-07-18T09:30:04.524977Z",
     "start_time": "2020-07-18T09:30:04.519963Z"
    }
   },
   "outputs": [],
   "source": [
    "save_pth = OUTPUT_DIR/FILE.stem\n",
    "os.makedirs(save_pth, exist_ok=True)"
   ]
  },
  {
   "cell_type": "markdown",
   "metadata": {},
   "source": [
    "### Save DropWise"
   ]
  },
  {
   "cell_type": "code",
   "execution_count": 39,
   "metadata": {
    "ExecuteTime": {
     "end_time": "2020-07-18T09:30:20.655443Z",
     "start_time": "2020-07-18T09:30:20.649448Z"
    }
   },
   "outputs": [],
   "source": [
    "fname = save_pth/('dropwise-'+ str(FILE.stem) + '.csv')"
   ]
  },
  {
   "cell_type": "code",
   "execution_count": 40,
   "metadata": {
    "ExecuteTime": {
     "end_time": "2020-07-18T09:30:27.465421Z",
     "start_time": "2020-07-18T09:30:27.443482Z"
    }
   },
   "outputs": [],
   "source": [
    "new_df.groupby(['drop_point', 'item_name']).count().token_no.to_csv(fname, header=['count'])"
   ]
  },
  {
   "cell_type": "markdown",
   "metadata": {
    "ExecuteTime": {
     "end_time": "2020-07-18T09:30:41.960646Z",
     "start_time": "2020-07-18T09:30:41.955660Z"
    }
   },
   "source": [
    "### Save Labels"
   ]
  },
  {
   "cell_type": "code",
   "execution_count": 43,
   "metadata": {
    "ExecuteTime": {
     "end_time": "2020-07-18T09:31:03.623245Z",
     "start_time": "2020-07-18T09:31:03.618258Z"
    }
   },
   "outputs": [],
   "source": [
    "fname = save_pth/('labels-' + str(FILE.stem) + '.csv')"
   ]
  },
  {
   "cell_type": "code",
   "execution_count": 44,
   "metadata": {
    "ExecuteTime": {
     "end_time": "2020-07-18T09:31:05.603977Z",
     "start_time": "2020-07-18T09:31:05.590982Z"
    }
   },
   "outputs": [],
   "source": [
    "new_df.to_csv(fname, index=False)"
   ]
  },
  {
   "cell_type": "code",
   "execution_count": null,
   "metadata": {},
   "outputs": [],
   "source": []
  }
 ],
 "metadata": {
  "kernelspec": {
   "display_name": "Python [conda env:fastaiv1] *",
   "language": "python",
   "name": "conda-env-fastaiv1-py"
  },
  "language_info": {
   "codemirror_mode": {
    "name": "ipython",
    "version": 3
   },
   "file_extension": ".py",
   "mimetype": "text/x-python",
   "name": "python",
   "nbconvert_exporter": "python",
   "pygments_lexer": "ipython3",
   "version": "3.6.9"
  },
  "toc": {
   "base_numbering": 1,
   "nav_menu": {},
   "number_sections": true,
   "sideBar": true,
   "skip_h1_title": false,
   "title_cell": "Table of Contents",
   "title_sidebar": "Contents",
   "toc_cell": false,
   "toc_position": {},
   "toc_section_display": true,
   "toc_window_display": false
  }
 },
 "nbformat": 4,
 "nbformat_minor": 2
}
