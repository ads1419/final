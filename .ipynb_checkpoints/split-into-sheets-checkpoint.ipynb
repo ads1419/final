{
 "cells": [
  {
   "cell_type": "code",
   "execution_count": 1,
   "metadata": {
    "ExecuteTime": {
     "end_time": "2020-07-02T20:11:05.272033Z",
     "start_time": "2020-07-02T20:11:03.546108Z"
    }
   },
   "outputs": [],
   "source": [
    "from fastai.imports import *"
   ]
  },
  {
   "cell_type": "code",
   "execution_count": 2,
   "metadata": {
    "ExecuteTime": {
     "end_time": "2020-07-02T20:11:05.881983Z",
     "start_time": "2020-07-02T20:11:05.877966Z"
    }
   },
   "outputs": [],
   "source": [
    "FILE = \"C:/Playground/bhaiya-orders/PrePrint.xlsx\""
   ]
  },
  {
   "cell_type": "code",
   "execution_count": 3,
   "metadata": {
    "ExecuteTime": {
     "end_time": "2020-07-02T20:11:06.718554Z",
     "start_time": "2020-07-02T20:11:06.466241Z"
    }
   },
   "outputs": [],
   "source": [
    "df = pd.read_excel(FILE)"
   ]
  },
  {
   "cell_type": "code",
   "execution_count": 4,
   "metadata": {
    "ExecuteTime": {
     "end_time": "2020-07-02T20:11:07.397949Z",
     "start_time": "2020-07-02T20:11:07.391935Z"
    }
   },
   "outputs": [
    {
     "data": {
      "text/plain": [
       "Index(['Sr. No.', 'First   Name', 'Last    Name', 'Building Name',\n",
       "       'Dlivry Date', 'Final Item Name', 'Final Marathi Name', 'Final Weight',\n",
       "       'No Of Packets', 'Unit/Grams', 'Drop Point For Box'],\n",
       "      dtype='object')"
      ]
     },
     "execution_count": 4,
     "metadata": {},
     "output_type": "execute_result"
    }
   ],
   "source": [
    "df.columns"
   ]
  },
  {
   "cell_type": "code",
   "execution_count": 5,
   "metadata": {
    "ExecuteTime": {
     "end_time": "2020-07-02T20:11:08.075881Z",
     "start_time": "2020-07-02T20:11:08.056919Z"
    }
   },
   "outputs": [],
   "source": [
    "df[\"Name\"] = df[df.columns[1]] + ' ' + df[df.columns[2]]"
   ]
  },
  {
   "cell_type": "code",
   "execution_count": 6,
   "metadata": {
    "ExecuteTime": {
     "end_time": "2020-07-02T20:11:10.279867Z",
     "start_time": "2020-07-02T20:11:10.275850Z"
    }
   },
   "outputs": [],
   "source": [
    "highlight_col = 'No Of Packets'"
   ]
  },
  {
   "cell_type": "code",
   "execution_count": 7,
   "metadata": {
    "ExecuteTime": {
     "end_time": "2020-07-02T20:11:11.569871Z",
     "start_time": "2020-07-02T20:11:11.565879Z"
    }
   },
   "outputs": [],
   "source": [
    "custs = df.Name.unique()"
   ]
  },
  {
   "cell_type": "code",
   "execution_count": 8,
   "metadata": {
    "ExecuteTime": {
     "end_time": "2020-07-02T20:11:12.576980Z",
     "start_time": "2020-07-02T20:11:12.573982Z"
    }
   },
   "outputs": [],
   "source": [
    "# with pd.ExcelWriter('output.xlsx') as writer:\n",
    "#     for cust in custs:\n",
    "#         df[df[df.columns[1]] == cust].to_excel(writer, sheet_name=cust)"
   ]
  },
  {
   "cell_type": "code",
   "execution_count": 9,
   "metadata": {
    "ExecuteTime": {
     "end_time": "2020-07-02T20:11:17.632127Z",
     "start_time": "2020-07-02T20:11:17.628138Z"
    }
   },
   "outputs": [],
   "source": [
    "def f(x):\n",
    "    col = highlight_col\n",
    "    r = 'background-color: none'\n",
    "    g = 'background-color: yellow'\n",
    "    c = np.where(x[col] > 1, g, r)\n",
    "    y = pd.DataFrame('', index=x.index, columns=x.columns)\n",
    "    y[col] = c\n",
    "    return y"
   ]
  },
  {
   "cell_type": "code",
   "execution_count": 10,
   "metadata": {
    "ExecuteTime": {
     "end_time": "2020-07-02T20:11:24.362012Z",
     "start_time": "2020-07-02T20:11:18.351607Z"
    }
   },
   "outputs": [],
   "source": [
    "all_data = 0\n",
    "\n",
    "with pd.ExcelWriter('formatted.xlsx') as writer:\n",
    "    for cust in custs:\n",
    "        c = cust.split()\n",
    "        data = df[df.Name == cust]\n",
    "        all_data += len(data.index)\n",
    "        styled = data.drop(columns=[\"Name\"]).style.apply(f, axis=None)\n",
    "        styled.to_excel(writer, sheet_name=cust, engine='openpyxl')"
   ]
  },
  {
   "cell_type": "code",
   "execution_count": 11,
   "metadata": {
    "ExecuteTime": {
     "end_time": "2020-07-02T20:11:24.368829Z",
     "start_time": "2020-07-02T20:11:24.363803Z"
    }
   },
   "outputs": [],
   "source": [
    "assert all_data == len(df)"
   ]
  },
  {
   "cell_type": "code",
   "execution_count": null,
   "metadata": {},
   "outputs": [],
   "source": []
  }
 ],
 "metadata": {
  "kernelspec": {
   "display_name": "Python [conda env:fastaiv1] *",
   "language": "python",
   "name": "conda-env-fastaiv1-py"
  },
  "language_info": {
   "codemirror_mode": {
    "name": "ipython",
    "version": 3
   },
   "file_extension": ".py",
   "mimetype": "text/x-python",
   "name": "python",
   "nbconvert_exporter": "python",
   "pygments_lexer": "ipython3",
   "version": "3.6.9"
  },
  "toc": {
   "base_numbering": 1,
   "nav_menu": {},
   "number_sections": true,
   "sideBar": true,
   "skip_h1_title": false,
   "title_cell": "Table of Contents",
   "title_sidebar": "Contents",
   "toc_cell": false,
   "toc_position": {},
   "toc_section_display": true,
   "toc_window_display": false
  }
 },
 "nbformat": 4,
 "nbformat_minor": 2
}
