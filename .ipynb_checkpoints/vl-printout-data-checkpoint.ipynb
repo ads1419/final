{
 "cells": [
  {
   "cell_type": "markdown",
   "metadata": {},
   "source": [
    "# Printout Data | Item Count | Pipe Separated File"
   ]
  },
  {
   "cell_type": "code",
   "execution_count": 1,
   "metadata": {
    "ExecuteTime": {
     "end_time": "2020-07-18T09:23:18.619792Z",
     "start_time": "2020-07-18T09:23:17.812943Z"
    }
   },
   "outputs": [],
   "source": [
    "import pandas as pd\n",
    "import re\n",
    "from pathlib import Path\n",
    "import os"
   ]
  },
  {
   "cell_type": "code",
   "execution_count": 2,
   "metadata": {
    "ExecuteTime": {
     "end_time": "2020-07-18T09:23:18.627766Z",
     "start_time": "2020-07-18T09:23:18.621779Z"
    }
   },
   "outputs": [],
   "source": [
    "OUTPUT_DIR = Path(\"C:/Playground/bhaiya-orders/outputs/\")"
   ]
  },
  {
   "cell_type": "code",
   "execution_count": 3,
   "metadata": {
    "ExecuteTime": {
     "end_time": "2020-07-18T09:23:18.697579Z",
     "start_time": "2020-07-18T09:23:18.632751Z"
    }
   },
   "outputs": [],
   "source": [
    "from ipyfilechooser import FileChooser"
   ]
  },
  {
   "cell_type": "code",
   "execution_count": 4,
   "metadata": {
    "ExecuteTime": {
     "end_time": "2020-07-18T09:23:19.272055Z",
     "start_time": "2020-07-18T09:23:19.192271Z"
    }
   },
   "outputs": [
    {
     "data": {
      "application/vnd.jupyter.widget-view+json": {
       "model_id": "05296b51b2cb4db7a37cd40a1014962c",
       "version_major": 2,
       "version_minor": 0
      },
      "text/plain": [
       "FileChooser(path='C:/Playground/bhaiya-orders/', filename='', show_hidden='False')"
      ]
     },
     "metadata": {},
     "output_type": "display_data"
    }
   ],
   "source": [
    "fc = FileChooser(\"C:/Playground/bhaiya-orders/\")\n",
    "fc.use_dir_icons = True\n",
    "display(fc)"
   ]
  },
  {
   "cell_type": "code",
   "execution_count": 5,
   "metadata": {
    "ExecuteTime": {
     "end_time": "2020-07-18T09:23:26.786609Z",
     "start_time": "2020-07-18T09:23:26.781623Z"
    }
   },
   "outputs": [],
   "source": [
    "FILE = Path(fc.selected)"
   ]
  },
  {
   "cell_type": "code",
   "execution_count": 6,
   "metadata": {
    "ExecuteTime": {
     "end_time": "2020-07-18T09:23:27.216497Z",
     "start_time": "2020-07-18T09:23:27.165597Z"
    }
   },
   "outputs": [],
   "source": [
    "try:\n",
    "    if 'csv' in FILE.suffix: df = pd.read_csv(FILE)\n",
    "    else: df = pd.read_excel(FILE)\n",
    "except OSError:\n",
    "    print(\"Error occured, invalid file!\")"
   ]
  },
  {
   "cell_type": "code",
   "execution_count": 7,
   "metadata": {
    "ExecuteTime": {
     "end_time": "2020-07-18T09:23:27.497739Z",
     "start_time": "2020-07-18T09:23:27.491724Z"
    }
   },
   "outputs": [],
   "source": [
    "df.fillna('', inplace=True)"
   ]
  },
  {
   "cell_type": "code",
   "execution_count": 8,
   "metadata": {
    "ExecuteTime": {
     "end_time": "2020-07-18T09:23:27.861734Z",
     "start_time": "2020-07-18T09:23:27.829820Z"
    }
   },
   "outputs": [
    {
     "data": {
      "text/html": [
       "<div>\n",
       "<style scoped>\n",
       "    .dataframe tbody tr th:only-of-type {\n",
       "        vertical-align: middle;\n",
       "    }\n",
       "\n",
       "    .dataframe tbody tr th {\n",
       "        vertical-align: top;\n",
       "    }\n",
       "\n",
       "    .dataframe thead th {\n",
       "        text-align: right;\n",
       "    }\n",
       "</style>\n",
       "<table border=\"1\" class=\"dataframe\">\n",
       "  <thead>\n",
       "    <tr style=\"text-align: right;\">\n",
       "      <th></th>\n",
       "      <th>Submission Date</th>\n",
       "      <th>Order Number#</th>\n",
       "      <th>First Name</th>\n",
       "      <th>Last Name</th>\n",
       "      <th>Select Drop Point and Building</th>\n",
       "      <th>Any other building?</th>\n",
       "      <th>Select Wing</th>\n",
       "      <th>Flat No</th>\n",
       "      <th>Phone Number</th>\n",
       "      <th>Email</th>\n",
       "      <th>Select Delivery Date</th>\n",
       "      <th>Your Order: Products</th>\n",
       "      <th>No Label</th>\n",
       "      <th>Any Pending credit from previous orders?</th>\n",
       "    </tr>\n",
       "  </thead>\n",
       "  <tbody>\n",
       "    <tr>\n",
       "      <th>0</th>\n",
       "      <td>2020-07-07 22:25:54</td>\n",
       "      <td>BHOR-0507</td>\n",
       "      <td>Payal</td>\n",
       "      <td>Sharma</td>\n",
       "      <td>Cosmic - Cosmic Heights</td>\n",
       "      <td></td>\n",
       "      <td>A Wing</td>\n",
       "      <td>1904</td>\n",
       "      <td>9930581815</td>\n",
       "      <td>payalmakhijani@gmail.com</td>\n",
       "      <td>Thursday 9th July</td>\n",
       "      <td>Baby Corn 300 gms (Amount: 60.00 INR, Select n...</td>\n",
       "      <td>Accepted\\n\\n1. All issues and complaints regar...</td>\n",
       "      <td></td>\n",
       "    </tr>\n",
       "    <tr>\n",
       "      <th>1</th>\n",
       "      <td>2020-07-07 22:06:39</td>\n",
       "      <td>BHOR-0506</td>\n",
       "      <td>Priyanka</td>\n",
       "      <td>Pipada</td>\n",
       "      <td>Aeon/Zeon - Zeon</td>\n",
       "      <td></td>\n",
       "      <td>B Wing</td>\n",
       "      <td>2901</td>\n",
       "      <td>9819714534</td>\n",
       "      <td>vaibhavkanyalkar@gmail.com</td>\n",
       "      <td>Thursday 9th July</td>\n",
       "      <td>Potato 1 Kg (Amount: 36.00 INR, Special Quanti...</td>\n",
       "      <td>Accepted\\n\\n1. All issues and complaints regar...</td>\n",
       "      <td></td>\n",
       "    </tr>\n",
       "  </tbody>\n",
       "</table>\n",
       "</div>"
      ],
      "text/plain": [
       "      Submission Date Order Number# First Name Last Name  \\\n",
       "0 2020-07-07 22:25:54     BHOR-0507      Payal    Sharma   \n",
       "1 2020-07-07 22:06:39     BHOR-0506   Priyanka    Pipada   \n",
       "\n",
       "  Select Drop Point and Building Any other building? Select Wing Flat No  \\\n",
       "0        Cosmic - Cosmic Heights                          A Wing    1904   \n",
       "1               Aeon/Zeon - Zeon                          B Wing    2901   \n",
       "\n",
       "   Phone Number                       Email Select Delivery Date  \\\n",
       "0    9930581815    payalmakhijani@gmail.com    Thursday 9th July   \n",
       "1    9819714534  vaibhavkanyalkar@gmail.com    Thursday 9th July   \n",
       "\n",
       "                                Your Order: Products  \\\n",
       "0  Baby Corn 300 gms (Amount: 60.00 INR, Select n...   \n",
       "1  Potato 1 Kg (Amount: 36.00 INR, Special Quanti...   \n",
       "\n",
       "                                            No Label  \\\n",
       "0  Accepted\\n\\n1. All issues and complaints regar...   \n",
       "1  Accepted\\n\\n1. All issues and complaints regar...   \n",
       "\n",
       "  Any Pending credit from previous orders?  \n",
       "0                                           \n",
       "1                                           "
      ]
     },
     "execution_count": 8,
     "metadata": {},
     "output_type": "execute_result"
    }
   ],
   "source": [
    "df.head(2)"
   ]
  },
  {
   "cell_type": "code",
   "execution_count": 13,
   "metadata": {
    "ExecuteTime": {
     "end_time": "2020-07-18T09:23:47.792888Z",
     "start_time": "2020-07-18T09:23:47.788901Z"
    }
   },
   "outputs": [],
   "source": [
    "# df['Token'] = list(range(len(df)))"
   ]
  },
  {
   "cell_type": "code",
   "execution_count": 14,
   "metadata": {
    "ExecuteTime": {
     "end_time": "2020-07-18T09:23:48.550878Z",
     "start_time": "2020-07-18T09:23:48.545886Z"
    }
   },
   "outputs": [],
   "source": [
    "for col in df.columns:\n",
    "    if \"Your Order\" in col:\n",
    "        your_order = col\n",
    "        \n",
    "    if \"token\" in col.lower():\n",
    "        token = col\n",
    "        \n",
    "    if \"flat\" in col.lower():\n",
    "        flat = col\n",
    "        \n",
    "    if \"order\" in col.lower() and \"num\" in col.lower():\n",
    "        order_number = col"
   ]
  },
  {
   "cell_type": "code",
   "execution_count": 15,
   "metadata": {
    "ExecuteTime": {
     "end_time": "2020-07-18T09:23:49.628277Z",
     "start_time": "2020-07-18T09:23:49.622295Z"
    }
   },
   "outputs": [],
   "source": [
    "df['name'] = df['First Name'] + ' ' + df['Last Name'] + '_' + df[token].astype(str)"
   ]
  },
  {
   "cell_type": "code",
   "execution_count": 16,
   "metadata": {
    "ExecuteTime": {
     "end_time": "2020-07-18T09:23:50.450389Z",
     "start_time": "2020-07-18T09:23:50.444398Z"
    }
   },
   "outputs": [
    {
     "data": {
      "text/plain": [
       "'Baby Corn 300 gms (Amount: 60.00 INR, Select no. of 300 gm packets required: 1)\\nBroccoli  250 gms (Amount: 65.00 INR, Special Quantity: 1)\\nRed & Yellow Bell Pepper 2 each in a pack (Amount: 110.00 INR, Special Quantity: 1)\\nBasil Leaves  100 gms (Amount: 25.00 INR, Special Quantity: 1)\\nSubtotal: \\nTax: \\n\\nTotal: 260.00'"
      ]
     },
     "execution_count": 16,
     "metadata": {},
     "output_type": "execute_result"
    }
   ],
   "source": [
    "df[your_order][0]"
   ]
  },
  {
   "cell_type": "code",
   "execution_count": 17,
   "metadata": {
    "ExecuteTime": {
     "end_time": "2020-07-18T09:23:51.701970Z",
     "start_time": "2020-07-18T09:23:51.696990Z"
    }
   },
   "outputs": [],
   "source": [
    "k = []\n",
    "for order in df[your_order]:\n",
    "    split = order.split(')') # last item is always total cost\n",
    "    split = [s.replace('\\n', '') for s in split] # remove newlines if present\n",
    "    k.append(split)"
   ]
  },
  {
   "cell_type": "code",
   "execution_count": 18,
   "metadata": {
    "ExecuteTime": {
     "end_time": "2020-07-18T09:23:52.128879Z",
     "start_time": "2020-07-18T09:23:52.123864Z"
    }
   },
   "outputs": [],
   "source": [
    "save_pth = OUTPUT_DIR/FILE.stem\n",
    "os.makedirs(save_pth, exist_ok=True)"
   ]
  },
  {
   "cell_type": "markdown",
   "metadata": {},
   "source": [
    "## Non-Fruits (Item Count)"
   ]
  },
  {
   "cell_type": "code",
   "execution_count": 19,
   "metadata": {
    "ExecuteTime": {
     "end_time": "2020-07-18T09:23:53.295740Z",
     "start_time": "2020-07-18T09:23:53.291740Z"
    }
   },
   "outputs": [],
   "source": [
    "def get_qty(txt):\n",
    "    \n",
    "    \"\"\"\n",
    "        Returns the Special Quantity key for a given order. \n",
    "            Sample input string: '...no. of 500 gm packets required: 1)'\n",
    "            Returns: 1\n",
    "    \"\"\"\n",
    "    \n",
    "    match = re.search(\": ([0-9]+?)\\)\", txt)\n",
    "    if match:\n",
    "        return int(match.group(1))"
   ]
  },
  {
   "cell_type": "code",
   "execution_count": 20,
   "metadata": {
    "ExecuteTime": {
     "end_time": "2020-07-18T09:23:53.693839Z",
     "start_time": "2020-07-18T09:23:53.682871Z"
    }
   },
   "outputs": [],
   "source": [
    "val = {}\n",
    "total = {}\n",
    "for name, order in zip(df.name, k):\n",
    "    val[name] = 0\n",
    "    for i in order:\n",
    "        sp1 = i.split(\"(\")\n",
    "        if len(sp1) < 2:\n",
    "            total[name] = sp1[0].split()[-1] # total cost\n",
    "            continue\n",
    "        \n",
    "        sp1[1] = sp1[1] + ')'\n",
    "        val[name] += get_qty(sp1[1])\n",
    "        "
   ]
  },
  {
   "cell_type": "code",
   "execution_count": 21,
   "metadata": {
    "ExecuteTime": {
     "end_time": "2020-07-18T09:23:54.019275Z",
     "start_time": "2020-07-18T09:23:54.014288Z"
    }
   },
   "outputs": [],
   "source": [
    "new_df = pd.DataFrame()"
   ]
  },
  {
   "cell_type": "code",
   "execution_count": 22,
   "metadata": {
    "ExecuteTime": {
     "end_time": "2020-07-18T09:23:54.388637Z",
     "start_time": "2020-07-18T09:23:54.383673Z"
    }
   },
   "outputs": [],
   "source": [
    "new_df['token_no'] = df[token]"
   ]
  },
  {
   "cell_type": "code",
   "execution_count": 23,
   "metadata": {
    "ExecuteTime": {
     "end_time": "2020-07-18T09:23:54.772604Z",
     "start_time": "2020-07-18T09:23:54.767619Z"
    }
   },
   "outputs": [],
   "source": [
    "new_df['order_no'] = df[order_number]"
   ]
  },
  {
   "cell_type": "code",
   "execution_count": 24,
   "metadata": {
    "ExecuteTime": {
     "end_time": "2020-07-18T09:23:55.110911Z",
     "start_time": "2020-07-18T09:23:55.104928Z"
    }
   },
   "outputs": [],
   "source": [
    "new_df['name'] = df['name'].apply(lambda x: x.split('_')[0])"
   ]
  },
  {
   "cell_type": "code",
   "execution_count": 25,
   "metadata": {
    "ExecuteTime": {
     "end_time": "2020-07-18T09:23:55.799070Z",
     "start_time": "2020-07-18T09:23:55.794085Z"
    }
   },
   "outputs": [],
   "source": [
    "new_df['flat_no'] = df[flat]"
   ]
  },
  {
   "cell_type": "code",
   "execution_count": 26,
   "metadata": {
    "ExecuteTime": {
     "end_time": "2020-07-18T09:23:56.233907Z",
     "start_time": "2020-07-18T09:23:56.229919Z"
    }
   },
   "outputs": [],
   "source": [
    "# # For Thane\n",
    "# new_df['wing'] = df['Select Wing']"
   ]
  },
  {
   "cell_type": "code",
   "execution_count": 27,
   "metadata": {
    "ExecuteTime": {
     "end_time": "2020-07-18T09:23:56.648978Z",
     "start_time": "2020-07-18T09:23:56.642994Z"
    }
   },
   "outputs": [],
   "source": [
    "def func(x):\n",
    "    if '-' in x:\n",
    "        return x.split('-')[1]\n",
    "    return x\n",
    "\n",
    "new_df['building_name'] = df['Select Drop Point and Building'].apply(func)"
   ]
  },
  {
   "cell_type": "code",
   "execution_count": 28,
   "metadata": {
    "ExecuteTime": {
     "end_time": "2020-07-18T09:23:57.061501Z",
     "start_time": "2020-07-18T09:23:57.055517Z"
    }
   },
   "outputs": [],
   "source": [
    "new_df['building_name'] = new_df['building_name'] + ', ' + df['Select Wing']"
   ]
  },
  {
   "cell_type": "code",
   "execution_count": 29,
   "metadata": {
    "ExecuteTime": {
     "end_time": "2020-07-18T09:23:57.443414Z",
     "start_time": "2020-07-18T09:23:57.439398Z"
    }
   },
   "outputs": [],
   "source": [
    "new_df['phone_no'] = df['Phone Number']"
   ]
  },
  {
   "cell_type": "code",
   "execution_count": 30,
   "metadata": {
    "ExecuteTime": {
     "end_time": "2020-07-18T09:23:58.054749Z",
     "start_time": "2020-07-18T09:23:58.049764Z"
    }
   },
   "outputs": [],
   "source": [
    "new_df['email'] = df['Email']"
   ]
  },
  {
   "cell_type": "code",
   "execution_count": 31,
   "metadata": {
    "ExecuteTime": {
     "end_time": "2020-07-18T09:23:58.632372Z",
     "start_time": "2020-07-18T09:23:58.630372Z"
    }
   },
   "outputs": [],
   "source": [
    "# # # if Thane\n",
    "# new_df['drop_point'] = df['Enter Building Name']"
   ]
  },
  {
   "cell_type": "code",
   "execution_count": 32,
   "metadata": {
    "ExecuteTime": {
     "end_time": "2020-07-18T09:23:59.174913Z",
     "start_time": "2020-07-18T09:23:59.169929Z"
    }
   },
   "outputs": [],
   "source": [
    "new_df['drop_point'] = df['Select Drop Point and Building'].apply(lambda x: x.split('-')[0])"
   ]
  },
  {
   "cell_type": "code",
   "execution_count": 33,
   "metadata": {
    "ExecuteTime": {
     "end_time": "2020-07-18T09:23:59.630553Z",
     "start_time": "2020-07-18T09:23:59.624571Z"
    }
   },
   "outputs": [],
   "source": [
    "new_df['item_count'] = df.name.apply(lambda x: val[x])"
   ]
  },
  {
   "cell_type": "code",
   "execution_count": 34,
   "metadata": {
    "ExecuteTime": {
     "end_time": "2020-07-18T09:24:00.050925Z",
     "start_time": "2020-07-18T09:24:00.046909Z"
    }
   },
   "outputs": [],
   "source": [
    "new_df['total_amt'] = df.name.apply(lambda x: total[x])"
   ]
  },
  {
   "cell_type": "code",
   "execution_count": 35,
   "metadata": {
    "ExecuteTime": {
     "end_time": "2020-07-18T09:24:00.687629Z",
     "start_time": "2020-07-18T09:24:00.673666Z"
    }
   },
   "outputs": [
    {
     "data": {
      "text/html": [
       "<div>\n",
       "<style scoped>\n",
       "    .dataframe tbody tr th:only-of-type {\n",
       "        vertical-align: middle;\n",
       "    }\n",
       "\n",
       "    .dataframe tbody tr th {\n",
       "        vertical-align: top;\n",
       "    }\n",
       "\n",
       "    .dataframe thead th {\n",
       "        text-align: right;\n",
       "    }\n",
       "</style>\n",
       "<table border=\"1\" class=\"dataframe\">\n",
       "  <thead>\n",
       "    <tr style=\"text-align: right;\">\n",
       "      <th></th>\n",
       "      <th>token_no</th>\n",
       "      <th>order_no</th>\n",
       "      <th>name</th>\n",
       "      <th>flat_no</th>\n",
       "      <th>building_name</th>\n",
       "      <th>phone_no</th>\n",
       "      <th>email</th>\n",
       "      <th>drop_point</th>\n",
       "      <th>item_count</th>\n",
       "      <th>total_amt</th>\n",
       "    </tr>\n",
       "  </thead>\n",
       "  <tbody>\n",
       "    <tr>\n",
       "      <th>0</th>\n",
       "      <td>0</td>\n",
       "      <td>BHOR-0507</td>\n",
       "      <td>Payal Sharma</td>\n",
       "      <td>1904</td>\n",
       "      <td>Cosmic Heights, A Wing</td>\n",
       "      <td>9930581815</td>\n",
       "      <td>payalmakhijani@gmail.com</td>\n",
       "      <td>Cosmic</td>\n",
       "      <td>4</td>\n",
       "      <td>260.00</td>\n",
       "    </tr>\n",
       "    <tr>\n",
       "      <th>1</th>\n",
       "      <td>1</td>\n",
       "      <td>BHOR-0506</td>\n",
       "      <td>Priyanka Pipada</td>\n",
       "      <td>2901</td>\n",
       "      <td>Zeon, B Wing</td>\n",
       "      <td>9819714534</td>\n",
       "      <td>vaibhavkanyalkar@gmail.com</td>\n",
       "      <td>Aeon/Zeon</td>\n",
       "      <td>14</td>\n",
       "      <td>734.00</td>\n",
       "    </tr>\n",
       "    <tr>\n",
       "      <th>2</th>\n",
       "      <td>2</td>\n",
       "      <td>BHOR-0505</td>\n",
       "      <td>Binita Thakker</td>\n",
       "      <td>202</td>\n",
       "      <td>Tower 5, B Wing</td>\n",
       "      <td>9867490700</td>\n",
       "      <td>binitath@gmail.com</td>\n",
       "      <td>NCP</td>\n",
       "      <td>21</td>\n",
       "      <td>698.00</td>\n",
       "    </tr>\n",
       "    <tr>\n",
       "      <th>3</th>\n",
       "      <td>3</td>\n",
       "      <td>BHOR-0504</td>\n",
       "      <td>Ranjana Shah</td>\n",
       "      <td>B 1603</td>\n",
       "      <td>Zeon, B Wing</td>\n",
       "      <td>9999733628</td>\n",
       "      <td>ranjana.shah2010@gmail.com</td>\n",
       "      <td>Aeon/Zeon</td>\n",
       "      <td>20</td>\n",
       "      <td>636.00</td>\n",
       "    </tr>\n",
       "    <tr>\n",
       "      <th>4</th>\n",
       "      <td>4</td>\n",
       "      <td>BHOR-0503</td>\n",
       "      <td>Deepika Mehta</td>\n",
       "      <td>3302 b wing</td>\n",
       "      <td>Tower 6, B Wing</td>\n",
       "      <td>9654138008</td>\n",
       "      <td>deepikamehta.16@gmail.com</td>\n",
       "      <td>NCP</td>\n",
       "      <td>15</td>\n",
       "      <td>620.00</td>\n",
       "    </tr>\n",
       "  </tbody>\n",
       "</table>\n",
       "</div>"
      ],
      "text/plain": [
       "   token_no   order_no             name      flat_no            building_name  \\\n",
       "0         0  BHOR-0507     Payal Sharma         1904   Cosmic Heights, A Wing   \n",
       "1         1  BHOR-0506  Priyanka Pipada         2901             Zeon, B Wing   \n",
       "2         2  BHOR-0505   Binita Thakker          202          Tower 5, B Wing   \n",
       "3         3  BHOR-0504     Ranjana Shah       B 1603             Zeon, B Wing   \n",
       "4         4  BHOR-0503    Deepika Mehta  3302 b wing          Tower 6, B Wing   \n",
       "\n",
       "     phone_no                       email  drop_point  item_count total_amt  \n",
       "0  9930581815    payalmakhijani@gmail.com     Cosmic            4    260.00  \n",
       "1  9819714534  vaibhavkanyalkar@gmail.com  Aeon/Zeon           14    734.00  \n",
       "2  9867490700          binitath@gmail.com        NCP           21    698.00  \n",
       "3  9999733628  ranjana.shah2010@gmail.com  Aeon/Zeon           20    636.00  \n",
       "4  9654138008   deepikamehta.16@gmail.com        NCP           15    620.00  "
      ]
     },
     "execution_count": 35,
     "metadata": {},
     "output_type": "execute_result"
    }
   ],
   "source": [
    "new_df.head()"
   ]
  },
  {
   "cell_type": "code",
   "execution_count": 36,
   "metadata": {
    "ExecuteTime": {
     "end_time": "2020-07-18T09:24:02.675718Z",
     "start_time": "2020-07-18T09:24:02.671755Z"
    }
   },
   "outputs": [],
   "source": [
    "fname = save_pth/('printout-' + str(FILE.stem) + '.csv')"
   ]
  },
  {
   "cell_type": "code",
   "execution_count": 37,
   "metadata": {
    "ExecuteTime": {
     "end_time": "2020-07-18T09:24:03.920420Z",
     "start_time": "2020-07-18T09:24:03.913408Z"
    }
   },
   "outputs": [],
   "source": [
    "new_df.to_csv(fname, index=False)"
   ]
  },
  {
   "cell_type": "code",
   "execution_count": 38,
   "metadata": {
    "ExecuteTime": {
     "end_time": "2020-07-18T09:24:04.381187Z",
     "start_time": "2020-07-18T09:24:04.377200Z"
    }
   },
   "outputs": [],
   "source": [
    "# new_df[new_df['name'] == 'Suparna Bhandari']"
   ]
  },
  {
   "cell_type": "markdown",
   "metadata": {},
   "source": [
    "## Fruits (Pipe Separated Orders)"
   ]
  },
  {
   "cell_type": "code",
   "execution_count": 39,
   "metadata": {
    "ExecuteTime": {
     "end_time": "2020-07-18T09:24:05.695670Z",
     "start_time": "2020-07-18T09:24:05.680720Z"
    }
   },
   "outputs": [],
   "source": [
    "def get_item_name(order):\n",
    "    '''\n",
    "    Return the Item Name, Final Weight, Num Packets, Unit\n",
    "    '''\n",
    "    \n",
    "    stopwords = ['per', 'gms', 'gm', 'kgs', 'kg', 'pack', 'each', '-']\n",
    "    \n",
    "    # parse the key, stop when you encounter a number, unit, keyword like 'per', 'pack'\n",
    "    item = order.split('(')[0].strip()\n",
    "    item = re.sub('[0-9]+', ' ', item)\n",
    "    item = item.split()\n",
    "#     print(item)\n",
    "    final_item = ''\n",
    "    for token in item:\n",
    "        if token.lower() in stopwords:\n",
    "            break\n",
    "        final_item += ' ' + token\n",
    "    \n",
    "    return final_item.strip()\n",
    "\n",
    "\n",
    "def get_qty(txt):\n",
    "    \n",
    "    \"\"\"\n",
    "        Returns the Special Quantity key for a given order. \n",
    "            Sample input string: '...no. of 500 gm packets required: 1)'\n",
    "            Returns: 1\n",
    "    \"\"\"\n",
    "    \n",
    "    if txt[-1] != ')':  txt = txt + ')'\n",
    "    \n",
    "    match = re.search(\": ([0-9]+?)\\)\", txt)\n",
    "\n",
    "    # temporary fix for VNR Guava\n",
    "    if \"VNR Guava Per Kg (\" in txt: match = re.search(\"\\(([0-9]+?)\", txt)\n",
    "    \n",
    "    if match:\n",
    "        return int(match.group(1))\n",
    "    \n",
    "    \n",
    "def extract_num(txt):\n",
    "    \n",
    "    \"\"\"\n",
    "        Searches a string and returns the last number found, if present. \n",
    "        Otherwise return 1.\n",
    "        Use case: For an item key such as 'Tondli 300 gms ', return 300 (to calculate total qty required)\n",
    "    \"\"\"\n",
    "    \n",
    "    match = re.findall(\"([0-9]+)\", txt)\n",
    "    if match:\n",
    "        return int(match[-1])\n",
    "    else:\n",
    "        return 1\n",
    "    \n",
    "    \n",
    "    \n",
    "def get_unit(txt):\n",
    "    \"\"\"\n",
    "        Gets unit from an item string.\n",
    "        Assumption: standard occurence of units all across the board. \n",
    "    \"\"\"\n",
    "    txt = txt.lower()\n",
    "    if txt.find(' gm') != -1: unit = 'gms'\n",
    "    elif (txt.find(' pc') != -1) or (txt.find(' pack') != -1): unit = 'pcs'\n",
    "    elif txt.find(' bunch') != -1: unit = 'bunches'\n",
    "    else: unit = 'kgs'\n",
    "    return unit"
   ]
  },
  {
   "cell_type": "code",
   "execution_count": 40,
   "metadata": {
    "ExecuteTime": {
     "end_time": "2020-07-18T09:24:06.073867Z",
     "start_time": "2020-07-18T09:24:06.067883Z"
    }
   },
   "outputs": [],
   "source": [
    "def parse_order(order):\n",
    "    '''\n",
    "    Return the Item Name, Final Weight, Num Packets, Unit\n",
    "    '''\n",
    "    if len(order.split('(')) < 2: return None\n",
    "    \n",
    "    item_name = get_item_name(order)\n",
    "    num_packets = get_qty(order)\n",
    "    unit = get_unit(order)\n",
    "    qty_per_pack = extract_num(order.split('(')[0])\n",
    "    final_weight = qty_per_pack * num_packets\n",
    "\n",
    "    return {\"item_name\": item_name,\n",
    "            \"num_packets\": num_packets,\n",
    "            \"unit\": unit,\n",
    "            \"final_weight\": final_weight}"
   ]
  },
  {
   "cell_type": "code",
   "execution_count": 41,
   "metadata": {
    "ExecuteTime": {
     "end_time": "2020-07-18T09:24:06.529647Z",
     "start_time": "2020-07-18T09:24:06.510699Z"
    }
   },
   "outputs": [],
   "source": [
    "val = {}\n",
    "total = {}\n",
    "for name, order in zip(df.name, k):\n",
    "    val[name] = ''\n",
    "    for i in order:\n",
    "        sp1 = i.split(\"(\")\n",
    "        if len(sp1) < 2:\n",
    "            total[name] = sp1[0].split()[-1] # total cost\n",
    "            continue\n",
    "        \n",
    "        sp1[1] = sp1[1] + ')'\n",
    "        val[name] += get_item_name(sp1[0]) + ':' + str(get_qty(sp1[1])) + ' | '"
   ]
  },
  {
   "cell_type": "code",
   "execution_count": 42,
   "metadata": {
    "ExecuteTime": {
     "end_time": "2020-07-18T09:24:07.657245Z",
     "start_time": "2020-07-18T09:24:07.654277Z"
    }
   },
   "outputs": [],
   "source": [
    "new_df = pd.DataFrame()"
   ]
  },
  {
   "cell_type": "code",
   "execution_count": 43,
   "metadata": {
    "ExecuteTime": {
     "end_time": "2020-07-18T09:24:08.013683Z",
     "start_time": "2020-07-18T09:24:07.995697Z"
    }
   },
   "outputs": [],
   "source": [
    "new_df['token_no'] = df[token]\n",
    "new_df['order_no'] = df[order_number]\n",
    "\n",
    "new_df['name'] = df['name'].apply(lambda x: x.split('_')[0])\n",
    "\n",
    "new_df['flat_no'] = df[flat]\n",
    "\n",
    "def func(x):\n",
    "    if '-' in x:\n",
    "        return x.split('-')[1]\n",
    "    return x\n",
    "\n",
    "# # THANE\n",
    "# new_df['drop_point'] = df['Enter Building Name']\n",
    "\n",
    "new_df['building_name'] = df['Select Drop Point and Building'].apply(func)\n",
    "new_df['building_name'] = new_df['building_name'] + ', ' + df['Select Wing']\n",
    "\n",
    "new_df['phone_no'] = df['Phone Number']\n",
    "\n",
    "new_df['email'] = df['Email']\n",
    "\n",
    "# THANE, COMMENT OUT\n",
    "new_df['drop_point'] = df['Select Drop Point and Building'].apply(lambda x: x.split('-')[0])\n",
    "\n",
    "new_df['items'] = df.name.apply(lambda x: val[x][:-3])\n",
    "\n",
    "new_df['total_amt'] = df.name.apply(lambda x: total[x])"
   ]
  },
  {
   "cell_type": "code",
   "execution_count": 44,
   "metadata": {
    "ExecuteTime": {
     "end_time": "2020-07-18T09:24:09.758998Z",
     "start_time": "2020-07-18T09:24:09.745016Z"
    }
   },
   "outputs": [
    {
     "data": {
      "text/html": [
       "<div>\n",
       "<style scoped>\n",
       "    .dataframe tbody tr th:only-of-type {\n",
       "        vertical-align: middle;\n",
       "    }\n",
       "\n",
       "    .dataframe tbody tr th {\n",
       "        vertical-align: top;\n",
       "    }\n",
       "\n",
       "    .dataframe thead th {\n",
       "        text-align: right;\n",
       "    }\n",
       "</style>\n",
       "<table border=\"1\" class=\"dataframe\">\n",
       "  <thead>\n",
       "    <tr style=\"text-align: right;\">\n",
       "      <th></th>\n",
       "      <th>token_no</th>\n",
       "      <th>order_no</th>\n",
       "      <th>name</th>\n",
       "      <th>flat_no</th>\n",
       "      <th>building_name</th>\n",
       "      <th>phone_no</th>\n",
       "      <th>email</th>\n",
       "      <th>drop_point</th>\n",
       "      <th>items</th>\n",
       "      <th>total_amt</th>\n",
       "    </tr>\n",
       "  </thead>\n",
       "  <tbody>\n",
       "    <tr>\n",
       "      <th>0</th>\n",
       "      <td>0</td>\n",
       "      <td>BHOR-0507</td>\n",
       "      <td>Payal Sharma</td>\n",
       "      <td>1904</td>\n",
       "      <td>Cosmic Heights, A Wing</td>\n",
       "      <td>9930581815</td>\n",
       "      <td>payalmakhijani@gmail.com</td>\n",
       "      <td>Cosmic</td>\n",
       "      <td>Baby Corn:1 | Broccoli:1 | Red &amp; Yellow Bell P...</td>\n",
       "      <td>260.00</td>\n",
       "    </tr>\n",
       "    <tr>\n",
       "      <th>1</th>\n",
       "      <td>1</td>\n",
       "      <td>BHOR-0506</td>\n",
       "      <td>Priyanka Pipada</td>\n",
       "      <td>2901</td>\n",
       "      <td>Zeon, B Wing</td>\n",
       "      <td>9819714534</td>\n",
       "      <td>vaibhavkanyalkar@gmail.com</td>\n",
       "      <td>Aeon/Zeon</td>\n",
       "      <td>Potato:1 | Onion Red:2 | Bitter Gourd:1 | Tond...</td>\n",
       "      <td>734.00</td>\n",
       "    </tr>\n",
       "  </tbody>\n",
       "</table>\n",
       "</div>"
      ],
      "text/plain": [
       "   token_no   order_no             name flat_no            building_name  \\\n",
       "0         0  BHOR-0507     Payal Sharma    1904   Cosmic Heights, A Wing   \n",
       "1         1  BHOR-0506  Priyanka Pipada    2901             Zeon, B Wing   \n",
       "\n",
       "     phone_no                       email  drop_point  \\\n",
       "0  9930581815    payalmakhijani@gmail.com     Cosmic    \n",
       "1  9819714534  vaibhavkanyalkar@gmail.com  Aeon/Zeon    \n",
       "\n",
       "                                               items total_amt  \n",
       "0  Baby Corn:1 | Broccoli:1 | Red & Yellow Bell P...    260.00  \n",
       "1  Potato:1 | Onion Red:2 | Bitter Gourd:1 | Tond...    734.00  "
      ]
     },
     "execution_count": 44,
     "metadata": {},
     "output_type": "execute_result"
    }
   ],
   "source": [
    "new_df.head(2)"
   ]
  },
  {
   "cell_type": "code",
   "execution_count": 45,
   "metadata": {
    "ExecuteTime": {
     "end_time": "2020-07-18T09:24:11.439485Z",
     "start_time": "2020-07-18T09:24:11.431505Z"
    }
   },
   "outputs": [
    {
     "data": {
      "text/plain": [
       "41447.0"
      ]
     },
     "execution_count": 45,
     "metadata": {},
     "output_type": "execute_result"
    }
   ],
   "source": [
    "new_df.total_amt.apply(lambda x: x.replace(',', '')).astype(float).sum()"
   ]
  },
  {
   "cell_type": "code",
   "execution_count": 46,
   "metadata": {
    "ExecuteTime": {
     "end_time": "2020-07-18T09:24:12.498654Z",
     "start_time": "2020-07-18T09:24:12.495659Z"
    }
   },
   "outputs": [],
   "source": [
    "fname = save_pth/('printout-' + str(FILE.stem) + '.csv')"
   ]
  },
  {
   "cell_type": "code",
   "execution_count": 47,
   "metadata": {
    "ExecuteTime": {
     "end_time": "2020-07-18T09:24:15.908529Z",
     "start_time": "2020-07-18T09:24:15.900551Z"
    }
   },
   "outputs": [],
   "source": [
    "new_df.to_csv(fname, index=False)"
   ]
  },
  {
   "cell_type": "markdown",
   "metadata": {},
   "source": [
    "## Finished!"
   ]
  },
  {
   "cell_type": "code",
   "execution_count": null,
   "metadata": {},
   "outputs": [],
   "source": []
  }
 ],
 "metadata": {
  "kernelspec": {
   "display_name": "Python [conda env:fastaiv1] *",
   "language": "python",
   "name": "conda-env-fastaiv1-py"
  },
  "language_info": {
   "codemirror_mode": {
    "name": "ipython",
    "version": 3
   },
   "file_extension": ".py",
   "mimetype": "text/x-python",
   "name": "python",
   "nbconvert_exporter": "python",
   "pygments_lexer": "ipython3",
   "version": "3.6.9"
  },
  "toc": {
   "base_numbering": 1,
   "nav_menu": {},
   "number_sections": true,
   "sideBar": true,
   "skip_h1_title": false,
   "title_cell": "Table of Contents",
   "title_sidebar": "Contents",
   "toc_cell": false,
   "toc_position": {},
   "toc_section_display": true,
   "toc_window_display": false
  }
 },
 "nbformat": 4,
 "nbformat_minor": 2
}
