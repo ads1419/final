{
 "cells": [
  {
   "cell_type": "markdown",
   "metadata": {},
   "source": [
    "# Customer Wise | Unavailable Translation Files"
   ]
  },
  {
   "cell_type": "code",
   "execution_count": 1,
   "metadata": {
    "ExecuteTime": {
     "end_time": "2020-07-21T21:17:13.157978Z",
     "start_time": "2020-07-21T21:17:12.362064Z"
    }
   },
   "outputs": [],
   "source": [
    "import pandas as pd\n",
    "import re\n",
    "from pathlib import Path\n",
    "import numpy as np\n",
    "import os"
   ]
  },
  {
   "cell_type": "code",
   "execution_count": 2,
   "metadata": {
    "ExecuteTime": {
     "end_time": "2020-07-21T21:17:13.584791Z",
     "start_time": "2020-07-21T21:17:13.580802Z"
    }
   },
   "outputs": [],
   "source": [
    "OUTPUT_DIR = Path(\"C:/Playground/bhaiya-orders/outputs/\")"
   ]
  },
  {
   "cell_type": "code",
   "execution_count": 3,
   "metadata": {
    "ExecuteTime": {
     "end_time": "2020-07-21T21:17:13.973956Z",
     "start_time": "2020-07-21T21:17:13.923914Z"
    }
   },
   "outputs": [],
   "source": [
    "from ipyfilechooser import FileChooser"
   ]
  },
  {
   "cell_type": "code",
   "execution_count": 4,
   "metadata": {
    "ExecuteTime": {
     "end_time": "2020-07-21T21:17:14.657921Z",
     "start_time": "2020-07-21T21:17:14.588109Z"
    }
   },
   "outputs": [
    {
     "data": {
      "application/vnd.jupyter.widget-view+json": {
       "model_id": "f89933c329294322ad38f82e3df25e36",
       "version_major": 2,
       "version_minor": 0
      },
      "text/plain": [
       "FileChooser(path='C:/Playground/bhaiya-orders/inputs/', filename='', show_hidden='False')"
      ]
     },
     "metadata": {},
     "output_type": "display_data"
    }
   ],
   "source": [
    "fc = FileChooser(\"C:/Playground/bhaiya-orders/inputs/\")\n",
    "fc.use_dir_icons = True\n",
    "display(fc)"
   ]
  },
  {
   "cell_type": "code",
   "execution_count": 5,
   "metadata": {
    "ExecuteTime": {
     "end_time": "2020-07-21T21:17:20.583071Z",
     "start_time": "2020-07-21T21:17:20.579102Z"
    }
   },
   "outputs": [],
   "source": [
    "FILE = Path(fc.selected)"
   ]
  },
  {
   "cell_type": "markdown",
   "metadata": {},
   "source": [
    "Try to read valid `csv` and `xlsx` files into a dataframe `df`. "
   ]
  },
  {
   "cell_type": "markdown",
   "metadata": {},
   "source": [
    "## Read Translations"
   ]
  },
  {
   "cell_type": "code",
   "execution_count": 6,
   "metadata": {
    "ExecuteTime": {
     "end_time": "2020-07-21T21:17:22.311647Z",
     "start_time": "2020-07-21T21:17:22.271580Z"
    }
   },
   "outputs": [],
   "source": [
    "df_trans = pd.read_excel(\"C:/Playground/bhaiya-orders/translations.xlsx\")"
   ]
  },
  {
   "cell_type": "markdown",
   "metadata": {},
   "source": [
    "### Drop Kiwi Translation"
   ]
  },
  {
   "cell_type": "code",
   "execution_count": 7,
   "metadata": {
    "ExecuteTime": {
     "end_time": "2020-07-21T21:17:23.220018Z",
     "start_time": "2020-07-21T21:17:23.213061Z"
    }
   },
   "outputs": [],
   "source": [
    "df_trans = df_trans.set_index('Final Item Name').drop('Kiwi Imported').reset_index()"
   ]
  },
  {
   "cell_type": "code",
   "execution_count": 8,
   "metadata": {
    "ExecuteTime": {
     "end_time": "2020-07-21T21:17:25.132899Z",
     "start_time": "2020-07-21T21:17:25.125949Z"
    }
   },
   "outputs": [],
   "source": [
    "eng2marathi = df_trans.set_index('Final Item Name').to_dict()['Final Marathi Name']\n",
    "marathi2eng = df_trans.set_index('Final Marathi Name').to_dict()['Final Item Name']\n",
    "marathi2eng[np.nan] = ''"
   ]
  },
  {
   "cell_type": "code",
   "execution_count": 9,
   "metadata": {
    "ExecuteTime": {
     "end_time": "2020-07-21T21:17:25.699384Z",
     "start_time": "2020-07-21T21:17:25.665476Z"
    }
   },
   "outputs": [],
   "source": [
    "try:\n",
    "    if 'csv' in FILE.suffix: df = pd.read_csv(FILE)\n",
    "    else: df = pd.read_excel(FILE)\n",
    "except OSError:\n",
    "    print(\"Error occured, invalid file!\")"
   ]
  },
  {
   "cell_type": "code",
   "execution_count": 10,
   "metadata": {
    "ExecuteTime": {
     "end_time": "2020-07-21T21:17:26.150179Z",
     "start_time": "2020-07-21T21:17:26.122253Z"
    }
   },
   "outputs": [
    {
     "data": {
      "text/html": [
       "<div>\n",
       "<style scoped>\n",
       "    .dataframe tbody tr th:only-of-type {\n",
       "        vertical-align: middle;\n",
       "    }\n",
       "\n",
       "    .dataframe tbody tr th {\n",
       "        vertical-align: top;\n",
       "    }\n",
       "\n",
       "    .dataframe thead th {\n",
       "        text-align: right;\n",
       "    }\n",
       "</style>\n",
       "<table border=\"1\" class=\"dataframe\">\n",
       "  <thead>\n",
       "    <tr style=\"text-align: right;\">\n",
       "      <th></th>\n",
       "      <th>Submission Date</th>\n",
       "      <th>Order Number#</th>\n",
       "      <th>Token</th>\n",
       "      <th>First Name</th>\n",
       "      <th>Last Name</th>\n",
       "      <th>Select Drop Point and Building</th>\n",
       "      <th>Select Wing</th>\n",
       "      <th>Flat No.</th>\n",
       "      <th>Phone Number</th>\n",
       "      <th>Email</th>\n",
       "      <th>Delivery Date</th>\n",
       "      <th>Your Order: Products</th>\n",
       "    </tr>\n",
       "  </thead>\n",
       "  <tbody>\n",
       "    <tr>\n",
       "      <th>74</th>\n",
       "      <td>2020-07-21 12:41:28</td>\n",
       "      <td>BHORS-0574</td>\n",
       "      <td>75</td>\n",
       "      <td>Rohan</td>\n",
       "      <td>Goel</td>\n",
       "      <td>Sector 1/2 - Topaz</td>\n",
       "      <td>NaN</td>\n",
       "      <td>202</td>\n",
       "      <td>9619935777</td>\n",
       "      <td>rohangoel68@gmail.com</td>\n",
       "      <td>Wed 22nd July</td>\n",
       "      <td>Chausa Mangoes - 2 Kg Box (Amount: 390.00 INR,...</td>\n",
       "    </tr>\n",
       "    <tr>\n",
       "      <th>75</th>\n",
       "      <td>2020-07-21 08:28:54</td>\n",
       "      <td>BHORS-0558</td>\n",
       "      <td>76</td>\n",
       "      <td>Mithila</td>\n",
       "      <td>Naik</td>\n",
       "      <td>Sector 1/2 - Topaz</td>\n",
       "      <td>NaN</td>\n",
       "      <td>601</td>\n",
       "      <td>9870851416</td>\n",
       "      <td>mithila_lad@yahoo.com</td>\n",
       "      <td>Wed 22nd July</td>\n",
       "      <td>Sitaphal/Custard Apple Per KG (Amount: 130.00 ...</td>\n",
       "    </tr>\n",
       "  </tbody>\n",
       "</table>\n",
       "</div>"
      ],
      "text/plain": [
       "       Submission Date Order Number#  Token First Name Last Name  \\\n",
       "74 2020-07-21 12:41:28    BHORS-0574     75      Rohan      Goel   \n",
       "75 2020-07-21 08:28:54    BHORS-0558     76    Mithila      Naik   \n",
       "\n",
       "   Select Drop Point and Building Select Wing Flat No.  Phone Number  \\\n",
       "74             Sector 1/2 - Topaz         NaN      202    9619935777   \n",
       "75             Sector 1/2 - Topaz         NaN      601    9870851416   \n",
       "\n",
       "                    Email  Delivery Date  \\\n",
       "74  rohangoel68@gmail.com  Wed 22nd July   \n",
       "75  mithila_lad@yahoo.com  Wed 22nd July   \n",
       "\n",
       "                                 Your Order: Products  \n",
       "74  Chausa Mangoes - 2 Kg Box (Amount: 390.00 INR,...  \n",
       "75  Sitaphal/Custard Apple Per KG (Amount: 130.00 ...  "
      ]
     },
     "execution_count": 10,
     "metadata": {},
     "output_type": "execute_result"
    }
   ],
   "source": [
    "df.tail(2)"
   ]
  },
  {
   "cell_type": "code",
   "execution_count": 11,
   "metadata": {
    "ExecuteTime": {
     "end_time": "2020-07-21T21:17:26.920119Z",
     "start_time": "2020-07-21T21:17:26.914163Z"
    }
   },
   "outputs": [],
   "source": [
    "df.fillna('', inplace=True)"
   ]
  },
  {
   "cell_type": "code",
   "execution_count": 12,
   "metadata": {
    "ExecuteTime": {
     "end_time": "2020-07-21T21:17:27.508545Z",
     "start_time": "2020-07-21T21:17:27.501563Z"
    }
   },
   "outputs": [],
   "source": [
    "for col in df.columns:\n",
    "    if \"Your Order\" in col:\n",
    "        your_order = col\n",
    "        \n",
    "    if \"token\" in col.lower():\n",
    "        token = col\n",
    "        \n",
    "    if \"flat\" in col.lower():\n",
    "        flat = col\n",
    "        \n",
    "    if \"delivery\" in col.lower() and \"date\" in col.lower():\n",
    "        delivery_date = col"
   ]
  },
  {
   "cell_type": "code",
   "execution_count": 13,
   "metadata": {
    "ExecuteTime": {
     "end_time": "2020-07-21T21:17:28.221662Z",
     "start_time": "2020-07-21T21:17:28.209689Z"
    }
   },
   "outputs": [],
   "source": [
    "def get_item_name(order):\n",
    "    '''\n",
    "    Return the Item Name, Final Weight, Num Packets, Unit\n",
    "    '''\n",
    "    \n",
    "    stopwords = ['per', 'gms', 'gm', 'kgs', 'kg', 'pack', 'each']\n",
    "    \n",
    "    # parse the key, stop when you encounter a number, unit, keyword like 'per', 'pack'\n",
    "    item = order.split('(')[0].strip()\n",
    "    item = re.sub('[0-9]+', ' ', item)\n",
    "    item = item.split()\n",
    "#     print(item)\n",
    "    final_item = ''\n",
    "    for token in item:\n",
    "        if token.lower() in stopwords:\n",
    "            break\n",
    "        final_item += ' ' + token\n",
    "    \n",
    "    return final_item.strip()\n",
    "\n",
    "\n",
    "def get_qty(txt):\n",
    "    \n",
    "    \"\"\"\n",
    "        Returns the Special Quantity key for a given order. \n",
    "            Sample input string: '...no. of 500 gm packets required: 1)'\n",
    "            Returns: 1\n",
    "    \"\"\"\n",
    "    \n",
    "    if txt[-1] != ')':  txt = txt + ')'\n",
    "    \n",
    "    match = re.search(\": ([0-9]+?)\\)\", txt)\n",
    "\n",
    "    # temporary fix for VNR Guava\n",
    "    if \"VNR Guava Per Kg (\" in txt: match = re.search(\"\\(([0-9]+?)\", txt)\n",
    "    \n",
    "    if match:\n",
    "        return int(match.group(1))\n",
    "    \n",
    "    \n",
    "def extract_num(txt):\n",
    "    \n",
    "    \"\"\"\n",
    "        Searches a string and returns the last number found, if present. \n",
    "        Otherwise return 1.\n",
    "        Use case: For an item key such as 'Tondli 300 gms ', return 300 (to calculate total qty required)\n",
    "    \"\"\"\n",
    "    \n",
    "    match = re.findall(\"([0-9]+)\", txt)\n",
    "    if match:\n",
    "        return int(match[-1])\n",
    "    else:\n",
    "        return 1\n",
    "    \n",
    "    \n",
    "    \n",
    "def get_unit(txt):\n",
    "    \"\"\"\n",
    "        Gets unit from an item string.\n",
    "        Assumption: standard occurence of units all across the board. \n",
    "    \"\"\"\n",
    "    txt = txt.lower()\n",
    "    if txt.find(' gm') != -1: unit = 'gms'\n",
    "    elif (txt.find(' pc') != -1) or (txt.find(' pack') != -1): unit = 'pcs'\n",
    "    elif txt.find(' bunch') != -1: unit = 'bunches'\n",
    "    else: unit = 'kgs'\n",
    "    return unit"
   ]
  },
  {
   "cell_type": "code",
   "execution_count": 14,
   "metadata": {
    "ExecuteTime": {
     "end_time": "2020-07-21T21:17:28.788130Z",
     "start_time": "2020-07-21T21:17:28.782139Z"
    }
   },
   "outputs": [],
   "source": [
    "def parse_order(order):\n",
    "    '''\n",
    "    Return the Item Name, Final Weight, Num Packets, Unit\n",
    "    '''\n",
    "    if len(order.split('(')) < 2: return None\n",
    "    \n",
    "    item_name = get_item_name(order)\n",
    "    num_packets = get_qty(order)\n",
    "    unit = get_unit(order)\n",
    "    qty_per_pack = extract_num(order.split('(')[0])\n",
    "    final_weight = qty_per_pack * num_packets\n",
    "\n",
    "    return {\"item_name\": item_name,\n",
    "            \"num_packets\": num_packets,\n",
    "            \"unit\": unit,\n",
    "            \"final_weight\": final_weight}"
   ]
  },
  {
   "cell_type": "code",
   "execution_count": 15,
   "metadata": {
    "ExecuteTime": {
     "end_time": "2020-07-21T21:17:29.307758Z",
     "start_time": "2020-07-21T21:17:29.293770Z"
    }
   },
   "outputs": [
    {
     "name": "stderr",
     "output_type": "stream",
     "text": [
      "C:\\Users\\mygl5\\Anaconda3\\envs\\fastaiv1\\lib\\site-packages\\fuzzywuzzy\\fuzz.py:11: UserWarning: Using slow pure-python SequenceMatcher. Install python-Levenshtein to remove this warning\n",
      "  warnings.warn('Using slow pure-python SequenceMatcher. Install python-Levenshtein to remove this warning')\n"
     ]
    }
   ],
   "source": [
    "from fuzzywuzzy import fuzz\n",
    "\n",
    "def get_trans(x, thresh=85):\n",
    "    rmax = -1\n",
    "    trans = ''\n",
    "    for k in eng2marathi.keys():\n",
    "        if fuzz.ratio(k, x) > rmax:\n",
    "            rmax = fuzz.ratio(k, x)\n",
    "            trans = eng2marathi[k]\n",
    "\n",
    "    if rmax > thresh:\n",
    "        return trans\n",
    "    return np.nan"
   ]
  },
  {
   "cell_type": "markdown",
   "metadata": {},
   "source": [
    "## For Thane"
   ]
  },
  {
   "cell_type": "code",
   "execution_count": 16,
   "metadata": {
    "ExecuteTime": {
     "end_time": "2020-07-21T21:17:30.635180Z",
     "start_time": "2020-07-21T21:17:30.632189Z"
    }
   },
   "outputs": [],
   "source": [
    "# rows_list = []\n",
    "# for index, row in df.iterrows():\n",
    "#     for order in row[your_order].split(')'):\n",
    "#         parsed = parse_order(order)\n",
    "#         if parsed:\n",
    "#             row_dict = {}\n",
    "            \n",
    "#             row_dict['token_no'] = row[token]\n",
    "#             row_dict['first_name'] = row[\"First Name\"]\n",
    "#             row_dict['last_name'] = row[\"Last Name\"]\n",
    "# #             row_dict['delivery_date'] = row['Select Delivery Date']\n",
    "#             row_dict['item_name'] = parsed['item_name']\n",
    "#             row_dict['marathi_name'] = get_trans(row_dict['item_name'])\n",
    "#             row_dict['num_packets'] = parsed['num_packets']\n",
    "#             row_dict['final_weight'] = parsed['final_weight']\n",
    "#             row_dict['unit'] = parsed['unit']\n",
    "#             row_dict['drop_point'] = row['Enter Building Name']\n",
    "# #             row_dict['wing'] = row['Select Wing']\n",
    "#             row_dict['flat_no'] = row[flat]\n",
    "            \n",
    "#             rows_list.append(row_dict)"
   ]
  },
  {
   "cell_type": "markdown",
   "metadata": {
    "ExecuteTime": {
     "end_time": "2020-07-07T22:33:26.731616Z",
     "start_time": "2020-07-07T22:33:26.727599Z"
    }
   },
   "source": [
    "## For Non Thane"
   ]
  },
  {
   "cell_type": "code",
   "execution_count": 17,
   "metadata": {
    "ExecuteTime": {
     "end_time": "2020-07-21T21:17:34.424141Z",
     "start_time": "2020-07-21T21:17:33.877535Z"
    }
   },
   "outputs": [],
   "source": [
    "rows_list = []\n",
    "for index, row in df.iterrows():\n",
    "    for order in row[your_order].split(')'):\n",
    "        parsed = parse_order(order)\n",
    "        if parsed:\n",
    "            row_dict = {}\n",
    "            \n",
    "            row_dict['token_no'] = row[token]\n",
    "            row_dict['first_name'] = row[\"First Name\"]\n",
    "            row_dict['last_name'] = row[\"Last Name\"]\n",
    "            row_dict['delivery_date'] = row[delivery_date]\n",
    "            row_dict['item_name'] = parsed['item_name']\n",
    "            row_dict['marathi_name'] = get_trans(row_dict['item_name'])\n",
    "            row_dict['num_packets'] = parsed['num_packets']\n",
    "            row_dict['final_weight'] = parsed['final_weight']\n",
    "            row_dict['unit'] = parsed['unit']\n",
    "            if row['Select Drop Point and Building'] != '': \n",
    "                row_dict['drop_point'] = row['Select Drop Point and Building'].split('-')[0]\n",
    "            row_dict['flat_no'] = row[flat]\n",
    "            \n",
    "            rows_list.append(row_dict)"
   ]
  },
  {
   "cell_type": "code",
   "execution_count": 18,
   "metadata": {
    "ExecuteTime": {
     "end_time": "2020-07-21T21:17:35.672732Z",
     "start_time": "2020-07-21T21:17:35.666750Z"
    }
   },
   "outputs": [],
   "source": [
    "new_df = pd.DataFrame(rows_list)"
   ]
  },
  {
   "cell_type": "code",
   "execution_count": 19,
   "metadata": {
    "ExecuteTime": {
     "end_time": "2020-07-21T21:17:37.292935Z",
     "start_time": "2020-07-21T21:17:37.288952Z"
    }
   },
   "outputs": [],
   "source": [
    "# # checker for translations\n",
    "# new_df['checker'] = new_df.marathi_name.apply(lambda x: marathi2eng[x])\n",
    "# new_df.groupby('item_name').first()['checker']"
   ]
  },
  {
   "cell_type": "markdown",
   "metadata": {},
   "source": [
    "## Set Up SavePath"
   ]
  },
  {
   "cell_type": "code",
   "execution_count": 20,
   "metadata": {
    "ExecuteTime": {
     "end_time": "2020-07-21T21:17:38.207473Z",
     "start_time": "2020-07-21T21:17:38.203480Z"
    }
   },
   "outputs": [],
   "source": [
    "save_pth = OUTPUT_DIR/FILE.stem\n",
    "os.makedirs(save_pth, exist_ok=True)"
   ]
  },
  {
   "cell_type": "markdown",
   "metadata": {},
   "source": [
    "## Subset Item Files"
   ]
  },
  {
   "cell_type": "code",
   "execution_count": 40,
   "metadata": {
    "ExecuteTime": {
     "end_time": "2020-07-21T21:28:33.171782Z",
     "start_time": "2020-07-21T21:28:33.165822Z"
    }
   },
   "outputs": [],
   "source": [
    "items = ['coconut', 'kiwi', 'brown rice']"
   ]
  },
  {
   "cell_type": "code",
   "execution_count": 43,
   "metadata": {
    "ExecuteTime": {
     "end_time": "2020-07-21T21:49:52.768575Z",
     "start_time": "2020-07-21T21:49:52.762591Z"
    }
   },
   "outputs": [],
   "source": [
    "def get_match(x, thresh=65):\n",
    "    x = x.lower()\n",
    "    rmax = -1\n",
    "    for k in items: \n",
    "        if fuzz.partial_ratio(k, x) > rmax:\n",
    "            rmax = fuzz.partial_ratio(k, x)\n",
    "\n",
    "    if rmax > thresh:\n",
    "        return True\n",
    "    return False"
   ]
  },
  {
   "cell_type": "code",
   "execution_count": 44,
   "metadata": {
    "ExecuteTime": {
     "end_time": "2020-07-21T21:50:43.278018Z",
     "start_time": "2020-07-21T21:50:43.272009Z"
    }
   },
   "outputs": [
    {
     "data": {
      "text/plain": [
       "'cocontkivibrown rice-Input File Final'"
      ]
     },
     "execution_count": 44,
     "metadata": {},
     "output_type": "execute_result"
    }
   ],
   "source": [
    "prefix = \"\".join(items)\n",
    "unavl_pth = save_pth/f'{prefix}-{str(FILE.stem)}.csv'; unavl_pth.stem"
   ]
  },
  {
   "cell_type": "code",
   "execution_count": 49,
   "metadata": {
    "ExecuteTime": {
     "end_time": "2020-07-21T21:52:53.838983Z",
     "start_time": "2020-07-21T21:52:53.745258Z"
    }
   },
   "outputs": [
    {
     "data": {
      "text/plain": [
       "array(['Kiwi', 'Coconut Mangalore Small', 'Boiled Brown Rice Mangalore',\n",
       "       'Coconut Mangalore Medium', 'Coconut Mangalore Big'], dtype=object)"
      ]
     },
     "execution_count": 49,
     "metadata": {},
     "output_type": "execute_result"
    }
   ],
   "source": [
    "# all items detected\n",
    "new_df[new_df.item_name.apply(get_match)].item_name.unique()"
   ]
  },
  {
   "cell_type": "code",
   "execution_count": 47,
   "metadata": {
    "ExecuteTime": {
     "end_time": "2020-07-21T21:51:46.399239Z",
     "start_time": "2020-07-21T21:51:46.301399Z"
    }
   },
   "outputs": [],
   "source": [
    "new_df[new_df.item_name.apply(get_match)].drop('marathi_name', axis=1).to_csv(unavl_pth, index=False)"
   ]
  },
  {
   "cell_type": "markdown",
   "metadata": {},
   "source": [
    "## Unavailable Translations"
   ]
  },
  {
   "cell_type": "code",
   "execution_count": 28,
   "metadata": {
    "ExecuteTime": {
     "end_time": "2020-07-21T17:28:42.071016Z",
     "start_time": "2020-07-21T17:28:42.057022Z"
    }
   },
   "outputs": [
    {
     "data": {
      "text/plain": [
       "array(['Sitaphal/Custard Apple', 'Elaichi Banana One Dozen', 'Muskmelon',\n",
       "       'Kiwi', 'Papaya', 'Coconut Mangalore Small',\n",
       "       'Assorted Box of Mangoes -', 'Boiled Brown Rice Mangalore',\n",
       "       'Chausa Mangoes -', 'Langra Mangoes -', 'Coconut Mangalore Medium',\n",
       "       'Pear red Indian', 'Coconut Mangalore Big'], dtype=object)"
      ]
     },
     "execution_count": 28,
     "metadata": {},
     "output_type": "execute_result"
    }
   ],
   "source": [
    "notranslist = new_df[new_df.marathi_name.isna()].item_name.unique(); notranslist"
   ]
  },
  {
   "cell_type": "markdown",
   "metadata": {},
   "source": [
    "### Save Unavailable Translations into Separate File"
   ]
  },
  {
   "cell_type": "code",
   "execution_count": 90,
   "metadata": {
    "ExecuteTime": {
     "end_time": "2020-07-18T09:12:19.131767Z",
     "start_time": "2020-07-18T09:12:19.124787Z"
    }
   },
   "outputs": [
    {
     "data": {
      "text/plain": [
       "'cocokiwi-9th July - Fruits & Vegetable Order Form(2020-07-07)'"
      ]
     },
     "execution_count": 90,
     "metadata": {},
     "output_type": "execute_result"
    }
   ],
   "source": [
    "ids = set([i.lower()[:4] for i in notranslist])\n",
    "prefix = \"\".join(ids)\n",
    "\n",
    "unavl_pth = save_pth/f'{prefix}-{str(FILE.stem)}.csv'; unavl_pth.stem"
   ]
  },
  {
   "cell_type": "code",
   "execution_count": 91,
   "metadata": {
    "ExecuteTime": {
     "end_time": "2020-07-18T09:12:38.714382Z",
     "start_time": "2020-07-18T09:12:38.705406Z"
    }
   },
   "outputs": [],
   "source": [
    "new_df[new_df.marathi_name.isna()].drop(columns='marathi_name').to_csv(unavl_pth, index=False)"
   ]
  },
  {
   "cell_type": "markdown",
   "metadata": {},
   "source": [
    "### Drop Unavailable Translations"
   ]
  },
  {
   "cell_type": "code",
   "execution_count": 92,
   "metadata": {
    "ExecuteTime": {
     "end_time": "2020-07-18T09:12:40.120652Z",
     "start_time": "2020-07-18T09:12:40.112655Z"
    }
   },
   "outputs": [],
   "source": [
    "new_df.dropna(subset=['marathi_name'], inplace=True)"
   ]
  },
  {
   "cell_type": "markdown",
   "metadata": {},
   "source": [
    "## Build SaveFile"
   ]
  },
  {
   "cell_type": "code",
   "execution_count": 93,
   "metadata": {
    "ExecuteTime": {
     "end_time": "2020-07-18T09:12:42.114288Z",
     "start_time": "2020-07-18T09:12:42.109300Z"
    }
   },
   "outputs": [],
   "source": [
    "new_df['name'] = new_df.first_name + ' ' + new_df.last_name"
   ]
  },
  {
   "cell_type": "code",
   "execution_count": 94,
   "metadata": {
    "ExecuteTime": {
     "end_time": "2020-07-18T09:12:42.752855Z",
     "start_time": "2020-07-18T09:12:42.748865Z"
    }
   },
   "outputs": [],
   "source": [
    "highlight_col = 'num_packets'"
   ]
  },
  {
   "cell_type": "code",
   "execution_count": 97,
   "metadata": {
    "ExecuteTime": {
     "end_time": "2020-07-18T09:13:32.181466Z",
     "start_time": "2020-07-18T09:13:32.175482Z"
    }
   },
   "outputs": [],
   "source": [
    "# split on customer name + token no\n",
    "custs = new_df.name + '_' + new_df.token_no.astype(str)\n",
    "custs = custs.unique()"
   ]
  },
  {
   "cell_type": "code",
   "execution_count": 98,
   "metadata": {
    "ExecuteTime": {
     "end_time": "2020-07-18T09:13:37.395242Z",
     "start_time": "2020-07-18T09:13:37.389257Z"
    }
   },
   "outputs": [],
   "source": [
    "def f(x):\n",
    "    col = highlight_col\n",
    "    r = 'background-color: none'\n",
    "    g = 'background-color: #37FDFC'\n",
    "    c = np.where(x[col] > 1, g, r)\n",
    "    y = pd.DataFrame('', index=x.index, columns=x.columns)\n",
    "    for h in all_cols:\n",
    "        if h != \"name\": y[h] = c\n",
    "    \n",
    "    return y"
   ]
  },
  {
   "cell_type": "code",
   "execution_count": 99,
   "metadata": {
    "ExecuteTime": {
     "end_time": "2020-07-18T09:13:40.669482Z",
     "start_time": "2020-07-18T09:13:40.664496Z"
    }
   },
   "outputs": [],
   "source": [
    "fname = save_pth/('customerwise-' + str(FILE.stem) + '.xlsx')"
   ]
  },
  {
   "cell_type": "code",
   "execution_count": 100,
   "metadata": {
    "ExecuteTime": {
     "end_time": "2020-07-18T09:13:42.348989Z",
     "start_time": "2020-07-18T09:13:42.345000Z"
    }
   },
   "outputs": [],
   "source": [
    "all_cols = new_df.columns"
   ]
  },
  {
   "cell_type": "code",
   "execution_count": 101,
   "metadata": {
    "ExecuteTime": {
     "end_time": "2020-07-18T09:13:43.072080Z",
     "start_time": "2020-07-18T09:13:43.057095Z"
    }
   },
   "outputs": [
    {
     "data": {
      "text/html": [
       "<div>\n",
       "<style scoped>\n",
       "    .dataframe tbody tr th:only-of-type {\n",
       "        vertical-align: middle;\n",
       "    }\n",
       "\n",
       "    .dataframe tbody tr th {\n",
       "        vertical-align: top;\n",
       "    }\n",
       "\n",
       "    .dataframe thead th {\n",
       "        text-align: right;\n",
       "    }\n",
       "</style>\n",
       "<table border=\"1\" class=\"dataframe\">\n",
       "  <thead>\n",
       "    <tr style=\"text-align: right;\">\n",
       "      <th></th>\n",
       "      <th>first_name</th>\n",
       "      <th>last_name</th>\n",
       "      <th>delivery_date</th>\n",
       "      <th>item_name</th>\n",
       "      <th>marathi_name</th>\n",
       "      <th>num_packets</th>\n",
       "      <th>final_weight</th>\n",
       "      <th>unit</th>\n",
       "      <th>drop_point</th>\n",
       "      <th>flat_no</th>\n",
       "      <th>name</th>\n",
       "      <th>token_no</th>\n",
       "    </tr>\n",
       "  </thead>\n",
       "  <tbody>\n",
       "    <tr>\n",
       "      <th>0</th>\n",
       "      <td>Payal</td>\n",
       "      <td>Sharma</td>\n",
       "      <td>Thursday 9th July</td>\n",
       "      <td>Baby Corn</td>\n",
       "      <td>बेबी कॉर्न</td>\n",
       "      <td>1</td>\n",
       "      <td>300</td>\n",
       "      <td>gms</td>\n",
       "      <td>Cosmic</td>\n",
       "      <td>1904</td>\n",
       "      <td>Payal Sharma</td>\n",
       "      <td>0</td>\n",
       "    </tr>\n",
       "    <tr>\n",
       "      <th>1</th>\n",
       "      <td>Payal</td>\n",
       "      <td>Sharma</td>\n",
       "      <td>Thursday 9th July</td>\n",
       "      <td>Broccoli</td>\n",
       "      <td>ब्रोकोली</td>\n",
       "      <td>1</td>\n",
       "      <td>250</td>\n",
       "      <td>gms</td>\n",
       "      <td>Cosmic</td>\n",
       "      <td>1904</td>\n",
       "      <td>Payal Sharma</td>\n",
       "      <td>1</td>\n",
       "    </tr>\n",
       "    <tr>\n",
       "      <th>2</th>\n",
       "      <td>Payal</td>\n",
       "      <td>Sharma</td>\n",
       "      <td>Thursday 9th July</td>\n",
       "      <td>Red &amp; Yellow Bell Pepper</td>\n",
       "      <td>लाल आणि पिवळी बेल मिरपूड</td>\n",
       "      <td>1</td>\n",
       "      <td>2</td>\n",
       "      <td>pcs</td>\n",
       "      <td>Cosmic</td>\n",
       "      <td>1904</td>\n",
       "      <td>Payal Sharma</td>\n",
       "      <td>2</td>\n",
       "    </tr>\n",
       "    <tr>\n",
       "      <th>3</th>\n",
       "      <td>Payal</td>\n",
       "      <td>Sharma</td>\n",
       "      <td>Thursday 9th July</td>\n",
       "      <td>Basil Leaves</td>\n",
       "      <td>तुळशीची पाने</td>\n",
       "      <td>1</td>\n",
       "      <td>100</td>\n",
       "      <td>gms</td>\n",
       "      <td>Cosmic</td>\n",
       "      <td>1904</td>\n",
       "      <td>Payal Sharma</td>\n",
       "      <td>3</td>\n",
       "    </tr>\n",
       "    <tr>\n",
       "      <th>4</th>\n",
       "      <td>Priyanka</td>\n",
       "      <td>Pipada</td>\n",
       "      <td>Thursday 9th July</td>\n",
       "      <td>Potato</td>\n",
       "      <td>बटाटा</td>\n",
       "      <td>1</td>\n",
       "      <td>1</td>\n",
       "      <td>kgs</td>\n",
       "      <td>Aeon/Zeon</td>\n",
       "      <td>2901</td>\n",
       "      <td>Priyanka Pipada</td>\n",
       "      <td>4</td>\n",
       "    </tr>\n",
       "  </tbody>\n",
       "</table>\n",
       "</div>"
      ],
      "text/plain": [
       "  first_name last_name      delivery_date                 item_name  \\\n",
       "0      Payal    Sharma  Thursday 9th July                 Baby Corn   \n",
       "1      Payal    Sharma  Thursday 9th July                  Broccoli   \n",
       "2      Payal    Sharma  Thursday 9th July  Red & Yellow Bell Pepper   \n",
       "3      Payal    Sharma  Thursday 9th July              Basil Leaves   \n",
       "4   Priyanka    Pipada  Thursday 9th July                    Potato   \n",
       "\n",
       "               marathi_name  num_packets  final_weight unit  drop_point  \\\n",
       "0                बेबी कॉर्न            1           300  gms     Cosmic    \n",
       "1                  ब्रोकोली            1           250  gms     Cosmic    \n",
       "2  लाल आणि पिवळी बेल मिरपूड            1             2  pcs     Cosmic    \n",
       "3              तुळशीची पाने            1           100  gms     Cosmic    \n",
       "4                     बटाटा            1             1  kgs  Aeon/Zeon    \n",
       "\n",
       "  flat_no             name  token_no  \n",
       "0    1904     Payal Sharma         0  \n",
       "1    1904     Payal Sharma         1  \n",
       "2    1904     Payal Sharma         2  \n",
       "3    1904     Payal Sharma         3  \n",
       "4    2901  Priyanka Pipada         4  "
      ]
     },
     "execution_count": 101,
     "metadata": {},
     "output_type": "execute_result"
    }
   ],
   "source": [
    "new_df.head()"
   ]
  },
  {
   "cell_type": "code",
   "execution_count": 102,
   "metadata": {
    "ExecuteTime": {
     "end_time": "2020-07-18T09:14:00.899957Z",
     "start_time": "2020-07-18T09:13:48.295090Z"
    }
   },
   "outputs": [],
   "source": [
    "all_data = 0\n",
    "\n",
    "with pd.ExcelWriter(fname) as writer:\n",
    "    for cust in custs:\n",
    "        data = new_df[new_df.name == cust.split('_')[0]]\n",
    "        data = data[data.token_no == int(cust.split('_')[1])]\n",
    "        all_data += len(data.index)\n",
    "        styled = data.drop(columns=[\"name\"]).style.apply(f, axis=None)\n",
    "        styled.to_excel(writer, sheet_name=cust[:31], engine='openpyxl')\n",
    "        \n",
    "assert all_data == len(new_df)"
   ]
  },
  {
   "cell_type": "markdown",
   "metadata": {},
   "source": [
    "## Finished!"
   ]
  },
  {
   "cell_type": "code",
   "execution_count": 57,
   "metadata": {
    "ExecuteTime": {
     "end_time": "2020-07-18T09:07:37.979253Z",
     "start_time": "2020-07-18T09:07:37.974267Z"
    }
   },
   "outputs": [],
   "source": [
    "# new_df.item_name.unique()"
   ]
  },
  {
   "cell_type": "code",
   "execution_count": 58,
   "metadata": {
    "ExecuteTime": {
     "end_time": "2020-07-18T09:07:39.421954Z",
     "start_time": "2020-07-18T09:07:39.417941Z"
    }
   },
   "outputs": [],
   "source": [
    "# items = ['VNR Guava', 'Pear', 'Drumsticks']"
   ]
  },
  {
   "cell_type": "code",
   "execution_count": 59,
   "metadata": {
    "ExecuteTime": {
     "end_time": "2020-07-18T09:07:39.589480Z",
     "start_time": "2020-07-18T09:07:39.585493Z"
    }
   },
   "outputs": [],
   "source": [
    "# new_df[new_df.item_name.isin(items)].to_csv(f'guava-pear-drums-{str(FILE.stem)}.csv', index=False)"
   ]
  },
  {
   "cell_type": "code",
   "execution_count": 30,
   "metadata": {
    "ExecuteTime": {
     "end_time": "2020-07-14T17:16:29.585275Z",
     "start_time": "2020-07-14T17:16:29.582125Z"
    }
   },
   "outputs": [],
   "source": [
    "# new_df[new_df.item_name.isin(items)]"
   ]
  },
  {
   "cell_type": "code",
   "execution_count": null,
   "metadata": {},
   "outputs": [],
   "source": []
  },
  {
   "cell_type": "code",
   "execution_count": null,
   "metadata": {},
   "outputs": [],
   "source": []
  }
 ],
 "metadata": {
  "kernelspec": {
   "display_name": "Python [conda env:fastaiv1] *",
   "language": "python",
   "name": "conda-env-fastaiv1-py"
  },
  "language_info": {
   "codemirror_mode": {
    "name": "ipython",
    "version": 3
   },
   "file_extension": ".py",
   "mimetype": "text/x-python",
   "name": "python",
   "nbconvert_exporter": "python",
   "pygments_lexer": "ipython3",
   "version": "3.6.9"
  },
  "toc": {
   "base_numbering": 1,
   "nav_menu": {},
   "number_sections": true,
   "sideBar": true,
   "skip_h1_title": false,
   "title_cell": "Table of Contents",
   "title_sidebar": "Contents",
   "toc_cell": false,
   "toc_position": {},
   "toc_section_display": true,
   "toc_window_display": false
  }
 },
 "nbformat": 4,
 "nbformat_minor": 2
}
