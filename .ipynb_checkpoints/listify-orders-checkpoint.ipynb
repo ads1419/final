{
 "cells": [
  {
   "cell_type": "markdown",
   "metadata": {},
   "source": [
    "# Get List of Items & Quantities from All Orders"
   ]
  },
  {
   "cell_type": "code",
   "execution_count": 1,
   "metadata": {
    "ExecuteTime": {
     "end_time": "2020-07-18T08:54:54.587549Z",
     "start_time": "2020-07-18T08:54:53.795623Z"
    }
   },
   "outputs": [],
   "source": [
    "import pandas as pd\n",
    "import re\n",
    "from pathlib import Path\n",
    "import os"
   ]
  },
  {
   "cell_type": "code",
   "execution_count": 2,
   "metadata": {
    "ExecuteTime": {
     "end_time": "2020-07-18T08:54:54.592518Z",
     "start_time": "2020-07-18T08:54:54.589521Z"
    }
   },
   "outputs": [],
   "source": [
    "OUTPUT_DIR = Path(\"C:/Playground/bhaiya-orders/outputs/\")"
   ]
  },
  {
   "cell_type": "code",
   "execution_count": 3,
   "metadata": {
    "ExecuteTime": {
     "end_time": "2020-07-18T08:54:55.254816Z",
     "start_time": "2020-07-18T08:54:55.203856Z"
    }
   },
   "outputs": [],
   "source": [
    "from ipyfilechooser import FileChooser"
   ]
  },
  {
   "cell_type": "code",
   "execution_count": 4,
   "metadata": {
    "ExecuteTime": {
     "end_time": "2020-07-18T08:54:55.665648Z",
     "start_time": "2020-07-18T08:54:55.578883Z"
    }
   },
   "outputs": [
    {
     "data": {
      "application/vnd.jupyter.widget-view+json": {
       "model_id": "f615ad804aac46b4b0aadbd0bb3bab1d",
       "version_major": 2,
       "version_minor": 0
      },
      "text/plain": [
       "FileChooser(path='C:/Playground/bhaiya-orders/', filename='', show_hidden='False')"
      ]
     },
     "metadata": {},
     "output_type": "display_data"
    }
   ],
   "source": [
    "fc = FileChooser(\"C:/Playground/bhaiya-orders/\")\n",
    "fc.use_dir_icons = True\n",
    "display(fc)"
   ]
  },
  {
   "cell_type": "code",
   "execution_count": 5,
   "metadata": {
    "ExecuteTime": {
     "end_time": "2020-07-18T08:55:03.702179Z",
     "start_time": "2020-07-18T08:55:03.697137Z"
    }
   },
   "outputs": [],
   "source": [
    "FILE = Path(fc.selected)"
   ]
  },
  {
   "cell_type": "markdown",
   "metadata": {},
   "source": [
    "Try to read valid `csv` and `xlsx` files into a dataframe `df`. "
   ]
  },
  {
   "cell_type": "code",
   "execution_count": 6,
   "metadata": {
    "ExecuteTime": {
     "end_time": "2020-07-18T08:55:04.870094Z",
     "start_time": "2020-07-18T08:55:04.809174Z"
    }
   },
   "outputs": [],
   "source": [
    "try:\n",
    "    if 'csv' in FILE.suffix: df = pd.read_csv(FILE)\n",
    "    else: df = pd.read_excel(FILE)\n",
    "except OSError:\n",
    "    print(\"Error occured, invalid file!\")"
   ]
  },
  {
   "cell_type": "code",
   "execution_count": 8,
   "metadata": {
    "ExecuteTime": {
     "end_time": "2020-07-18T08:55:12.005909Z",
     "start_time": "2020-07-18T08:55:11.987958Z"
    }
   },
   "outputs": [
    {
     "data": {
      "text/html": [
       "<div>\n",
       "<style scoped>\n",
       "    .dataframe tbody tr th:only-of-type {\n",
       "        vertical-align: middle;\n",
       "    }\n",
       "\n",
       "    .dataframe tbody tr th {\n",
       "        vertical-align: top;\n",
       "    }\n",
       "\n",
       "    .dataframe thead th {\n",
       "        text-align: right;\n",
       "    }\n",
       "</style>\n",
       "<table border=\"1\" class=\"dataframe\">\n",
       "  <thead>\n",
       "    <tr style=\"text-align: right;\">\n",
       "      <th></th>\n",
       "      <th>Submission Date</th>\n",
       "      <th>Order Number#</th>\n",
       "      <th>First Name</th>\n",
       "      <th>Last Name</th>\n",
       "      <th>Select Drop Point and Building</th>\n",
       "      <th>Any other building?</th>\n",
       "      <th>Select Wing</th>\n",
       "      <th>Flat No</th>\n",
       "      <th>Phone Number</th>\n",
       "      <th>Email</th>\n",
       "      <th>Select Delivery Date</th>\n",
       "      <th>Your Order: Products</th>\n",
       "      <th>No Label</th>\n",
       "      <th>Any Pending credit from previous orders?</th>\n",
       "    </tr>\n",
       "  </thead>\n",
       "  <tbody>\n",
       "    <tr>\n",
       "      <th>0</th>\n",
       "      <td>2020-07-07 22:25:54</td>\n",
       "      <td>BHOR-0507</td>\n",
       "      <td>Payal</td>\n",
       "      <td>Sharma</td>\n",
       "      <td>Cosmic - Cosmic Heights</td>\n",
       "      <td>NaN</td>\n",
       "      <td>A Wing</td>\n",
       "      <td>1904</td>\n",
       "      <td>9930581815</td>\n",
       "      <td>payalmakhijani@gmail.com</td>\n",
       "      <td>Thursday 9th July</td>\n",
       "      <td>Baby Corn 300 gms (Amount: 60.00 INR, Select n...</td>\n",
       "      <td>Accepted\\n\\n1. All issues and complaints regar...</td>\n",
       "      <td>NaN</td>\n",
       "    </tr>\n",
       "    <tr>\n",
       "      <th>1</th>\n",
       "      <td>2020-07-07 22:06:39</td>\n",
       "      <td>BHOR-0506</td>\n",
       "      <td>Priyanka</td>\n",
       "      <td>Pipada</td>\n",
       "      <td>Aeon/Zeon - Zeon</td>\n",
       "      <td>NaN</td>\n",
       "      <td>B Wing</td>\n",
       "      <td>2901</td>\n",
       "      <td>9819714534</td>\n",
       "      <td>vaibhavkanyalkar@gmail.com</td>\n",
       "      <td>Thursday 9th July</td>\n",
       "      <td>Potato 1 Kg (Amount: 36.00 INR, Special Quanti...</td>\n",
       "      <td>Accepted\\n\\n1. All issues and complaints regar...</td>\n",
       "      <td>NaN</td>\n",
       "    </tr>\n",
       "  </tbody>\n",
       "</table>\n",
       "</div>"
      ],
      "text/plain": [
       "      Submission Date Order Number# First Name Last Name  \\\n",
       "0 2020-07-07 22:25:54     BHOR-0507      Payal    Sharma   \n",
       "1 2020-07-07 22:06:39     BHOR-0506   Priyanka    Pipada   \n",
       "\n",
       "  Select Drop Point and Building Any other building? Select Wing Flat No  \\\n",
       "0        Cosmic - Cosmic Heights                 NaN      A Wing    1904   \n",
       "1               Aeon/Zeon - Zeon                 NaN      B Wing    2901   \n",
       "\n",
       "   Phone Number                       Email Select Delivery Date  \\\n",
       "0    9930581815    payalmakhijani@gmail.com    Thursday 9th July   \n",
       "1    9819714534  vaibhavkanyalkar@gmail.com    Thursday 9th July   \n",
       "\n",
       "                                Your Order: Products  \\\n",
       "0  Baby Corn 300 gms (Amount: 60.00 INR, Select n...   \n",
       "1  Potato 1 Kg (Amount: 36.00 INR, Special Quanti...   \n",
       "\n",
       "                                            No Label  \\\n",
       "0  Accepted\\n\\n1. All issues and complaints regar...   \n",
       "1  Accepted\\n\\n1. All issues and complaints regar...   \n",
       "\n",
       "   Any Pending credit from previous orders?  \n",
       "0                                       NaN  \n",
       "1                                       NaN  "
      ]
     },
     "execution_count": 8,
     "metadata": {},
     "output_type": "execute_result"
    }
   ],
   "source": [
    "df.head(2)"
   ]
  },
  {
   "cell_type": "markdown",
   "metadata": {},
   "source": [
    "## Identify the Relevant Columns"
   ]
  },
  {
   "cell_type": "markdown",
   "metadata": {},
   "source": [
    "Pick out the relevant column for orders.\n",
    "\n",
    "**Assumptions:** \n",
    "1. If a column header contains the substring `\"Your Order\"`, it is deemed to be the required column. Take care that no other colummn contains the substring.\n",
    "2. \"Token\": Token Number\n",
    "3. \"Flat\": Flat Number"
   ]
  },
  {
   "cell_type": "code",
   "execution_count": 9,
   "metadata": {
    "ExecuteTime": {
     "end_time": "2020-07-18T08:55:15.873590Z",
     "start_time": "2020-07-18T08:55:15.869573Z"
    }
   },
   "outputs": [],
   "source": [
    "for col in df.columns:\n",
    "    if \"Your Order\" in col:\n",
    "        your_order = col\n",
    "        \n",
    "    if \"token\" in col.lower():\n",
    "        token = col\n",
    "        \n",
    "    if \"flat\" in col.lower():\n",
    "        flat = col"
   ]
  },
  {
   "cell_type": "markdown",
   "metadata": {},
   "source": [
    "## Prepare Keys"
   ]
  },
  {
   "cell_type": "markdown",
   "metadata": {},
   "source": [
    "Pick out all the possible unique orders from the given spreadsheet.\n",
    "\n",
    "**Assumptions**: \n",
    "1. Every order for a particular user is separated by a closing paranthesis `)`.\n",
    "2. The key-value pair in an item is ordered as `key (value)`. \n",
    "3. The last item in a list of orders is always the column describing total cost."
   ]
  },
  {
   "cell_type": "code",
   "execution_count": 10,
   "metadata": {
    "ExecuteTime": {
     "end_time": "2020-07-18T08:55:20.570310Z",
     "start_time": "2020-07-18T08:55:20.565290Z"
    }
   },
   "outputs": [],
   "source": [
    "k = []\n",
    "for order in df[your_order]:\n",
    "    split = order.split(')')[:-1] # last item is always total cost\n",
    "    split = [s.replace('\\n', '') for s in split] # remove newlines if present\n",
    "    k.append(split)"
   ]
  },
  {
   "cell_type": "code",
   "execution_count": 11,
   "metadata": {
    "ExecuteTime": {
     "end_time": "2020-07-18T08:55:22.880099Z",
     "start_time": "2020-07-18T08:55:22.874138Z"
    }
   },
   "outputs": [],
   "source": [
    "def get_qty(txt):\n",
    "    \n",
    "    \"\"\"\n",
    "        Returns the Special Quantity key for a given order. \n",
    "            Sample input string: '...no. of 500 gm packets required: 1)'\n",
    "            Returns: 1\n",
    "    \"\"\"\n",
    "    \n",
    "    match = re.search(\": ([0-9]+?)\\)\", txt)\n",
    "    if match:\n",
    "        return int(match.group(1))\n",
    "\n",
    "def get_price(txt):\n",
    "    \n",
    "    \"\"\"\n",
    "        Returns the Special Quantity key for a given order. \n",
    "            Sample input string: '...no. of 500 gm packets required: 1)'\n",
    "            Returns: 1\n",
    "    \"\"\"\n",
    "    \n",
    "    match = re.search(\"Amount: (.*?) INR\", txt)\n",
    "    if match:\n",
    "        return (match.group(1))"
   ]
  },
  {
   "cell_type": "code",
   "execution_count": 12,
   "metadata": {
    "ExecuteTime": {
     "end_time": "2020-07-18T08:55:24.206576Z",
     "start_time": "2020-07-18T08:55:24.203583Z"
    }
   },
   "outputs": [],
   "source": [
    "all_costs = {}"
   ]
  },
  {
   "cell_type": "code",
   "execution_count": 13,
   "metadata": {
    "ExecuteTime": {
     "end_time": "2020-07-18T08:55:26.032990Z",
     "start_time": "2020-07-18T08:55:26.021992Z"
    }
   },
   "outputs": [],
   "source": [
    "items = []\n",
    "for order in k:\n",
    "    for item in order:\n",
    "        if len(item.split('(')) > 1: \n",
    "            items.append(item.split('(')[0].strip())\n",
    "            all_costs[item.split('(')[0].strip()] = float(get_price(item).replace(',', '')) / get_qty(item+')')"
   ]
  },
  {
   "cell_type": "code",
   "execution_count": 14,
   "metadata": {
    "ExecuteTime": {
     "end_time": "2020-07-18T08:55:28.022644Z",
     "start_time": "2020-07-18T08:55:28.018651Z"
    }
   },
   "outputs": [],
   "source": [
    "all_items = sorted(list(set(items)))"
   ]
  },
  {
   "cell_type": "code",
   "execution_count": 15,
   "metadata": {
    "ExecuteTime": {
     "end_time": "2020-07-18T08:55:28.374699Z",
     "start_time": "2020-07-18T08:55:28.367717Z"
    }
   },
   "outputs": [
    {
     "data": {
      "text/plain": [
       "['Apples Royal Gala Per Kg',\n",
       " 'Apples Washington Per Kg',\n",
       " 'Arbi/ Colocasia 500gms',\n",
       " 'Baby Corn 300 gms',\n",
       " 'Banana Regular Per 6 Pcs',\n",
       " 'Basil Leaves  100 gms',\n",
       " 'Beetroot 500 Gms',\n",
       " \"Bhindi/Lady's Finger 500 Gms\",\n",
       " 'Bitter Gourd 300 Gms',\n",
       " 'Bottle Gourd Per Pc',\n",
       " 'Brinjal Bharta Per Pc',\n",
       " 'Brinjal Kateri 500 Gms',\n",
       " 'Broccoli  250 gms',\n",
       " 'Cabbage Per Pc',\n",
       " 'Capsicum Green 500 gms',\n",
       " 'Cauliflower Per Pc',\n",
       " 'Coconut Mangalore Big Per Pc 525 gm',\n",
       " 'Coconut Mangalore Medium 425 gms',\n",
       " 'Coconut Mangalore Small per 300 gms',\n",
       " 'Coriander Leaves per bunch 250 - 300 gms',\n",
       " 'Cucumber 500 Gms',\n",
       " 'Curry Leaves per bunch',\n",
       " 'Drumsticks 250 gms',\n",
       " 'Garlic 250 Gms',\n",
       " 'Gawar/Cluster Beans 300 gms',\n",
       " 'Ginger 250 Gms',\n",
       " 'Green Chilly 200 Gms',\n",
       " 'Indian Guava Per Kg',\n",
       " 'Jamun 500 gm Punnet',\n",
       " 'Kiwi Imported Pack of 3 Pc',\n",
       " 'Lemongrass  per bunch',\n",
       " 'Lemons pack of 5',\n",
       " 'Methi Leaves per bunch 450 gms - 500 gms',\n",
       " 'Mint Leaves per bunch',\n",
       " 'Onion Red 1 Kg',\n",
       " 'Orange Imported pack of 4 Pc',\n",
       " 'Palak/ Spinach Leaves per bunch 400 gms - 500 gms',\n",
       " 'Parwal/Pointed gourd 500 Gms',\n",
       " 'Pear per Kg',\n",
       " 'Pineapple Whole per pc',\n",
       " 'Potato 1 Kg',\n",
       " 'Pumpkin 500 gms',\n",
       " 'Raw Banana 500 Gms',\n",
       " 'Red & Yellow Bell Pepper 2 each in a pack',\n",
       " 'Shepu/ Dill Leaves per bunch',\n",
       " 'Sponge Gourd 250 Gms',\n",
       " 'Sweet Tamarind Pack of 225 gms',\n",
       " 'Tomato 1 Kg',\n",
       " 'Tondli 300 gms',\n",
       " 'VNR Guava Per Kg 3 Pcs']"
      ]
     },
     "execution_count": 15,
     "metadata": {},
     "output_type": "execute_result"
    }
   ],
   "source": [
    "all_items"
   ]
  },
  {
   "cell_type": "markdown",
   "metadata": {},
   "source": [
    "## Prepare Count Dictionary"
   ]
  },
  {
   "cell_type": "markdown",
   "metadata": {},
   "source": [
    "Count total orders for a particular item in the given spreadsheet.\n",
    "\n",
    "**Assumptions**:\n",
    "\n",
    "1. The value count for a particular order is sandwiched as an `integer` as `: INT)`. For example, _'Potato 1 Kg (Amount: 36.00 INR, Special Quantity: 10)'_"
   ]
  },
  {
   "cell_type": "code",
   "execution_count": 16,
   "metadata": {
    "ExecuteTime": {
     "end_time": "2020-07-18T08:55:31.063926Z",
     "start_time": "2020-07-18T08:55:31.059944Z"
    }
   },
   "outputs": [],
   "source": [
    "# init order dictionary\n",
    "all_orders = {}\n",
    "for item in all_items:\n",
    "    all_orders[item] = 0"
   ]
  },
  {
   "cell_type": "code",
   "execution_count": 17,
   "metadata": {
    "ExecuteTime": {
     "end_time": "2020-07-18T08:55:31.941579Z",
     "start_time": "2020-07-18T08:55:31.934595Z"
    }
   },
   "outputs": [],
   "source": [
    "for order in k:\n",
    "    for i in order:\n",
    "        i = i + ')'\n",
    "        sp1 = i.split(\"(\")\n",
    "        if len(sp1) < 2:\n",
    "            continue\n",
    "        \n",
    "        key = sp1[0].strip()\n",
    "        val = get_qty(sp1[1])\n",
    "        if(key[:3] == \"VNR\"): val = 1\n",
    "#         if(len(key) < 3): print(order)\n",
    "        all_orders[key] += val"
   ]
  },
  {
   "cell_type": "markdown",
   "metadata": {},
   "source": [
    "## Create DataFrame"
   ]
  },
  {
   "cell_type": "code",
   "execution_count": 18,
   "metadata": {
    "ExecuteTime": {
     "end_time": "2020-07-18T08:55:36.027678Z",
     "start_time": "2020-07-18T08:55:36.021662Z"
    }
   },
   "outputs": [],
   "source": [
    "# create empty dataframe\n",
    "cleaned_df = pd.DataFrame.from_dict(all_orders, orient=\"index\")\n",
    "cleaned_df.reset_index(inplace=True)\n",
    "cleaned_df.columns = [\"item\", \"num_units\"]"
   ]
  },
  {
   "cell_type": "markdown",
   "metadata": {},
   "source": [
    "### Quantity Per Packet"
   ]
  },
  {
   "cell_type": "markdown",
   "metadata": {},
   "source": [
    "Pull out the quantity in each order.\n",
    "\n",
    "**Assumptions**:\n",
    "1. If integers are present in the key, then the last integer value is chosen as the packet size for that particular order. For example, *'Tondli 300-400 gms'* returns a packet size of 400 (unit is extracted later)."
   ]
  },
  {
   "cell_type": "code",
   "execution_count": 19,
   "metadata": {
    "ExecuteTime": {
     "end_time": "2020-07-18T08:55:37.490733Z",
     "start_time": "2020-07-18T08:55:37.485746Z"
    }
   },
   "outputs": [],
   "source": [
    "def extract_num(txt):\n",
    "    \n",
    "    \"\"\"\n",
    "        Searches a string and returns the last number found, if present. \n",
    "        Otherwise return 1.\n",
    "        Use case: For an item key such as 'Tondli 300 gms ', return 300 (to calculate total qty required)\n",
    "    \"\"\"\n",
    "    \n",
    "    match = re.findall(\"([0-9]+)\", txt)\n",
    "    if match:\n",
    "        return int(match[-1])\n",
    "    else:\n",
    "        return 1"
   ]
  },
  {
   "cell_type": "code",
   "execution_count": 20,
   "metadata": {
    "ExecuteTime": {
     "end_time": "2020-07-18T08:55:39.436546Z",
     "start_time": "2020-07-18T08:55:39.431566Z"
    }
   },
   "outputs": [],
   "source": [
    "# find quantity per item (amount of stuff in one packet)\n",
    "packet = []\n",
    "for item in cleaned_df.item:\n",
    "    packet.append(extract_num(item))\n",
    "cleaned_df[\"qty_per_packet\"] = packet"
   ]
  },
  {
   "cell_type": "markdown",
   "metadata": {},
   "source": [
    "### Total Quantity to be Purchased"
   ]
  },
  {
   "cell_type": "markdown",
   "metadata": {
    "ExecuteTime": {
     "end_time": "2020-06-27T11:11:10.332055Z",
     "start_time": "2020-06-27T11:11:10.325072Z"
    }
   },
   "source": [
    "Self explanatory. `(Total quantity to be purchased) = (Size of one packet) * (Total number of packets ordered)`"
   ]
  },
  {
   "cell_type": "code",
   "execution_count": 21,
   "metadata": {
    "ExecuteTime": {
     "end_time": "2020-07-18T08:55:40.570974Z",
     "start_time": "2020-07-18T08:55:40.550030Z"
    }
   },
   "outputs": [],
   "source": [
    "# total quantity = #units ordered * qty in 1 unit\n",
    "cleaned_df[\"total_qty\"] = cleaned_df.num_units * cleaned_df.qty_per_packet"
   ]
  },
  {
   "cell_type": "markdown",
   "metadata": {},
   "source": [
    "### Unit of Measurement"
   ]
  },
  {
   "cell_type": "markdown",
   "metadata": {},
   "source": [
    "Extract unit of measurement for particular item.\n",
    "\n",
    "**Approach**:\n",
    "1. If ` gm` is in item: grams\n",
    "2. Else, if ` pc` is in item: pieces\n",
    "3. Else, if ` bunch` is in item: bunches\n",
    "4. Default to kilograms"
   ]
  },
  {
   "cell_type": "code",
   "execution_count": 22,
   "metadata": {
    "ExecuteTime": {
     "end_time": "2020-07-18T08:55:41.618204Z",
     "start_time": "2020-07-18T08:55:41.613186Z"
    }
   },
   "outputs": [],
   "source": [
    "def get_unit(txt):\n",
    "    \"\"\"\n",
    "        Gets unit from an item string.\n",
    "        Assumption: standard occurence of units all across the board. \n",
    "    \"\"\"\n",
    "    txt = txt.lower()\n",
    "    if txt.find('gm') != -1: unit = 'gms'\n",
    "    elif txt.find(' pc') != -1: unit = 'pcs'\n",
    "    elif txt.find(' bunch') != -1: unit = 'bunches'\n",
    "    else: unit = 'kgs'\n",
    "    return unit"
   ]
  },
  {
   "cell_type": "code",
   "execution_count": 23,
   "metadata": {
    "ExecuteTime": {
     "end_time": "2020-07-18T08:55:43.120168Z",
     "start_time": "2020-07-18T08:55:43.116165Z"
    }
   },
   "outputs": [],
   "source": [
    "# extract qty unit from item\n",
    "cleaned_df[\"unit\"] = cleaned_df.item.apply(get_unit)"
   ]
  },
  {
   "cell_type": "markdown",
   "metadata": {
    "ExecuteTime": {
     "end_time": "2020-06-27T10:44:16.810777Z",
     "start_time": "2020-06-27T10:44:16.806761Z"
    }
   },
   "source": [
    "### Handling the Curious Case of Bell Peppers"
   ]
  },
  {
   "cell_type": "markdown",
   "metadata": {},
   "source": [
    "The key `'Red & Yellow Bell Pepper 2 each in a pack'` implies two yellow bell peppers and two red bell peppers.\n",
    "\n",
    "**Approach**:\n",
    "\n",
    "1. Replace `x` units ordered with `2x` units each of '`Red Bell Pepper per pc`' and '`Yellow Bell Pepper per pc`'."
   ]
  },
  {
   "cell_type": "code",
   "execution_count": 24,
   "metadata": {
    "ExecuteTime": {
     "end_time": "2020-07-18T08:55:45.352185Z",
     "start_time": "2020-07-18T08:55:45.330242Z"
    }
   },
   "outputs": [],
   "source": [
    "# manually handle bell peppers\n",
    "\n",
    "for index, row in cleaned_df.iterrows():\n",
    "    if row[\"item\"] == 'Red & Yellow Bell Pepper 2 each in a pack':\n",
    "\n",
    "        # add red bell peppers\n",
    "        cleaned_df = cleaned_df.append({\"item\": \"Red Bell Pepper per pc\",\n",
    "                                        \"num_units\": row[\"num_units\"]*2,\n",
    "                                        \"qty_per_packet\": 1,\n",
    "                                        \"total_qty\": row[\"num_units\"]*2,\n",
    "                                        \"unit\": \"pcs\"}, ignore_index=True)\n",
    "\n",
    "        # add yellow bell peppers\n",
    "        cleaned_df = cleaned_df.append({\"item\": \"Yellow Bell Pepper per pc\",\n",
    "                                        \"num_units\": row[\"num_units\"]*2,\n",
    "                                        \"qty_per_packet\": 1,\n",
    "                                        \"total_qty\": row[\"num_units\"]*2,\n",
    "                                        \"unit\": \"pcs\"}, ignore_index=True)\n",
    "\n",
    "        # remove packet entry\n",
    "        cleaned_df.drop(index=index, inplace=True)"
   ]
  },
  {
   "cell_type": "markdown",
   "metadata": {},
   "source": [
    "## Save to Disk!"
   ]
  },
  {
   "cell_type": "markdown",
   "metadata": {},
   "source": [
    "Save file to disk as `listified-filename.csv`"
   ]
  },
  {
   "cell_type": "code",
   "execution_count": 25,
   "metadata": {
    "ExecuteTime": {
     "end_time": "2020-07-18T08:55:47.598175Z",
     "start_time": "2020-07-18T08:55:47.593213Z"
    }
   },
   "outputs": [],
   "source": [
    "save_pth = OUTPUT_DIR/FILE.stem\n",
    "os.makedirs(save_pth, exist_ok=True)"
   ]
  },
  {
   "cell_type": "code",
   "execution_count": 26,
   "metadata": {
    "ExecuteTime": {
     "end_time": "2020-07-18T08:55:48.979513Z",
     "start_time": "2020-07-18T08:55:48.975492Z"
    }
   },
   "outputs": [],
   "source": [
    "save_pth = save_pth/('listified-' + str(FILE.stem) + '.csv')"
   ]
  },
  {
   "cell_type": "code",
   "execution_count": 27,
   "metadata": {
    "ExecuteTime": {
     "end_time": "2020-07-18T08:55:50.470493Z",
     "start_time": "2020-07-18T08:55:50.462542Z"
    }
   },
   "outputs": [],
   "source": [
    "cleaned_df.to_csv(save_pth, index=False)"
   ]
  },
  {
   "cell_type": "code",
   "execution_count": 28,
   "metadata": {
    "ExecuteTime": {
     "end_time": "2020-07-18T08:55:56.519344Z",
     "start_time": "2020-07-18T08:55:56.503353Z"
    }
   },
   "outputs": [
    {
     "data": {
      "text/html": [
       "<div>\n",
       "<style scoped>\n",
       "    .dataframe tbody tr th:only-of-type {\n",
       "        vertical-align: middle;\n",
       "    }\n",
       "\n",
       "    .dataframe tbody tr th {\n",
       "        vertical-align: top;\n",
       "    }\n",
       "\n",
       "    .dataframe thead th {\n",
       "        text-align: right;\n",
       "    }\n",
       "</style>\n",
       "<table border=\"1\" class=\"dataframe\">\n",
       "  <thead>\n",
       "    <tr style=\"text-align: right;\">\n",
       "      <th></th>\n",
       "      <th>item</th>\n",
       "      <th>num_units</th>\n",
       "      <th>qty_per_packet</th>\n",
       "      <th>total_qty</th>\n",
       "      <th>unit</th>\n",
       "    </tr>\n",
       "  </thead>\n",
       "  <tbody>\n",
       "    <tr>\n",
       "      <th>0</th>\n",
       "      <td>Apples Royal Gala Per Kg</td>\n",
       "      <td>8</td>\n",
       "      <td>1</td>\n",
       "      <td>8</td>\n",
       "      <td>kgs</td>\n",
       "    </tr>\n",
       "    <tr>\n",
       "      <th>1</th>\n",
       "      <td>Apples Washington Per Kg</td>\n",
       "      <td>13</td>\n",
       "      <td>1</td>\n",
       "      <td>13</td>\n",
       "      <td>kgs</td>\n",
       "    </tr>\n",
       "    <tr>\n",
       "      <th>2</th>\n",
       "      <td>Arbi/ Colocasia 500gms</td>\n",
       "      <td>18</td>\n",
       "      <td>500</td>\n",
       "      <td>9000</td>\n",
       "      <td>gms</td>\n",
       "    </tr>\n",
       "    <tr>\n",
       "      <th>3</th>\n",
       "      <td>Baby Corn 300 gms</td>\n",
       "      <td>14</td>\n",
       "      <td>300</td>\n",
       "      <td>4200</td>\n",
       "      <td>gms</td>\n",
       "    </tr>\n",
       "    <tr>\n",
       "      <th>4</th>\n",
       "      <td>Banana Regular Per 6 Pcs</td>\n",
       "      <td>27</td>\n",
       "      <td>6</td>\n",
       "      <td>162</td>\n",
       "      <td>pcs</td>\n",
       "    </tr>\n",
       "    <tr>\n",
       "      <th>5</th>\n",
       "      <td>Basil Leaves  100 gms</td>\n",
       "      <td>13</td>\n",
       "      <td>100</td>\n",
       "      <td>1300</td>\n",
       "      <td>gms</td>\n",
       "    </tr>\n",
       "    <tr>\n",
       "      <th>6</th>\n",
       "      <td>Beetroot 500 Gms</td>\n",
       "      <td>10</td>\n",
       "      <td>500</td>\n",
       "      <td>5000</td>\n",
       "      <td>gms</td>\n",
       "    </tr>\n",
       "    <tr>\n",
       "      <th>7</th>\n",
       "      <td>Bhindi/Lady's Finger 500 Gms</td>\n",
       "      <td>49</td>\n",
       "      <td>500</td>\n",
       "      <td>24500</td>\n",
       "      <td>gms</td>\n",
       "    </tr>\n",
       "    <tr>\n",
       "      <th>8</th>\n",
       "      <td>Bitter Gourd 300 Gms</td>\n",
       "      <td>21</td>\n",
       "      <td>300</td>\n",
       "      <td>6300</td>\n",
       "      <td>gms</td>\n",
       "    </tr>\n",
       "    <tr>\n",
       "      <th>9</th>\n",
       "      <td>Bottle Gourd Per Pc</td>\n",
       "      <td>39</td>\n",
       "      <td>1</td>\n",
       "      <td>39</td>\n",
       "      <td>pcs</td>\n",
       "    </tr>\n",
       "    <tr>\n",
       "      <th>10</th>\n",
       "      <td>Brinjal Bharta Per Pc</td>\n",
       "      <td>30</td>\n",
       "      <td>1</td>\n",
       "      <td>30</td>\n",
       "      <td>pcs</td>\n",
       "    </tr>\n",
       "    <tr>\n",
       "      <th>11</th>\n",
       "      <td>Brinjal Kateri 500 Gms</td>\n",
       "      <td>12</td>\n",
       "      <td>500</td>\n",
       "      <td>6000</td>\n",
       "      <td>gms</td>\n",
       "    </tr>\n",
       "    <tr>\n",
       "      <th>12</th>\n",
       "      <td>Broccoli  250 gms</td>\n",
       "      <td>21</td>\n",
       "      <td>250</td>\n",
       "      <td>5250</td>\n",
       "      <td>gms</td>\n",
       "    </tr>\n",
       "    <tr>\n",
       "      <th>13</th>\n",
       "      <td>Cabbage Per Pc</td>\n",
       "      <td>22</td>\n",
       "      <td>1</td>\n",
       "      <td>22</td>\n",
       "      <td>pcs</td>\n",
       "    </tr>\n",
       "    <tr>\n",
       "      <th>14</th>\n",
       "      <td>Capsicum Green 500 gms</td>\n",
       "      <td>25</td>\n",
       "      <td>500</td>\n",
       "      <td>12500</td>\n",
       "      <td>gms</td>\n",
       "    </tr>\n",
       "    <tr>\n",
       "      <th>15</th>\n",
       "      <td>Cauliflower Per Pc</td>\n",
       "      <td>47</td>\n",
       "      <td>1</td>\n",
       "      <td>47</td>\n",
       "      <td>pcs</td>\n",
       "    </tr>\n",
       "    <tr>\n",
       "      <th>16</th>\n",
       "      <td>Coconut Mangalore Big Per Pc 525 gm</td>\n",
       "      <td>2</td>\n",
       "      <td>525</td>\n",
       "      <td>1050</td>\n",
       "      <td>gms</td>\n",
       "    </tr>\n",
       "    <tr>\n",
       "      <th>17</th>\n",
       "      <td>Coconut Mangalore Medium 425 gms</td>\n",
       "      <td>6</td>\n",
       "      <td>425</td>\n",
       "      <td>2550</td>\n",
       "      <td>gms</td>\n",
       "    </tr>\n",
       "    <tr>\n",
       "      <th>18</th>\n",
       "      <td>Coconut Mangalore Small per 300 gms</td>\n",
       "      <td>7</td>\n",
       "      <td>300</td>\n",
       "      <td>2100</td>\n",
       "      <td>gms</td>\n",
       "    </tr>\n",
       "    <tr>\n",
       "      <th>19</th>\n",
       "      <td>Coriander Leaves per bunch 250 - 300 gms</td>\n",
       "      <td>37</td>\n",
       "      <td>300</td>\n",
       "      <td>11100</td>\n",
       "      <td>gms</td>\n",
       "    </tr>\n",
       "    <tr>\n",
       "      <th>20</th>\n",
       "      <td>Cucumber 500 Gms</td>\n",
       "      <td>47</td>\n",
       "      <td>500</td>\n",
       "      <td>23500</td>\n",
       "      <td>gms</td>\n",
       "    </tr>\n",
       "    <tr>\n",
       "      <th>21</th>\n",
       "      <td>Curry Leaves per bunch</td>\n",
       "      <td>17</td>\n",
       "      <td>1</td>\n",
       "      <td>17</td>\n",
       "      <td>bunches</td>\n",
       "    </tr>\n",
       "    <tr>\n",
       "      <th>22</th>\n",
       "      <td>Drumsticks 250 gms</td>\n",
       "      <td>18</td>\n",
       "      <td>250</td>\n",
       "      <td>4500</td>\n",
       "      <td>gms</td>\n",
       "    </tr>\n",
       "    <tr>\n",
       "      <th>23</th>\n",
       "      <td>Garlic 250 Gms</td>\n",
       "      <td>11</td>\n",
       "      <td>250</td>\n",
       "      <td>2750</td>\n",
       "      <td>gms</td>\n",
       "    </tr>\n",
       "    <tr>\n",
       "      <th>24</th>\n",
       "      <td>Gawar/Cluster Beans 300 gms</td>\n",
       "      <td>7</td>\n",
       "      <td>300</td>\n",
       "      <td>2100</td>\n",
       "      <td>gms</td>\n",
       "    </tr>\n",
       "    <tr>\n",
       "      <th>25</th>\n",
       "      <td>Ginger 250 Gms</td>\n",
       "      <td>31</td>\n",
       "      <td>250</td>\n",
       "      <td>7750</td>\n",
       "      <td>gms</td>\n",
       "    </tr>\n",
       "    <tr>\n",
       "      <th>26</th>\n",
       "      <td>Green Chilly 200 Gms</td>\n",
       "      <td>20</td>\n",
       "      <td>200</td>\n",
       "      <td>4000</td>\n",
       "      <td>gms</td>\n",
       "    </tr>\n",
       "    <tr>\n",
       "      <th>27</th>\n",
       "      <td>Indian Guava Per Kg</td>\n",
       "      <td>23</td>\n",
       "      <td>1</td>\n",
       "      <td>23</td>\n",
       "      <td>kgs</td>\n",
       "    </tr>\n",
       "    <tr>\n",
       "      <th>28</th>\n",
       "      <td>Jamun 500 gm Punnet</td>\n",
       "      <td>2</td>\n",
       "      <td>500</td>\n",
       "      <td>1000</td>\n",
       "      <td>gms</td>\n",
       "    </tr>\n",
       "    <tr>\n",
       "      <th>29</th>\n",
       "      <td>Kiwi Imported Pack of 3 Pc</td>\n",
       "      <td>8</td>\n",
       "      <td>3</td>\n",
       "      <td>24</td>\n",
       "      <td>pcs</td>\n",
       "    </tr>\n",
       "    <tr>\n",
       "      <th>30</th>\n",
       "      <td>Lemongrass  per bunch</td>\n",
       "      <td>20</td>\n",
       "      <td>1</td>\n",
       "      <td>20</td>\n",
       "      <td>bunches</td>\n",
       "    </tr>\n",
       "    <tr>\n",
       "      <th>31</th>\n",
       "      <td>Lemons pack of 5</td>\n",
       "      <td>44</td>\n",
       "      <td>5</td>\n",
       "      <td>220</td>\n",
       "      <td>kgs</td>\n",
       "    </tr>\n",
       "    <tr>\n",
       "      <th>32</th>\n",
       "      <td>Methi Leaves per bunch 450 gms - 500 gms</td>\n",
       "      <td>18</td>\n",
       "      <td>500</td>\n",
       "      <td>9000</td>\n",
       "      <td>gms</td>\n",
       "    </tr>\n",
       "    <tr>\n",
       "      <th>33</th>\n",
       "      <td>Mint Leaves per bunch</td>\n",
       "      <td>14</td>\n",
       "      <td>1</td>\n",
       "      <td>14</td>\n",
       "      <td>bunches</td>\n",
       "    </tr>\n",
       "    <tr>\n",
       "      <th>34</th>\n",
       "      <td>Onion Red 1 Kg</td>\n",
       "      <td>74</td>\n",
       "      <td>1</td>\n",
       "      <td>74</td>\n",
       "      <td>kgs</td>\n",
       "    </tr>\n",
       "    <tr>\n",
       "      <th>35</th>\n",
       "      <td>Orange Imported pack of 4 Pc</td>\n",
       "      <td>4</td>\n",
       "      <td>4</td>\n",
       "      <td>16</td>\n",
       "      <td>pcs</td>\n",
       "    </tr>\n",
       "    <tr>\n",
       "      <th>36</th>\n",
       "      <td>Palak/ Spinach Leaves per bunch 400 gms - 500 gms</td>\n",
       "      <td>39</td>\n",
       "      <td>500</td>\n",
       "      <td>19500</td>\n",
       "      <td>gms</td>\n",
       "    </tr>\n",
       "    <tr>\n",
       "      <th>37</th>\n",
       "      <td>Parwal/Pointed gourd 500 Gms</td>\n",
       "      <td>16</td>\n",
       "      <td>500</td>\n",
       "      <td>8000</td>\n",
       "      <td>gms</td>\n",
       "    </tr>\n",
       "    <tr>\n",
       "      <th>38</th>\n",
       "      <td>Pear per Kg</td>\n",
       "      <td>17</td>\n",
       "      <td>1</td>\n",
       "      <td>17</td>\n",
       "      <td>kgs</td>\n",
       "    </tr>\n",
       "    <tr>\n",
       "      <th>39</th>\n",
       "      <td>Pineapple Whole per pc</td>\n",
       "      <td>6</td>\n",
       "      <td>1</td>\n",
       "      <td>6</td>\n",
       "      <td>pcs</td>\n",
       "    </tr>\n",
       "    <tr>\n",
       "      <th>40</th>\n",
       "      <td>Potato 1 Kg</td>\n",
       "      <td>66</td>\n",
       "      <td>1</td>\n",
       "      <td>66</td>\n",
       "      <td>kgs</td>\n",
       "    </tr>\n",
       "    <tr>\n",
       "      <th>41</th>\n",
       "      <td>Pumpkin 500 gms</td>\n",
       "      <td>19</td>\n",
       "      <td>500</td>\n",
       "      <td>9500</td>\n",
       "      <td>gms</td>\n",
       "    </tr>\n",
       "    <tr>\n",
       "      <th>42</th>\n",
       "      <td>Raw Banana 500 Gms</td>\n",
       "      <td>13</td>\n",
       "      <td>500</td>\n",
       "      <td>6500</td>\n",
       "      <td>gms</td>\n",
       "    </tr>\n",
       "    <tr>\n",
       "      <th>44</th>\n",
       "      <td>Shepu/ Dill Leaves per bunch</td>\n",
       "      <td>5</td>\n",
       "      <td>1</td>\n",
       "      <td>5</td>\n",
       "      <td>bunches</td>\n",
       "    </tr>\n",
       "    <tr>\n",
       "      <th>45</th>\n",
       "      <td>Sponge Gourd 250 Gms</td>\n",
       "      <td>27</td>\n",
       "      <td>250</td>\n",
       "      <td>6750</td>\n",
       "      <td>gms</td>\n",
       "    </tr>\n",
       "    <tr>\n",
       "      <th>46</th>\n",
       "      <td>Sweet Tamarind Pack of 225 gms</td>\n",
       "      <td>1</td>\n",
       "      <td>225</td>\n",
       "      <td>225</td>\n",
       "      <td>gms</td>\n",
       "    </tr>\n",
       "    <tr>\n",
       "      <th>47</th>\n",
       "      <td>Tomato 1 Kg</td>\n",
       "      <td>62</td>\n",
       "      <td>1</td>\n",
       "      <td>62</td>\n",
       "      <td>kgs</td>\n",
       "    </tr>\n",
       "    <tr>\n",
       "      <th>48</th>\n",
       "      <td>Tondli 300 gms</td>\n",
       "      <td>23</td>\n",
       "      <td>300</td>\n",
       "      <td>6900</td>\n",
       "      <td>gms</td>\n",
       "    </tr>\n",
       "    <tr>\n",
       "      <th>49</th>\n",
       "      <td>VNR Guava Per Kg 3 Pcs</td>\n",
       "      <td>1</td>\n",
       "      <td>3</td>\n",
       "      <td>3</td>\n",
       "      <td>pcs</td>\n",
       "    </tr>\n",
       "    <tr>\n",
       "      <th>50</th>\n",
       "      <td>Red Bell Pepper per pc</td>\n",
       "      <td>26</td>\n",
       "      <td>1</td>\n",
       "      <td>26</td>\n",
       "      <td>pcs</td>\n",
       "    </tr>\n",
       "    <tr>\n",
       "      <th>51</th>\n",
       "      <td>Yellow Bell Pepper per pc</td>\n",
       "      <td>26</td>\n",
       "      <td>1</td>\n",
       "      <td>26</td>\n",
       "      <td>pcs</td>\n",
       "    </tr>\n",
       "  </tbody>\n",
       "</table>\n",
       "</div>"
      ],
      "text/plain": [
       "                                                 item  num_units  \\\n",
       "0                            Apples Royal Gala Per Kg          8   \n",
       "1                            Apples Washington Per Kg         13   \n",
       "2                              Arbi/ Colocasia 500gms         18   \n",
       "3                                   Baby Corn 300 gms         14   \n",
       "4                            Banana Regular Per 6 Pcs         27   \n",
       "5                               Basil Leaves  100 gms         13   \n",
       "6                                    Beetroot 500 Gms         10   \n",
       "7                        Bhindi/Lady's Finger 500 Gms         49   \n",
       "8                                Bitter Gourd 300 Gms         21   \n",
       "9                                 Bottle Gourd Per Pc         39   \n",
       "10                              Brinjal Bharta Per Pc         30   \n",
       "11                             Brinjal Kateri 500 Gms         12   \n",
       "12                                  Broccoli  250 gms         21   \n",
       "13                                     Cabbage Per Pc         22   \n",
       "14                             Capsicum Green 500 gms         25   \n",
       "15                                 Cauliflower Per Pc         47   \n",
       "16                Coconut Mangalore Big Per Pc 525 gm          2   \n",
       "17                   Coconut Mangalore Medium 425 gms          6   \n",
       "18                Coconut Mangalore Small per 300 gms          7   \n",
       "19           Coriander Leaves per bunch 250 - 300 gms         37   \n",
       "20                                   Cucumber 500 Gms         47   \n",
       "21                             Curry Leaves per bunch         17   \n",
       "22                                 Drumsticks 250 gms         18   \n",
       "23                                     Garlic 250 Gms         11   \n",
       "24                        Gawar/Cluster Beans 300 gms          7   \n",
       "25                                     Ginger 250 Gms         31   \n",
       "26                               Green Chilly 200 Gms         20   \n",
       "27                                Indian Guava Per Kg         23   \n",
       "28                                Jamun 500 gm Punnet          2   \n",
       "29                         Kiwi Imported Pack of 3 Pc          8   \n",
       "30                              Lemongrass  per bunch         20   \n",
       "31                                   Lemons pack of 5         44   \n",
       "32           Methi Leaves per bunch 450 gms - 500 gms         18   \n",
       "33                              Mint Leaves per bunch         14   \n",
       "34                                     Onion Red 1 Kg         74   \n",
       "35                       Orange Imported pack of 4 Pc          4   \n",
       "36  Palak/ Spinach Leaves per bunch 400 gms - 500 gms         39   \n",
       "37                       Parwal/Pointed gourd 500 Gms         16   \n",
       "38                                        Pear per Kg         17   \n",
       "39                             Pineapple Whole per pc          6   \n",
       "40                                        Potato 1 Kg         66   \n",
       "41                                    Pumpkin 500 gms         19   \n",
       "42                                 Raw Banana 500 Gms         13   \n",
       "44                       Shepu/ Dill Leaves per bunch          5   \n",
       "45                               Sponge Gourd 250 Gms         27   \n",
       "46                     Sweet Tamarind Pack of 225 gms          1   \n",
       "47                                        Tomato 1 Kg         62   \n",
       "48                                     Tondli 300 gms         23   \n",
       "49                             VNR Guava Per Kg 3 Pcs          1   \n",
       "50                             Red Bell Pepper per pc         26   \n",
       "51                          Yellow Bell Pepper per pc         26   \n",
       "\n",
       "    qty_per_packet  total_qty     unit  \n",
       "0                1          8      kgs  \n",
       "1                1         13      kgs  \n",
       "2              500       9000      gms  \n",
       "3              300       4200      gms  \n",
       "4                6        162      pcs  \n",
       "5              100       1300      gms  \n",
       "6              500       5000      gms  \n",
       "7              500      24500      gms  \n",
       "8              300       6300      gms  \n",
       "9                1         39      pcs  \n",
       "10               1         30      pcs  \n",
       "11             500       6000      gms  \n",
       "12             250       5250      gms  \n",
       "13               1         22      pcs  \n",
       "14             500      12500      gms  \n",
       "15               1         47      pcs  \n",
       "16             525       1050      gms  \n",
       "17             425       2550      gms  \n",
       "18             300       2100      gms  \n",
       "19             300      11100      gms  \n",
       "20             500      23500      gms  \n",
       "21               1         17  bunches  \n",
       "22             250       4500      gms  \n",
       "23             250       2750      gms  \n",
       "24             300       2100      gms  \n",
       "25             250       7750      gms  \n",
       "26             200       4000      gms  \n",
       "27               1         23      kgs  \n",
       "28             500       1000      gms  \n",
       "29               3         24      pcs  \n",
       "30               1         20  bunches  \n",
       "31               5        220      kgs  \n",
       "32             500       9000      gms  \n",
       "33               1         14  bunches  \n",
       "34               1         74      kgs  \n",
       "35               4         16      pcs  \n",
       "36             500      19500      gms  \n",
       "37             500       8000      gms  \n",
       "38               1         17      kgs  \n",
       "39               1          6      pcs  \n",
       "40               1         66      kgs  \n",
       "41             500       9500      gms  \n",
       "42             500       6500      gms  \n",
       "44               1          5  bunches  \n",
       "45             250       6750      gms  \n",
       "46             225        225      gms  \n",
       "47               1         62      kgs  \n",
       "48             300       6900      gms  \n",
       "49               3          3      pcs  \n",
       "50               1         26      pcs  \n",
       "51               1         26      pcs  "
      ]
     },
     "execution_count": 28,
     "metadata": {},
     "output_type": "execute_result"
    }
   ],
   "source": [
    "cleaned_df"
   ]
  },
  {
   "cell_type": "code",
   "execution_count": 37,
   "metadata": {
    "ExecuteTime": {
     "end_time": "2020-07-18T08:52:04.777519Z",
     "start_time": "2020-07-18T08:52:04.773530Z"
    }
   },
   "outputs": [],
   "source": [
    "# all_costs['Red Bell Pepper per pc'] = 0\n",
    "# all_costs['Yellow Bell Pepper per pc'] = 0"
   ]
  },
  {
   "cell_type": "code",
   "execution_count": 38,
   "metadata": {
    "ExecuteTime": {
     "end_time": "2020-07-18T08:52:04.914182Z",
     "start_time": "2020-07-18T08:52:04.911163Z"
    }
   },
   "outputs": [],
   "source": [
    "# cleaned_df['price_per_unit'] = cleaned_df.item.apply(lambda x: all_costs[x])"
   ]
  },
  {
   "cell_type": "code",
   "execution_count": 36,
   "metadata": {
    "ExecuteTime": {
     "end_time": "2020-07-18T08:52:03.589471Z",
     "start_time": "2020-07-18T08:52:03.585479Z"
    }
   },
   "outputs": [],
   "source": [
    "# cleaned_df"
   ]
  },
  {
   "cell_type": "code",
   "execution_count": 39,
   "metadata": {
    "ExecuteTime": {
     "end_time": "2020-07-18T08:52:08.864588Z",
     "start_time": "2020-07-18T08:52:08.860596Z"
    }
   },
   "outputs": [],
   "source": [
    "# cleaned_df['total'] = cleaned_df.num_units * cleaned_df.price_per_unit"
   ]
  },
  {
   "cell_type": "code",
   "execution_count": 40,
   "metadata": {
    "ExecuteTime": {
     "end_time": "2020-07-18T08:52:10.306765Z",
     "start_time": "2020-07-18T08:52:10.302775Z"
    }
   },
   "outputs": [],
   "source": [
    "# cleaned_df.total.sum()"
   ]
  },
  {
   "cell_type": "code",
   "execution_count": null,
   "metadata": {},
   "outputs": [],
   "source": []
  }
 ],
 "metadata": {
  "kernelspec": {
   "display_name": "Python [conda env:fastaiv1] *",
   "language": "python",
   "name": "conda-env-fastaiv1-py"
  },
  "language_info": {
   "codemirror_mode": {
    "name": "ipython",
    "version": 3
   },
   "file_extension": ".py",
   "mimetype": "text/x-python",
   "name": "python",
   "nbconvert_exporter": "python",
   "pygments_lexer": "ipython3",
   "version": "3.6.9"
  },
  "toc": {
   "base_numbering": 1,
   "nav_menu": {},
   "number_sections": true,
   "sideBar": true,
   "skip_h1_title": false,
   "title_cell": "Table of Contents",
   "title_sidebar": "Contents",
   "toc_cell": false,
   "toc_position": {},
   "toc_section_display": true,
   "toc_window_display": false
  }
 },
 "nbformat": 4,
 "nbformat_minor": 2
}
