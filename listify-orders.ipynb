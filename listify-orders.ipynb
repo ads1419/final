{
 "cells": [
  {
   "cell_type": "markdown",
   "metadata": {},
   "source": [
    "# Get List of Items & Quantities from All Orders"
   ]
  },
  {
   "cell_type": "code",
   "execution_count": 1,
   "metadata": {
    "ExecuteTime": {
     "end_time": "2020-07-22T17:12:20.715295Z",
     "start_time": "2020-07-22T17:12:17.063894Z"
    }
   },
   "outputs": [],
   "source": [
    "import pandas as pd\n",
    "import re\n",
    "from pathlib import Path\n",
    "import os"
   ]
  },
  {
   "cell_type": "code",
   "execution_count": 2,
   "metadata": {
    "ExecuteTime": {
     "end_time": "2020-07-22T17:12:20.736531Z",
     "start_time": "2020-07-22T17:12:20.730255Z"
    }
   },
   "outputs": [],
   "source": [
    "OUTPUT_DIR = Path(\"C:/Playground/bhaiya-orders/outputs/\")"
   ]
  },
  {
   "cell_type": "code",
   "execution_count": 3,
   "metadata": {
    "ExecuteTime": {
     "end_time": "2020-07-22T17:12:20.881326Z",
     "start_time": "2020-07-22T17:12:20.740037Z"
    }
   },
   "outputs": [],
   "source": [
    "from ipyfilechooser import FileChooser"
   ]
  },
  {
   "cell_type": "code",
   "execution_count": 4,
   "metadata": {
    "ExecuteTime": {
     "end_time": "2020-07-22T17:12:21.028478Z",
     "start_time": "2020-07-22T17:12:20.885282Z"
    }
   },
   "outputs": [
    {
     "data": {
      "application/vnd.jupyter.widget-view+json": {
       "model_id": "bb01e2fff8e349ff92290f7565afa434",
       "version_major": 2,
       "version_minor": 0
      },
      "text/plain": [
       "FileChooser(path='C:/Playground/bhaiya-orders/', filename='', show_hidden='False')"
      ]
     },
     "metadata": {},
     "output_type": "display_data"
    }
   ],
   "source": [
    "fc = FileChooser(\"C:/Playground/bhaiya-orders/\")\n",
    "fc.use_dir_icons = True\n",
    "display(fc)"
   ]
  },
  {
   "cell_type": "code",
   "execution_count": 5,
   "metadata": {
    "ExecuteTime": {
     "end_time": "2020-07-22T17:12:29.403762Z",
     "start_time": "2020-07-22T17:12:29.398964Z"
    }
   },
   "outputs": [],
   "source": [
    "FILE = Path(fc.selected)"
   ]
  },
  {
   "cell_type": "markdown",
   "metadata": {},
   "source": [
    "Try to read valid `csv` and `xlsx` files into a dataframe `df`. "
   ]
  },
  {
   "cell_type": "code",
   "execution_count": 6,
   "metadata": {
    "ExecuteTime": {
     "end_time": "2020-07-22T17:12:29.903748Z",
     "start_time": "2020-07-22T17:12:29.739157Z"
    }
   },
   "outputs": [],
   "source": [
    "try:\n",
    "    if 'csv' in FILE.suffix: df = pd.read_csv(FILE)\n",
    "    else: df = pd.read_excel(FILE)\n",
    "except OSError:\n",
    "    print(\"Error occured, invalid file!\")"
   ]
  },
  {
   "cell_type": "code",
   "execution_count": 7,
   "metadata": {
    "ExecuteTime": {
     "end_time": "2020-07-22T17:12:29.948322Z",
     "start_time": "2020-07-22T17:12:29.906443Z"
    }
   },
   "outputs": [
    {
     "data": {
      "text/html": [
       "<div>\n",
       "<style scoped>\n",
       "    .dataframe tbody tr th:only-of-type {\n",
       "        vertical-align: middle;\n",
       "    }\n",
       "\n",
       "    .dataframe tbody tr th {\n",
       "        vertical-align: top;\n",
       "    }\n",
       "\n",
       "    .dataframe thead th {\n",
       "        text-align: right;\n",
       "    }\n",
       "</style>\n",
       "<table border=\"1\" class=\"dataframe\">\n",
       "  <thead>\n",
       "    <tr style=\"text-align: right;\">\n",
       "      <th></th>\n",
       "      <th>Submission Date</th>\n",
       "      <th>Order Number#</th>\n",
       "      <th>First Name</th>\n",
       "      <th>Last Name</th>\n",
       "      <th>Select Drop Point and Building</th>\n",
       "      <th>Any other building?</th>\n",
       "      <th>Select Wing</th>\n",
       "      <th>Flat No</th>\n",
       "      <th>Phone Number</th>\n",
       "      <th>Email</th>\n",
       "      <th>Select Delivery Date</th>\n",
       "      <th>Your Order: Products</th>\n",
       "      <th>No Label</th>\n",
       "      <th>Any pending unadjusted credit from previous orders?</th>\n",
       "    </tr>\n",
       "  </thead>\n",
       "  <tbody>\n",
       "    <tr>\n",
       "      <th>0</th>\n",
       "      <td>2020-07-22 21:52:53</td>\n",
       "      <td>BHOR-0976</td>\n",
       "      <td>Deepika</td>\n",
       "      <td>Mehta</td>\n",
       "      <td>NCP - Tower 6</td>\n",
       "      <td>NaN</td>\n",
       "      <td>B Wing</td>\n",
       "      <td>3302 b wing</td>\n",
       "      <td>9654138008</td>\n",
       "      <td>deepikamehta.16@gmail.com</td>\n",
       "      <td>Friday 24th July</td>\n",
       "      <td>Potato 1 Kg (Amount: 80.00 INR, Special Quanti...</td>\n",
       "      <td>Accepted\\n\\n1. All issues and complaints regar...</td>\n",
       "      <td>NaN</td>\n",
       "    </tr>\n",
       "    <tr>\n",
       "      <th>1</th>\n",
       "      <td>2020-07-22 21:03:50</td>\n",
       "      <td>BHOR-0975</td>\n",
       "      <td>Nisha</td>\n",
       "      <td>Narale</td>\n",
       "      <td>Cosmic - Cosmic Heights</td>\n",
       "      <td>NaN</td>\n",
       "      <td>A Wing</td>\n",
       "      <td>2505</td>\n",
       "      <td>9930390994</td>\n",
       "      <td>nishashetti@gmail.com</td>\n",
       "      <td>Friday 24th July</td>\n",
       "      <td>Baby Potato 500 Gms (Amount: 20.00 INR, Specia...</td>\n",
       "      <td>Accepted\\n\\n1. All issues and complaints regar...</td>\n",
       "      <td>NaN</td>\n",
       "    </tr>\n",
       "  </tbody>\n",
       "</table>\n",
       "</div>"
      ],
      "text/plain": [
       "      Submission Date Order Number# First Name Last Name  \\\n",
       "0 2020-07-22 21:52:53     BHOR-0976    Deepika     Mehta   \n",
       "1 2020-07-22 21:03:50     BHOR-0975      Nisha    Narale   \n",
       "\n",
       "  Select Drop Point and Building  Any other building? Select Wing  \\\n",
       "0                  NCP - Tower 6                  NaN      B Wing   \n",
       "1        Cosmic - Cosmic Heights                  NaN      A Wing   \n",
       "\n",
       "       Flat No  Phone Number                      Email Select Delivery Date  \\\n",
       "0  3302 b wing    9654138008  deepikamehta.16@gmail.com     Friday 24th July   \n",
       "1         2505    9930390994      nishashetti@gmail.com     Friday 24th July   \n",
       "\n",
       "                                Your Order: Products  \\\n",
       "0  Potato 1 Kg (Amount: 80.00 INR, Special Quanti...   \n",
       "1  Baby Potato 500 Gms (Amount: 20.00 INR, Specia...   \n",
       "\n",
       "                                            No Label  \\\n",
       "0  Accepted\\n\\n1. All issues and complaints regar...   \n",
       "1  Accepted\\n\\n1. All issues and complaints regar...   \n",
       "\n",
       "   Any pending unadjusted credit from previous orders?  \n",
       "0                                                NaN    \n",
       "1                                                NaN    "
      ]
     },
     "execution_count": 7,
     "metadata": {},
     "output_type": "execute_result"
    }
   ],
   "source": [
    "df.head(2)"
   ]
  },
  {
   "cell_type": "markdown",
   "metadata": {},
   "source": [
    "## Identify the Relevant Columns"
   ]
  },
  {
   "cell_type": "markdown",
   "metadata": {},
   "source": [
    "Pick out the relevant column for orders.\n",
    "\n",
    "**Assumptions:** \n",
    "1. If a column header contains the substring `\"Your Order\"`, it is deemed to be the required column. Take care that no other colummn contains the substring.\n",
    "2. \"Token\": Token Number\n",
    "3. \"Flat\": Flat Number"
   ]
  },
  {
   "cell_type": "code",
   "execution_count": 8,
   "metadata": {
    "ExecuteTime": {
     "end_time": "2020-07-22T17:12:30.395539Z",
     "start_time": "2020-07-22T17:12:30.391423Z"
    }
   },
   "outputs": [],
   "source": [
    "for col in df.columns:\n",
    "    if \"Your Order\" in col:\n",
    "        your_order = col\n",
    "        \n",
    "    if \"token\" in col.lower():\n",
    "        token = col\n",
    "        \n",
    "    if \"flat\" in col.lower():\n",
    "        flat = col"
   ]
  },
  {
   "cell_type": "markdown",
   "metadata": {},
   "source": [
    "## Prepare Keys"
   ]
  },
  {
   "cell_type": "markdown",
   "metadata": {},
   "source": [
    "Pick out all the possible unique orders from the given spreadsheet.\n",
    "\n",
    "**Assumptions**: \n",
    "1. Every order for a particular user is separated by a closing paranthesis `)`.\n",
    "2. The key-value pair in an item is ordered as `key (value)`. \n",
    "3. The last item in a list of orders is always the column describing total cost."
   ]
  },
  {
   "cell_type": "code",
   "execution_count": 9,
   "metadata": {
    "ExecuteTime": {
     "end_time": "2020-07-22T17:12:30.928784Z",
     "start_time": "2020-07-22T17:12:30.921771Z"
    }
   },
   "outputs": [],
   "source": [
    "k = []\n",
    "for order in df[your_order]:\n",
    "    split = order.split(')')[:-1] # last item is always total cost\n",
    "    split = [s.replace('\\n', '') for s in split] # remove newlines if present\n",
    "    k.append(split)"
   ]
  },
  {
   "cell_type": "code",
   "execution_count": 10,
   "metadata": {
    "ExecuteTime": {
     "end_time": "2020-07-22T17:12:31.106746Z",
     "start_time": "2020-07-22T17:12:31.099766Z"
    }
   },
   "outputs": [],
   "source": [
    "def get_qty(txt):\n",
    "    \n",
    "    \"\"\"\n",
    "        Returns the Special Quantity key for a given order. \n",
    "            Sample input string: '...no. of 500 gm packets required: 1)'\n",
    "            Returns: 1\n",
    "    \"\"\"\n",
    "    \n",
    "    match = re.search(\": ([0-9]+?)\\)\", txt)\n",
    "    if match:\n",
    "        return int(match.group(1))\n",
    "\n",
    "def get_price(txt):\n",
    "    \n",
    "    \"\"\"\n",
    "        Returns the Special Quantity key for a given order. \n",
    "            Sample input string: '...no. of 500 gm packets required: 1)'\n",
    "            Returns: 1\n",
    "    \"\"\"\n",
    "    \n",
    "    match = re.search(\"Amount: (.*?) INR\", txt)\n",
    "    if match:\n",
    "        return (match.group(1))"
   ]
  },
  {
   "cell_type": "code",
   "execution_count": 11,
   "metadata": {
    "ExecuteTime": {
     "end_time": "2020-07-22T17:12:31.336056Z",
     "start_time": "2020-07-22T17:12:31.332065Z"
    }
   },
   "outputs": [],
   "source": [
    "all_costs = {}"
   ]
  },
  {
   "cell_type": "code",
   "execution_count": 12,
   "metadata": {
    "ExecuteTime": {
     "end_time": "2020-07-22T17:12:31.449869Z",
     "start_time": "2020-07-22T17:12:31.427930Z"
    }
   },
   "outputs": [],
   "source": [
    "items = []\n",
    "for order in k:\n",
    "    for item in order:\n",
    "        if len(item.split('(')) > 1: \n",
    "            items.append(item.split('(')[0].strip())\n",
    "            all_costs[item.split('(')[0].strip()] = float(get_price(item).replace(',', '')) / get_qty(item+')')"
   ]
  },
  {
   "cell_type": "code",
   "execution_count": 13,
   "metadata": {
    "ExecuteTime": {
     "end_time": "2020-07-22T17:12:31.602810Z",
     "start_time": "2020-07-22T17:12:31.598769Z"
    }
   },
   "outputs": [],
   "source": [
    "all_items = sorted(list(set(items)))"
   ]
  },
  {
   "cell_type": "code",
   "execution_count": 14,
   "metadata": {
    "ExecuteTime": {
     "end_time": "2020-07-22T17:12:31.776111Z",
     "start_time": "2020-07-22T17:12:31.770127Z"
    }
   },
   "outputs": [
    {
     "data": {
      "text/plain": [
       "['Apples Royal Gala Per Kg',\n",
       " 'Apples Washington Per Kg',\n",
       " 'Arbi Leaves Pack of 5 leaves',\n",
       " 'Arbi/ Colocasia 500gms',\n",
       " 'Baby Corn 300 gms',\n",
       " 'Baby Potato 500 Gms',\n",
       " 'Banana Elaichi Per Dozen',\n",
       " 'Banana Regular Per 6 Pcs',\n",
       " 'Basil Leaves  200 gms',\n",
       " 'Beetroot 500 Gms',\n",
       " \"Bhindi/Lady's Finger 500 Gms\",\n",
       " 'Bitter Gourd 300 Gms',\n",
       " 'Bottle Gourd Per Pc',\n",
       " 'Brinjal Bharta Per Pc',\n",
       " 'Brinjal Kateri 500 Gms',\n",
       " 'Broccoli  250 gms',\n",
       " 'Button Mushroom 200 gms Pack',\n",
       " 'Cabbage Per Pc',\n",
       " 'Capsicum Green 500 gms',\n",
       " 'Cauliflower Per Pc',\n",
       " 'Celery 200 Gms',\n",
       " 'Cherry Tomato 250 Gms',\n",
       " 'Coconut Mangalore Big Per Pc 525 gm',\n",
       " 'Coconut Mangalore Medium 425 gms',\n",
       " 'Coconut Mangalore Small per 300 gms',\n",
       " 'Coriander Leaves per bunch 250 - 300 gms',\n",
       " 'Cucumber 500 Gms',\n",
       " 'Curry Leaves per bunch',\n",
       " 'Garlic 250 Gms',\n",
       " 'Gawar/Cluster Beans 300 gms',\n",
       " 'Ginger 250 Gms',\n",
       " 'Green Chilly 200 Gms',\n",
       " 'Green Zucchini Per Pc',\n",
       " 'Kiwi Imported Pack of 3 Pc',\n",
       " 'Lemongrass  per bunch',\n",
       " 'Lemons pack of 5',\n",
       " 'Lettuce 250 gms',\n",
       " 'Methi Leaves per bunch 450 gms - 500 gms',\n",
       " 'Mint Leaves per bunch',\n",
       " 'Mosambi Per Kg',\n",
       " 'Onion Red 1 Kg',\n",
       " 'Orange Imported pack of 4 Pc',\n",
       " 'Palak/ Spinach Leaves per bunch 400 gms - 500 gms',\n",
       " 'Parsley 100 Gms',\n",
       " 'Parwal/Pointed gourd 500 Gms',\n",
       " 'Pineapple Whole per pc',\n",
       " 'Potato 1 Kg',\n",
       " 'Pumpkin 500 gms',\n",
       " 'Raw Banana 500 Gms',\n",
       " 'Red & Yellow Bell Pepper 2 each in a pack',\n",
       " 'Shepu/ Dill Leaves per bunch',\n",
       " 'Sitaphal Per Kg',\n",
       " 'Sponge Gourd 500 Gms',\n",
       " 'Spring Onions per bunch',\n",
       " 'Sweet Corn Per Pack of 2',\n",
       " 'Sweet Tamarind Pack of 225 gms',\n",
       " 'Tomato 1 Kg',\n",
       " 'Tondli 300 gms',\n",
       " 'VNR Guava Per Kg 3 Pcs',\n",
       " 'Yellow Zucchini Per Pc']"
      ]
     },
     "execution_count": 14,
     "metadata": {},
     "output_type": "execute_result"
    }
   ],
   "source": [
    "all_items"
   ]
  },
  {
   "cell_type": "markdown",
   "metadata": {},
   "source": [
    "## Prepare Count Dictionary"
   ]
  },
  {
   "cell_type": "markdown",
   "metadata": {},
   "source": [
    "Count total orders for a particular item in the given spreadsheet.\n",
    "\n",
    "**Assumptions**:\n",
    "\n",
    "1. The value count for a particular order is sandwiched as an `integer` as `: INT)`. For example, _'Potato 1 Kg (Amount: 36.00 INR, Special Quantity: 10)'_"
   ]
  },
  {
   "cell_type": "code",
   "execution_count": 15,
   "metadata": {
    "ExecuteTime": {
     "end_time": "2020-07-22T17:12:32.437000Z",
     "start_time": "2020-07-22T17:12:32.433045Z"
    }
   },
   "outputs": [],
   "source": [
    "# init order dictionary\n",
    "all_orders = {}\n",
    "for item in all_items:\n",
    "    all_orders[item] = 0"
   ]
  },
  {
   "cell_type": "code",
   "execution_count": 16,
   "metadata": {
    "ExecuteTime": {
     "end_time": "2020-07-22T17:12:32.692135Z",
     "start_time": "2020-07-22T17:12:32.676738Z"
    }
   },
   "outputs": [],
   "source": [
    "for order in k:\n",
    "    for i in order:\n",
    "        i = i + ')'\n",
    "        sp1 = i.split(\"(\")\n",
    "        if len(sp1) < 2:\n",
    "            continue\n",
    "        \n",
    "        key = sp1[0].strip()\n",
    "        val = get_qty(sp1[1])\n",
    "        if(key[:3] == \"VNR\"): val = 1\n",
    "#         if(len(key) < 3): print(order)\n",
    "        all_orders[key] += val"
   ]
  },
  {
   "cell_type": "markdown",
   "metadata": {},
   "source": [
    "## Create DataFrame"
   ]
  },
  {
   "cell_type": "code",
   "execution_count": 17,
   "metadata": {
    "ExecuteTime": {
     "end_time": "2020-07-22T17:12:33.115168Z",
     "start_time": "2020-07-22T17:12:33.109143Z"
    }
   },
   "outputs": [],
   "source": [
    "# create empty dataframe\n",
    "cleaned_df = pd.DataFrame.from_dict(all_orders, orient=\"index\")\n",
    "cleaned_df.reset_index(inplace=True)\n",
    "cleaned_df.columns = [\"item\", \"num_units\"]"
   ]
  },
  {
   "cell_type": "markdown",
   "metadata": {},
   "source": [
    "### Quantity Per Packet"
   ]
  },
  {
   "cell_type": "markdown",
   "metadata": {},
   "source": [
    "Pull out the quantity in each order.\n",
    "\n",
    "**Assumptions**:\n",
    "1. If integers are present in the key, then the last integer value is chosen as the packet size for that particular order. For example, *'Tondli 300-400 gms'* returns a packet size of 400 (unit is extracted later)."
   ]
  },
  {
   "cell_type": "code",
   "execution_count": 18,
   "metadata": {
    "ExecuteTime": {
     "end_time": "2020-07-22T17:12:33.921159Z",
     "start_time": "2020-07-22T17:12:33.915175Z"
    }
   },
   "outputs": [],
   "source": [
    "def extract_num(txt):\n",
    "    \n",
    "    \"\"\"\n",
    "        Searches a string and returns the last number found, if present. \n",
    "        Otherwise return 1.\n",
    "        Use case: For an item key such as 'Tondli 300 gms ', return 300 (to calculate total qty required)\n",
    "    \"\"\"\n",
    "    \n",
    "    match = re.findall(\"([0-9]+)\", txt)\n",
    "    if match:\n",
    "        return int(match[-1])\n",
    "    else:\n",
    "        return 1"
   ]
  },
  {
   "cell_type": "code",
   "execution_count": 19,
   "metadata": {
    "ExecuteTime": {
     "end_time": "2020-07-22T17:12:34.187754Z",
     "start_time": "2020-07-22T17:12:34.181766Z"
    }
   },
   "outputs": [],
   "source": [
    "# find quantity per item (amount of stuff in one packet)\n",
    "packet = []\n",
    "for item in cleaned_df.item:\n",
    "    packet.append(extract_num(item))\n",
    "cleaned_df[\"qty_per_packet\"] = packet"
   ]
  },
  {
   "cell_type": "markdown",
   "metadata": {},
   "source": [
    "### Total Quantity to be Purchased"
   ]
  },
  {
   "cell_type": "markdown",
   "metadata": {
    "ExecuteTime": {
     "end_time": "2020-06-27T11:11:10.332055Z",
     "start_time": "2020-06-27T11:11:10.325072Z"
    }
   },
   "source": [
    "Self explanatory. `(Total quantity to be purchased) = (Size of one packet) * (Total number of packets ordered)`"
   ]
  },
  {
   "cell_type": "code",
   "execution_count": 20,
   "metadata": {
    "ExecuteTime": {
     "end_time": "2020-07-22T17:12:35.221272Z",
     "start_time": "2020-07-22T17:12:35.083368Z"
    }
   },
   "outputs": [],
   "source": [
    "# total quantity = #units ordered * qty in 1 unit\n",
    "cleaned_df[\"total_qty\"] = cleaned_df.num_units * cleaned_df.qty_per_packet"
   ]
  },
  {
   "cell_type": "markdown",
   "metadata": {},
   "source": [
    "### Unit of Measurement"
   ]
  },
  {
   "cell_type": "markdown",
   "metadata": {},
   "source": [
    "Extract unit of measurement for particular item.\n",
    "\n",
    "**Approach**:\n",
    "1. If ` gm` is in item: grams\n",
    "2. Else, if ` pc` is in item: pieces\n",
    "3. Else, if ` bunch` is in item: bunches\n",
    "4. Default to kilograms"
   ]
  },
  {
   "cell_type": "code",
   "execution_count": 21,
   "metadata": {
    "ExecuteTime": {
     "end_time": "2020-07-22T17:12:35.698718Z",
     "start_time": "2020-07-22T17:12:35.693730Z"
    }
   },
   "outputs": [],
   "source": [
    "def get_unit(txt):\n",
    "    \"\"\"\n",
    "        Gets unit from an item string.\n",
    "        Assumption: standard occurence of units all across the board. \n",
    "    \"\"\"\n",
    "    txt = txt.lower()\n",
    "    if txt.find('gm') != -1: unit = 'gms'\n",
    "    elif txt.find(' pc') != -1: unit = 'pcs'\n",
    "    elif txt.find(' bunch') != -1: unit = 'bunches'\n",
    "    else: unit = 'kgs'\n",
    "    return unit"
   ]
  },
  {
   "cell_type": "code",
   "execution_count": 22,
   "metadata": {
    "ExecuteTime": {
     "end_time": "2020-07-22T17:12:35.937782Z",
     "start_time": "2020-07-22T17:12:35.933764Z"
    }
   },
   "outputs": [],
   "source": [
    "# extract qty unit from item\n",
    "cleaned_df[\"unit\"] = cleaned_df.item.apply(get_unit)"
   ]
  },
  {
   "cell_type": "markdown",
   "metadata": {
    "ExecuteTime": {
     "end_time": "2020-06-27T10:44:16.810777Z",
     "start_time": "2020-06-27T10:44:16.806761Z"
    }
   },
   "source": [
    "### Handling the Curious Case of Bell Peppers"
   ]
  },
  {
   "cell_type": "markdown",
   "metadata": {},
   "source": [
    "The key `'Red & Yellow Bell Pepper 2 each in a pack'` implies two yellow bell peppers and two red bell peppers.\n",
    "\n",
    "**Approach**:\n",
    "\n",
    "1. Replace `x` units ordered with `2x` units each of '`Red Bell Pepper per pc`' and '`Yellow Bell Pepper per pc`'."
   ]
  },
  {
   "cell_type": "code",
   "execution_count": 23,
   "metadata": {
    "ExecuteTime": {
     "end_time": "2020-07-22T17:12:36.748022Z",
     "start_time": "2020-07-22T17:12:36.716792Z"
    }
   },
   "outputs": [],
   "source": [
    "# manually handle bell peppers\n",
    "\n",
    "for index, row in cleaned_df.iterrows():\n",
    "    if row[\"item\"] == 'Red & Yellow Bell Pepper 2 each in a pack':\n",
    "\n",
    "        # add red bell peppers\n",
    "        cleaned_df = cleaned_df.append({\"item\": \"Red Bell Pepper per pc\",\n",
    "                                        \"num_units\": row[\"num_units\"]*2,\n",
    "                                        \"qty_per_packet\": 1,\n",
    "                                        \"total_qty\": row[\"num_units\"]*2,\n",
    "                                        \"unit\": \"pcs\"}, ignore_index=True)\n",
    "\n",
    "        # add yellow bell peppers\n",
    "        cleaned_df = cleaned_df.append({\"item\": \"Yellow Bell Pepper per pc\",\n",
    "                                        \"num_units\": row[\"num_units\"]*2,\n",
    "                                        \"qty_per_packet\": 1,\n",
    "                                        \"total_qty\": row[\"num_units\"]*2,\n",
    "                                        \"unit\": \"pcs\"}, ignore_index=True)\n",
    "\n",
    "        # remove packet entry\n",
    "        cleaned_df.drop(index=index, inplace=True)"
   ]
  },
  {
   "cell_type": "markdown",
   "metadata": {},
   "source": [
    "## Save to Disk!"
   ]
  },
  {
   "cell_type": "markdown",
   "metadata": {},
   "source": [
    "Save file to disk as `listified-filename.csv`"
   ]
  },
  {
   "cell_type": "code",
   "execution_count": 24,
   "metadata": {
    "ExecuteTime": {
     "end_time": "2020-07-22T17:12:37.668776Z",
     "start_time": "2020-07-22T17:12:37.658803Z"
    }
   },
   "outputs": [],
   "source": [
    "save_pth = OUTPUT_DIR/FILE.stem\n",
    "os.makedirs(save_pth, exist_ok=True)"
   ]
  },
  {
   "cell_type": "code",
   "execution_count": 25,
   "metadata": {
    "ExecuteTime": {
     "end_time": "2020-07-22T17:12:38.777786Z",
     "start_time": "2020-07-22T17:12:38.773796Z"
    }
   },
   "outputs": [],
   "source": [
    "save_pth = save_pth/('listified-' + str(FILE.stem) + '.csv')"
   ]
  },
  {
   "cell_type": "code",
   "execution_count": 26,
   "metadata": {
    "ExecuteTime": {
     "end_time": "2020-07-22T17:12:39.420134Z",
     "start_time": "2020-07-22T17:12:39.402069Z"
    }
   },
   "outputs": [],
   "source": [
    "cleaned_df.to_csv(save_pth, index=False)"
   ]
  },
  {
   "cell_type": "code",
   "execution_count": 27,
   "metadata": {
    "ExecuteTime": {
     "end_time": "2020-07-22T17:12:40.244972Z",
     "start_time": "2020-07-22T17:12:40.230266Z"
    }
   },
   "outputs": [
    {
     "data": {
      "text/html": [
       "<div>\n",
       "<style scoped>\n",
       "    .dataframe tbody tr th:only-of-type {\n",
       "        vertical-align: middle;\n",
       "    }\n",
       "\n",
       "    .dataframe tbody tr th {\n",
       "        vertical-align: top;\n",
       "    }\n",
       "\n",
       "    .dataframe thead th {\n",
       "        text-align: right;\n",
       "    }\n",
       "</style>\n",
       "<table border=\"1\" class=\"dataframe\">\n",
       "  <thead>\n",
       "    <tr style=\"text-align: right;\">\n",
       "      <th></th>\n",
       "      <th>item</th>\n",
       "      <th>num_units</th>\n",
       "      <th>qty_per_packet</th>\n",
       "      <th>total_qty</th>\n",
       "      <th>unit</th>\n",
       "    </tr>\n",
       "  </thead>\n",
       "  <tbody>\n",
       "    <tr>\n",
       "      <th>0</th>\n",
       "      <td>Apples Royal Gala Per Kg</td>\n",
       "      <td>22</td>\n",
       "      <td>1</td>\n",
       "      <td>22</td>\n",
       "      <td>kgs</td>\n",
       "    </tr>\n",
       "    <tr>\n",
       "      <th>1</th>\n",
       "      <td>Apples Washington Per Kg</td>\n",
       "      <td>18</td>\n",
       "      <td>1</td>\n",
       "      <td>18</td>\n",
       "      <td>kgs</td>\n",
       "    </tr>\n",
       "    <tr>\n",
       "      <th>2</th>\n",
       "      <td>Arbi Leaves Pack of 5 leaves</td>\n",
       "      <td>33</td>\n",
       "      <td>5</td>\n",
       "      <td>165</td>\n",
       "      <td>kgs</td>\n",
       "    </tr>\n",
       "    <tr>\n",
       "      <th>3</th>\n",
       "      <td>Arbi/ Colocasia 500gms</td>\n",
       "      <td>23</td>\n",
       "      <td>500</td>\n",
       "      <td>11500</td>\n",
       "      <td>gms</td>\n",
       "    </tr>\n",
       "    <tr>\n",
       "      <th>4</th>\n",
       "      <td>Baby Corn 300 gms</td>\n",
       "      <td>25</td>\n",
       "      <td>300</td>\n",
       "      <td>7500</td>\n",
       "      <td>gms</td>\n",
       "    </tr>\n",
       "    <tr>\n",
       "      <th>...</th>\n",
       "      <td>...</td>\n",
       "      <td>...</td>\n",
       "      <td>...</td>\n",
       "      <td>...</td>\n",
       "      <td>...</td>\n",
       "    </tr>\n",
       "    <tr>\n",
       "      <th>57</th>\n",
       "      <td>Tondli 300 gms</td>\n",
       "      <td>40</td>\n",
       "      <td>300</td>\n",
       "      <td>12000</td>\n",
       "      <td>gms</td>\n",
       "    </tr>\n",
       "    <tr>\n",
       "      <th>58</th>\n",
       "      <td>VNR Guava Per Kg 3 Pcs</td>\n",
       "      <td>23</td>\n",
       "      <td>3</td>\n",
       "      <td>69</td>\n",
       "      <td>pcs</td>\n",
       "    </tr>\n",
       "    <tr>\n",
       "      <th>59</th>\n",
       "      <td>Yellow Zucchini Per Pc</td>\n",
       "      <td>24</td>\n",
       "      <td>1</td>\n",
       "      <td>24</td>\n",
       "      <td>pcs</td>\n",
       "    </tr>\n",
       "    <tr>\n",
       "      <th>60</th>\n",
       "      <td>Red Bell Pepper per pc</td>\n",
       "      <td>62</td>\n",
       "      <td>1</td>\n",
       "      <td>62</td>\n",
       "      <td>pcs</td>\n",
       "    </tr>\n",
       "    <tr>\n",
       "      <th>61</th>\n",
       "      <td>Yellow Bell Pepper per pc</td>\n",
       "      <td>62</td>\n",
       "      <td>1</td>\n",
       "      <td>62</td>\n",
       "      <td>pcs</td>\n",
       "    </tr>\n",
       "  </tbody>\n",
       "</table>\n",
       "<p>61 rows × 5 columns</p>\n",
       "</div>"
      ],
      "text/plain": [
       "                            item  num_units  qty_per_packet  total_qty unit\n",
       "0       Apples Royal Gala Per Kg         22               1         22  kgs\n",
       "1       Apples Washington Per Kg         18               1         18  kgs\n",
       "2   Arbi Leaves Pack of 5 leaves         33               5        165  kgs\n",
       "3         Arbi/ Colocasia 500gms         23             500      11500  gms\n",
       "4              Baby Corn 300 gms         25             300       7500  gms\n",
       "..                           ...        ...             ...        ...  ...\n",
       "57                Tondli 300 gms         40             300      12000  gms\n",
       "58        VNR Guava Per Kg 3 Pcs         23               3         69  pcs\n",
       "59        Yellow Zucchini Per Pc         24               1         24  pcs\n",
       "60        Red Bell Pepper per pc         62               1         62  pcs\n",
       "61     Yellow Bell Pepper per pc         62               1         62  pcs\n",
       "\n",
       "[61 rows x 5 columns]"
      ]
     },
     "execution_count": 27,
     "metadata": {},
     "output_type": "execute_result"
    }
   ],
   "source": [
    "cleaned_df"
   ]
  },
  {
   "cell_type": "code",
   "execution_count": 37,
   "metadata": {
    "ExecuteTime": {
     "end_time": "2020-07-18T08:52:04.777519Z",
     "start_time": "2020-07-18T08:52:04.773530Z"
    }
   },
   "outputs": [],
   "source": [
    "# all_costs['Red Bell Pepper per pc'] = 0\n",
    "# all_costs['Yellow Bell Pepper per pc'] = 0"
   ]
  },
  {
   "cell_type": "code",
   "execution_count": 38,
   "metadata": {
    "ExecuteTime": {
     "end_time": "2020-07-18T08:52:04.914182Z",
     "start_time": "2020-07-18T08:52:04.911163Z"
    }
   },
   "outputs": [],
   "source": [
    "# cleaned_df['price_per_unit'] = cleaned_df.item.apply(lambda x: all_costs[x])"
   ]
  },
  {
   "cell_type": "code",
   "execution_count": 36,
   "metadata": {
    "ExecuteTime": {
     "end_time": "2020-07-18T08:52:03.589471Z",
     "start_time": "2020-07-18T08:52:03.585479Z"
    }
   },
   "outputs": [],
   "source": [
    "# cleaned_df"
   ]
  },
  {
   "cell_type": "code",
   "execution_count": 39,
   "metadata": {
    "ExecuteTime": {
     "end_time": "2020-07-18T08:52:08.864588Z",
     "start_time": "2020-07-18T08:52:08.860596Z"
    }
   },
   "outputs": [],
   "source": [
    "# cleaned_df['total'] = cleaned_df.num_units * cleaned_df.price_per_unit"
   ]
  },
  {
   "cell_type": "code",
   "execution_count": 40,
   "metadata": {
    "ExecuteTime": {
     "end_time": "2020-07-18T08:52:10.306765Z",
     "start_time": "2020-07-18T08:52:10.302775Z"
    }
   },
   "outputs": [],
   "source": [
    "# cleaned_df.total.sum()"
   ]
  },
  {
   "cell_type": "code",
   "execution_count": null,
   "metadata": {},
   "outputs": [],
   "source": []
  }
 ],
 "metadata": {
  "kernelspec": {
   "display_name": "Python [conda env:fastaiv1] *",
   "language": "python",
   "name": "conda-env-fastaiv1-py"
  },
  "language_info": {
   "codemirror_mode": {
    "name": "ipython",
    "version": 3
   },
   "file_extension": ".py",
   "mimetype": "text/x-python",
   "name": "python",
   "nbconvert_exporter": "python",
   "pygments_lexer": "ipython3",
   "version": "3.6.9"
  },
  "toc": {
   "base_numbering": 1,
   "nav_menu": {},
   "number_sections": true,
   "sideBar": true,
   "skip_h1_title": false,
   "title_cell": "Table of Contents",
   "title_sidebar": "Contents",
   "toc_cell": false,
   "toc_position": {},
   "toc_section_display": true,
   "toc_window_display": false
  }
 },
 "nbformat": 4,
 "nbformat_minor": 2
}
