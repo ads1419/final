{
 "cells": [
  {
   "cell_type": "markdown",
   "metadata": {},
   "source": [
    "# Get List of Items & Quantities from All Orders"
   ]
  },
  {
   "cell_type": "code",
   "execution_count": 1,
   "metadata": {
    "ExecuteTime": {
     "end_time": "2020-06-27T11:22:07.522768Z",
     "start_time": "2020-06-27T11:22:06.813168Z"
    }
   },
   "outputs": [],
   "source": [
    "import pandas as pd\n",
    "import re\n",
    "from pathlib import Path"
   ]
  },
  {
   "cell_type": "code",
   "execution_count": 47,
   "metadata": {
    "ExecuteTime": {
     "end_time": "2020-06-27T11:27:01.285454Z",
     "start_time": "2020-06-27T11:27:01.280469Z"
    }
   },
   "outputs": [],
   "source": [
    "FILE = Path(\"C:/Playground/bhaiya-orders/June_26th_Bhor_Farms_-_Fruits_Vegetable_Order_Fo.xlsx\")"
   ]
  },
  {
   "cell_type": "markdown",
   "metadata": {},
   "source": [
    "Try to read valid `csv` and `xlsx` files into a dataframe `df`. "
   ]
  },
  {
   "cell_type": "code",
   "execution_count": 48,
   "metadata": {
    "ExecuteTime": {
     "end_time": "2020-06-27T11:27:02.488974Z",
     "start_time": "2020-06-27T11:27:02.451100Z"
    }
   },
   "outputs": [],
   "source": [
    "try:\n",
    "    if 'csv' in FILE.suffix: df = pd.read_csv(FILE)\n",
    "    else: df = pd.read_excel(FILE)\n",
    "except OSError:\n",
    "    print(\"Error occured, invalid file!\")"
   ]
  },
  {
   "cell_type": "markdown",
   "metadata": {},
   "source": [
    "## Identify the Orders Column"
   ]
  },
  {
   "cell_type": "markdown",
   "metadata": {},
   "source": [
    "Pick out the relevant column for orders.\n",
    "\n",
    "**Assumptions:** \n",
    "1. If a column header contains the substring `\"Your Order\"`, it is deemed to be the required column. Take care that no other colummn contains the substring."
   ]
  },
  {
   "cell_type": "code",
   "execution_count": 49,
   "metadata": {
    "ExecuteTime": {
     "end_time": "2020-06-27T11:27:04.204327Z",
     "start_time": "2020-06-27T11:27:04.200360Z"
    }
   },
   "outputs": [],
   "source": [
    "for col in df.columns:\n",
    "    if \"Your Order\" in col:\n",
    "        your_order = col"
   ]
  },
  {
   "cell_type": "markdown",
   "metadata": {},
   "source": [
    "## Prepare Keys"
   ]
  },
  {
   "cell_type": "markdown",
   "metadata": {},
   "source": [
    "Pick out all the possible unique orders from the given spreadsheet.\n",
    "\n",
    "**Assumptions**: \n",
    "1. Every order for a particular user is separated by a closing paranthesis `)`.\n",
    "2. The key-value pair in an item is ordered as `key (value)`. \n",
    "3. The last item in a list of orders is always the column describing total cost."
   ]
  },
  {
   "cell_type": "code",
   "execution_count": 50,
   "metadata": {
    "ExecuteTime": {
     "end_time": "2020-06-27T11:27:05.093921Z",
     "start_time": "2020-06-27T11:27:05.088935Z"
    }
   },
   "outputs": [],
   "source": [
    "k = []\n",
    "for order in df[your_order]:\n",
    "    split = order.split(')')[:-1] # last item is always total cost\n",
    "    split = [s.replace('\\n', '') for s in split] # remove newlines if present\n",
    "    k.append(split)"
   ]
  },
  {
   "cell_type": "code",
   "execution_count": 51,
   "metadata": {
    "ExecuteTime": {
     "end_time": "2020-06-27T11:27:05.289684Z",
     "start_time": "2020-06-27T11:27:05.284697Z"
    }
   },
   "outputs": [],
   "source": [
    "items = []\n",
    "for order in k:\n",
    "    for item in order:\n",
    "        if len(item.split('(')) > 1: items.append(item.split('(')[0].strip())"
   ]
  },
  {
   "cell_type": "code",
   "execution_count": 52,
   "metadata": {
    "ExecuteTime": {
     "end_time": "2020-06-27T11:27:05.497405Z",
     "start_time": "2020-06-27T11:27:05.493391Z"
    }
   },
   "outputs": [],
   "source": [
    "all_items = sorted(list(set(items)))"
   ]
  },
  {
   "cell_type": "markdown",
   "metadata": {},
   "source": [
    "## Prepare Count Dictionary"
   ]
  },
  {
   "cell_type": "markdown",
   "metadata": {},
   "source": [
    "Count total orders for a particular item in the given spreadsheet.\n",
    "\n",
    "**Assumptions**:\n",
    "\n",
    "1. The value count for a particular order is sandwiched as an `integer` as `: INT)`. For example, _'Potato 1 Kg (Amount: 36.00 INR, Special Quantity: 10)'_"
   ]
  },
  {
   "cell_type": "code",
   "execution_count": 53,
   "metadata": {
    "ExecuteTime": {
     "end_time": "2020-06-27T11:27:06.116424Z",
     "start_time": "2020-06-27T11:27:06.111438Z"
    }
   },
   "outputs": [],
   "source": [
    "# init order dictionary\n",
    "all_orders = {}\n",
    "for item in all_items:\n",
    "    all_orders[item] = 0"
   ]
  },
  {
   "cell_type": "code",
   "execution_count": 54,
   "metadata": {
    "ExecuteTime": {
     "end_time": "2020-06-27T11:27:06.323017Z",
     "start_time": "2020-06-27T11:27:06.318031Z"
    }
   },
   "outputs": [],
   "source": [
    "def get_qty(txt):\n",
    "    \n",
    "    \"\"\"\n",
    "        Returns the Special Quantity key for a given order. \n",
    "            Sample input string: '...no. of 500 gm packets required: 1)'\n",
    "            Returns: 1\n",
    "    \"\"\"\n",
    "    \n",
    "    match = re.search(\": ([0-9]+?)\\)\", txt)\n",
    "    if match:\n",
    "        return int(match.group(1))"
   ]
  },
  {
   "cell_type": "code",
   "execution_count": 55,
   "metadata": {
    "ExecuteTime": {
     "end_time": "2020-06-27T11:27:06.513510Z",
     "start_time": "2020-06-27T11:27:06.507569Z"
    }
   },
   "outputs": [],
   "source": [
    "for order in k:\n",
    "    for i in order:\n",
    "        i = i + ')'\n",
    "        sp1 = i.split(\"(\")\n",
    "        if len(sp1) < 2:\n",
    "            continue\n",
    "        \n",
    "        key = sp1[0].strip()\n",
    "        val = get_qty(sp1[1])\n",
    "        all_orders[key] += val"
   ]
  },
  {
   "cell_type": "markdown",
   "metadata": {},
   "source": [
    "## Create DataFrame"
   ]
  },
  {
   "cell_type": "code",
   "execution_count": 56,
   "metadata": {
    "ExecuteTime": {
     "end_time": "2020-06-27T11:27:06.882302Z",
     "start_time": "2020-06-27T11:27:06.876341Z"
    }
   },
   "outputs": [],
   "source": [
    "# create empty dataframe\n",
    "cleaned_df = pd.DataFrame.from_dict(all_orders, orient=\"index\")\n",
    "cleaned_df.reset_index(inplace=True)\n",
    "cleaned_df.columns = [\"item\", \"num_units\"]"
   ]
  },
  {
   "cell_type": "markdown",
   "metadata": {},
   "source": [
    "### Quantity Per Packet"
   ]
  },
  {
   "cell_type": "markdown",
   "metadata": {},
   "source": [
    "Pull out the quantity in each order.\n",
    "\n",
    "**Assumptions**:\n",
    "1. If integers are present in the key, then the last integer value is chosen as the packet size for that particular order. For example, *'Tondli 300-400 gms'* returns a packet size of 400 (unit is extracted later)."
   ]
  },
  {
   "cell_type": "code",
   "execution_count": 57,
   "metadata": {
    "ExecuteTime": {
     "end_time": "2020-06-27T11:27:07.422034Z",
     "start_time": "2020-06-27T11:27:07.417047Z"
    }
   },
   "outputs": [],
   "source": [
    "def extract_num(txt):\n",
    "    \n",
    "    \"\"\"\n",
    "        Searches a string and returns the last number found, if present. \n",
    "        Otherwise return 1.\n",
    "        Use case: For an item key such as 'Tondli 300 gms ', return 300 (to calculate total qty required)\n",
    "    \"\"\"\n",
    "    \n",
    "    match = re.findall(\"([0-9]+)\", txt)\n",
    "    if match:\n",
    "        return int(match[-1])\n",
    "    else:\n",
    "        return 1"
   ]
  },
  {
   "cell_type": "code",
   "execution_count": 58,
   "metadata": {
    "ExecuteTime": {
     "end_time": "2020-06-27T11:27:07.612599Z",
     "start_time": "2020-06-27T11:27:07.607613Z"
    }
   },
   "outputs": [],
   "source": [
    "# find quantity per item (amount of stuff in one packet)\n",
    "packet = []\n",
    "for item in cleaned_df.item:\n",
    "    packet.append(extract_num(item))\n",
    "cleaned_df[\"qty_per_packet\"] = packet"
   ]
  },
  {
   "cell_type": "markdown",
   "metadata": {},
   "source": [
    "### Total Quantity to be Purchased"
   ]
  },
  {
   "cell_type": "markdown",
   "metadata": {
    "ExecuteTime": {
     "end_time": "2020-06-27T11:11:10.332055Z",
     "start_time": "2020-06-27T11:11:10.325072Z"
    }
   },
   "source": [
    "Self explanatory. `(Total quantity to be purchased) = (Size of one packet) * (Total number of packets ordered)`"
   ]
  },
  {
   "cell_type": "code",
   "execution_count": 59,
   "metadata": {
    "ExecuteTime": {
     "end_time": "2020-06-27T11:27:08.176924Z",
     "start_time": "2020-06-27T11:27:08.171965Z"
    }
   },
   "outputs": [],
   "source": [
    "# total quantity = #units ordered * qty in 1 unit\n",
    "cleaned_df[\"total_qty\"] = cleaned_df.num_units * cleaned_df.qty_per_packet"
   ]
  },
  {
   "cell_type": "markdown",
   "metadata": {},
   "source": [
    "### Unit of Measurement"
   ]
  },
  {
   "cell_type": "markdown",
   "metadata": {},
   "source": [
    "Extract unit of measurement for particular item.\n",
    "\n",
    "**Approach**:\n",
    "1. If ` gm` is in item: grams\n",
    "2. Else, if ` pc` is in item: pieces\n",
    "3. Else, if ` bunch` is in item: bunches\n",
    "4. Default to kilograms"
   ]
  },
  {
   "cell_type": "code",
   "execution_count": 60,
   "metadata": {
    "ExecuteTime": {
     "end_time": "2020-06-27T11:27:08.768905Z",
     "start_time": "2020-06-27T11:27:08.763916Z"
    }
   },
   "outputs": [],
   "source": [
    "def get_unit(txt):\n",
    "    \"\"\"\n",
    "        Gets unit from an item string.\n",
    "        Assumption: standard occurence of units all across the board. \n",
    "    \"\"\"\n",
    "    txt = txt.lower()\n",
    "    if txt.find(' gm') != -1: unit = 'gms'\n",
    "    elif txt.find(' pc') != -1: unit = 'pcs'\n",
    "    elif txt.find(' bunch') != -1: unit = 'bunches'\n",
    "    else: unit = 'kgs'\n",
    "    return unit"
   ]
  },
  {
   "cell_type": "code",
   "execution_count": 61,
   "metadata": {
    "ExecuteTime": {
     "end_time": "2020-06-27T11:27:08.994548Z",
     "start_time": "2020-06-27T11:27:08.989561Z"
    }
   },
   "outputs": [],
   "source": [
    "# extract qty unit from item\n",
    "cleaned_df[\"unit\"] = cleaned_df.item.apply(get_unit)"
   ]
  },
  {
   "cell_type": "markdown",
   "metadata": {
    "ExecuteTime": {
     "end_time": "2020-06-27T10:44:16.810777Z",
     "start_time": "2020-06-27T10:44:16.806761Z"
    }
   },
   "source": [
    "### Handling the Curious Case of Bell Peppers"
   ]
  },
  {
   "cell_type": "markdown",
   "metadata": {},
   "source": [
    "The key `'Red & Yellow Bell Pepper 2 each in a pack'` implies two yellow bell peppers and two red bell peppers.\n",
    "\n",
    "**Approach**:\n",
    "\n",
    "1. Replace `x` units ordered with `2x` units each of '`Red Bell Pepper per pc`' and '`Yellow Bell Pepper per pc`'."
   ]
  },
  {
   "cell_type": "code",
   "execution_count": 62,
   "metadata": {
    "ExecuteTime": {
     "end_time": "2020-06-27T11:27:09.798466Z",
     "start_time": "2020-06-27T11:27:09.776514Z"
    }
   },
   "outputs": [],
   "source": [
    "# manually handle bell peppers\n",
    "\n",
    "for index, row in cleaned_df.iterrows():\n",
    "    if row[\"item\"] == 'Red & Yellow Bell Pepper 2 each in a pack':\n",
    "\n",
    "        # add red bell peppers\n",
    "        cleaned_df = cleaned_df.append({\"item\": \"Red Bell Pepper per pc\",\n",
    "                                        \"num_units\": row[\"num_units\"]*2,\n",
    "                                        \"qty_per_packet\": 1,\n",
    "                                        \"total_qty\": row[\"num_units\"]*2,\n",
    "                                        \"unit\": \"pcs\"}, ignore_index=True)\n",
    "\n",
    "        # add yellow bell peppers\n",
    "        cleaned_df = cleaned_df.append({\"item\": \"Yellow Bell Pepper per pc\",\n",
    "                                        \"num_units\": row[\"num_units\"]*2,\n",
    "                                        \"qty_per_packet\": 1,\n",
    "                                        \"total_qty\": row[\"num_units\"]*2,\n",
    "                                        \"unit\": \"pcs\"}, ignore_index=True)\n",
    "\n",
    "        # remove packet entry\n",
    "        cleaned_df.drop(index=index, inplace=True)"
   ]
  },
  {
   "cell_type": "markdown",
   "metadata": {},
   "source": [
    "## Save to Disk!"
   ]
  },
  {
   "cell_type": "markdown",
   "metadata": {},
   "source": [
    "Save file to disk as `listified-filename.csv`"
   ]
  },
  {
   "cell_type": "code",
   "execution_count": 63,
   "metadata": {
    "ExecuteTime": {
     "end_time": "2020-06-27T11:27:10.677968Z",
     "start_time": "2020-06-27T11:27:10.670969Z"
    }
   },
   "outputs": [],
   "source": [
    "cleaned_df.to_csv('listified-' + str(FILE.stem) + '.csv', index=False)"
   ]
  },
  {
   "cell_type": "code",
   "execution_count": 64,
   "metadata": {
    "ExecuteTime": {
     "end_time": "2020-06-27T11:27:10.907454Z",
     "start_time": "2020-06-27T11:27:10.889469Z"
    }
   },
   "outputs": [
    {
     "data": {
      "text/html": [
       "<div>\n",
       "<style scoped>\n",
       "    .dataframe tbody tr th:only-of-type {\n",
       "        vertical-align: middle;\n",
       "    }\n",
       "\n",
       "    .dataframe tbody tr th {\n",
       "        vertical-align: top;\n",
       "    }\n",
       "\n",
       "    .dataframe thead th {\n",
       "        text-align: right;\n",
       "    }\n",
       "</style>\n",
       "<table border=\"1\" class=\"dataframe\">\n",
       "  <thead>\n",
       "    <tr style=\"text-align: right;\">\n",
       "      <th></th>\n",
       "      <th>item</th>\n",
       "      <th>num_units</th>\n",
       "      <th>qty_per_packet</th>\n",
       "      <th>total_qty</th>\n",
       "      <th>unit</th>\n",
       "    </tr>\n",
       "  </thead>\n",
       "  <tbody>\n",
       "    <tr>\n",
       "      <th>0</th>\n",
       "      <td>Apples Royal Gala Per Kg</td>\n",
       "      <td>11</td>\n",
       "      <td>1</td>\n",
       "      <td>11</td>\n",
       "      <td>kgs</td>\n",
       "    </tr>\n",
       "    <tr>\n",
       "      <th>1</th>\n",
       "      <td>Apples Washington Per Kg</td>\n",
       "      <td>12</td>\n",
       "      <td>1</td>\n",
       "      <td>12</td>\n",
       "      <td>kgs</td>\n",
       "    </tr>\n",
       "    <tr>\n",
       "      <th>2</th>\n",
       "      <td>Baby Corn 300 gms</td>\n",
       "      <td>6</td>\n",
       "      <td>300</td>\n",
       "      <td>1800</td>\n",
       "      <td>gms</td>\n",
       "    </tr>\n",
       "    <tr>\n",
       "      <th>3</th>\n",
       "      <td>Banana Regular Per 6 Pcs</td>\n",
       "      <td>26</td>\n",
       "      <td>6</td>\n",
       "      <td>156</td>\n",
       "      <td>pcs</td>\n",
       "    </tr>\n",
       "    <tr>\n",
       "      <th>4</th>\n",
       "      <td>Basil Leaves  100 gms</td>\n",
       "      <td>18</td>\n",
       "      <td>100</td>\n",
       "      <td>1800</td>\n",
       "      <td>gms</td>\n",
       "    </tr>\n",
       "    <tr>\n",
       "      <th>5</th>\n",
       "      <td>Beetroot 500 Gms</td>\n",
       "      <td>21</td>\n",
       "      <td>500</td>\n",
       "      <td>10500</td>\n",
       "      <td>gms</td>\n",
       "    </tr>\n",
       "    <tr>\n",
       "      <th>6</th>\n",
       "      <td>Bhindi/Lady's Finger 500 Gms</td>\n",
       "      <td>38</td>\n",
       "      <td>500</td>\n",
       "      <td>19000</td>\n",
       "      <td>gms</td>\n",
       "    </tr>\n",
       "    <tr>\n",
       "      <th>7</th>\n",
       "      <td>Bitter Gourd 300 Gms</td>\n",
       "      <td>19</td>\n",
       "      <td>300</td>\n",
       "      <td>5700</td>\n",
       "      <td>gms</td>\n",
       "    </tr>\n",
       "    <tr>\n",
       "      <th>8</th>\n",
       "      <td>Brinjal Bharta Per Pc</td>\n",
       "      <td>23</td>\n",
       "      <td>1</td>\n",
       "      <td>23</td>\n",
       "      <td>pcs</td>\n",
       "    </tr>\n",
       "    <tr>\n",
       "      <th>9</th>\n",
       "      <td>Brinjal Kateri 500 Gms</td>\n",
       "      <td>16</td>\n",
       "      <td>500</td>\n",
       "      <td>8000</td>\n",
       "      <td>gms</td>\n",
       "    </tr>\n",
       "    <tr>\n",
       "      <th>10</th>\n",
       "      <td>Cabbage Per Pc</td>\n",
       "      <td>23</td>\n",
       "      <td>1</td>\n",
       "      <td>23</td>\n",
       "      <td>pcs</td>\n",
       "    </tr>\n",
       "    <tr>\n",
       "      <th>11</th>\n",
       "      <td>Capsicum Green 500 gms</td>\n",
       "      <td>22</td>\n",
       "      <td>500</td>\n",
       "      <td>11000</td>\n",
       "      <td>gms</td>\n",
       "    </tr>\n",
       "    <tr>\n",
       "      <th>12</th>\n",
       "      <td>Carrots 500 Gms</td>\n",
       "      <td>32</td>\n",
       "      <td>500</td>\n",
       "      <td>16000</td>\n",
       "      <td>gms</td>\n",
       "    </tr>\n",
       "    <tr>\n",
       "      <th>13</th>\n",
       "      <td>Cauliflower Per Pc</td>\n",
       "      <td>42</td>\n",
       "      <td>1</td>\n",
       "      <td>42</td>\n",
       "      <td>pcs</td>\n",
       "    </tr>\n",
       "    <tr>\n",
       "      <th>14</th>\n",
       "      <td>Chiku/ Sapota per Kg</td>\n",
       "      <td>20</td>\n",
       "      <td>1</td>\n",
       "      <td>20</td>\n",
       "      <td>kgs</td>\n",
       "    </tr>\n",
       "    <tr>\n",
       "      <th>15</th>\n",
       "      <td>Coconut  per pc</td>\n",
       "      <td>15</td>\n",
       "      <td>1</td>\n",
       "      <td>15</td>\n",
       "      <td>pcs</td>\n",
       "    </tr>\n",
       "    <tr>\n",
       "      <th>16</th>\n",
       "      <td>Coriander Leaves per bunch 250 - 300 gms</td>\n",
       "      <td>45</td>\n",
       "      <td>300</td>\n",
       "      <td>13500</td>\n",
       "      <td>gms</td>\n",
       "    </tr>\n",
       "    <tr>\n",
       "      <th>17</th>\n",
       "      <td>Cucumber 500 Gms</td>\n",
       "      <td>43</td>\n",
       "      <td>500</td>\n",
       "      <td>21500</td>\n",
       "      <td>gms</td>\n",
       "    </tr>\n",
       "    <tr>\n",
       "      <th>18</th>\n",
       "      <td>Curry Leaves per bunch</td>\n",
       "      <td>17</td>\n",
       "      <td>1</td>\n",
       "      <td>17</td>\n",
       "      <td>bunches</td>\n",
       "    </tr>\n",
       "    <tr>\n",
       "      <th>19</th>\n",
       "      <td>Drumsticks 250 gms</td>\n",
       "      <td>18</td>\n",
       "      <td>250</td>\n",
       "      <td>4500</td>\n",
       "      <td>gms</td>\n",
       "    </tr>\n",
       "    <tr>\n",
       "      <th>20</th>\n",
       "      <td>Garlic 250 Gms</td>\n",
       "      <td>9</td>\n",
       "      <td>250</td>\n",
       "      <td>2250</td>\n",
       "      <td>gms</td>\n",
       "    </tr>\n",
       "    <tr>\n",
       "      <th>21</th>\n",
       "      <td>Gawar/Cluster Beans 300 gms</td>\n",
       "      <td>16</td>\n",
       "      <td>300</td>\n",
       "      <td>4800</td>\n",
       "      <td>gms</td>\n",
       "    </tr>\n",
       "    <tr>\n",
       "      <th>22</th>\n",
       "      <td>Ginger 250 Gms</td>\n",
       "      <td>34</td>\n",
       "      <td>250</td>\n",
       "      <td>8500</td>\n",
       "      <td>gms</td>\n",
       "    </tr>\n",
       "    <tr>\n",
       "      <th>23</th>\n",
       "      <td>Green Apples Per Kg</td>\n",
       "      <td>3</td>\n",
       "      <td>1</td>\n",
       "      <td>3</td>\n",
       "      <td>kgs</td>\n",
       "    </tr>\n",
       "    <tr>\n",
       "      <th>24</th>\n",
       "      <td>Green Chilly 200 Gms</td>\n",
       "      <td>14</td>\n",
       "      <td>200</td>\n",
       "      <td>2800</td>\n",
       "      <td>gms</td>\n",
       "    </tr>\n",
       "    <tr>\n",
       "      <th>25</th>\n",
       "      <td>Kiwi Imported Pack of 3 Pc</td>\n",
       "      <td>12</td>\n",
       "      <td>3</td>\n",
       "      <td>36</td>\n",
       "      <td>pcs</td>\n",
       "    </tr>\n",
       "    <tr>\n",
       "      <th>26</th>\n",
       "      <td>Lemongrass  per bunch</td>\n",
       "      <td>17</td>\n",
       "      <td>1</td>\n",
       "      <td>17</td>\n",
       "      <td>bunches</td>\n",
       "    </tr>\n",
       "    <tr>\n",
       "      <th>27</th>\n",
       "      <td>Lemons pack of 5</td>\n",
       "      <td>49</td>\n",
       "      <td>5</td>\n",
       "      <td>245</td>\n",
       "      <td>kgs</td>\n",
       "    </tr>\n",
       "    <tr>\n",
       "      <th>28</th>\n",
       "      <td>Methi Leaves per bunch 450 gms - 500 gms</td>\n",
       "      <td>27</td>\n",
       "      <td>500</td>\n",
       "      <td>13500</td>\n",
       "      <td>gms</td>\n",
       "    </tr>\n",
       "    <tr>\n",
       "      <th>29</th>\n",
       "      <td>Mint Leaves per bunch</td>\n",
       "      <td>28</td>\n",
       "      <td>1</td>\n",
       "      <td>28</td>\n",
       "      <td>bunches</td>\n",
       "    </tr>\n",
       "    <tr>\n",
       "      <th>30</th>\n",
       "      <td>Onion Red 1 Kg</td>\n",
       "      <td>59</td>\n",
       "      <td>1</td>\n",
       "      <td>59</td>\n",
       "      <td>kgs</td>\n",
       "    </tr>\n",
       "    <tr>\n",
       "      <th>31</th>\n",
       "      <td>Orange Imported pack of 4 Pc</td>\n",
       "      <td>8</td>\n",
       "      <td>4</td>\n",
       "      <td>32</td>\n",
       "      <td>pcs</td>\n",
       "    </tr>\n",
       "    <tr>\n",
       "      <th>32</th>\n",
       "      <td>Palak/ Spinach Leaves per bunch 400 gms - 500 gms</td>\n",
       "      <td>44</td>\n",
       "      <td>500</td>\n",
       "      <td>22000</td>\n",
       "      <td>gms</td>\n",
       "    </tr>\n",
       "    <tr>\n",
       "      <th>33</th>\n",
       "      <td>Pear per Kg</td>\n",
       "      <td>20</td>\n",
       "      <td>1</td>\n",
       "      <td>20</td>\n",
       "      <td>kgs</td>\n",
       "    </tr>\n",
       "    <tr>\n",
       "      <th>34</th>\n",
       "      <td>Peeled Garlic 250 Gms</td>\n",
       "      <td>4</td>\n",
       "      <td>250</td>\n",
       "      <td>1000</td>\n",
       "      <td>gms</td>\n",
       "    </tr>\n",
       "    <tr>\n",
       "      <th>35</th>\n",
       "      <td>Pineapple Whole per pc</td>\n",
       "      <td>5</td>\n",
       "      <td>1</td>\n",
       "      <td>5</td>\n",
       "      <td>pcs</td>\n",
       "    </tr>\n",
       "    <tr>\n",
       "      <th>36</th>\n",
       "      <td>Potato 1 Kg</td>\n",
       "      <td>55</td>\n",
       "      <td>1</td>\n",
       "      <td>55</td>\n",
       "      <td>kgs</td>\n",
       "    </tr>\n",
       "    <tr>\n",
       "      <th>37</th>\n",
       "      <td>Pumpkin 500 gms</td>\n",
       "      <td>21</td>\n",
       "      <td>500</td>\n",
       "      <td>10500</td>\n",
       "      <td>gms</td>\n",
       "    </tr>\n",
       "    <tr>\n",
       "      <th>39</th>\n",
       "      <td>Ridge Gourd 500 Gms</td>\n",
       "      <td>19</td>\n",
       "      <td>500</td>\n",
       "      <td>9500</td>\n",
       "      <td>gms</td>\n",
       "    </tr>\n",
       "    <tr>\n",
       "      <th>40</th>\n",
       "      <td>Shepu/ Dill Leaves per bunch</td>\n",
       "      <td>8</td>\n",
       "      <td>1</td>\n",
       "      <td>8</td>\n",
       "      <td>bunches</td>\n",
       "    </tr>\n",
       "    <tr>\n",
       "      <th>41</th>\n",
       "      <td>Sweet Tamarind Pack of 225 gms</td>\n",
       "      <td>3</td>\n",
       "      <td>225</td>\n",
       "      <td>675</td>\n",
       "      <td>gms</td>\n",
       "    </tr>\n",
       "    <tr>\n",
       "      <th>42</th>\n",
       "      <td>Tomato 1 Kg</td>\n",
       "      <td>67</td>\n",
       "      <td>1</td>\n",
       "      <td>67</td>\n",
       "      <td>kgs</td>\n",
       "    </tr>\n",
       "    <tr>\n",
       "      <th>43</th>\n",
       "      <td>Tondli 300 gms</td>\n",
       "      <td>26</td>\n",
       "      <td>300</td>\n",
       "      <td>7800</td>\n",
       "      <td>gms</td>\n",
       "    </tr>\n",
       "    <tr>\n",
       "      <th>44</th>\n",
       "      <td>Red Bell Pepper per pc</td>\n",
       "      <td>12</td>\n",
       "      <td>1</td>\n",
       "      <td>12</td>\n",
       "      <td>pcs</td>\n",
       "    </tr>\n",
       "    <tr>\n",
       "      <th>45</th>\n",
       "      <td>Yellow Bell Pepper per pc</td>\n",
       "      <td>12</td>\n",
       "      <td>1</td>\n",
       "      <td>12</td>\n",
       "      <td>pcs</td>\n",
       "    </tr>\n",
       "  </tbody>\n",
       "</table>\n",
       "</div>"
      ],
      "text/plain": [
       "                                                 item  num_units  \\\n",
       "0                            Apples Royal Gala Per Kg         11   \n",
       "1                            Apples Washington Per Kg         12   \n",
       "2                                   Baby Corn 300 gms          6   \n",
       "3                            Banana Regular Per 6 Pcs         26   \n",
       "4                               Basil Leaves  100 gms         18   \n",
       "5                                    Beetroot 500 Gms         21   \n",
       "6                        Bhindi/Lady's Finger 500 Gms         38   \n",
       "7                                Bitter Gourd 300 Gms         19   \n",
       "8                               Brinjal Bharta Per Pc         23   \n",
       "9                              Brinjal Kateri 500 Gms         16   \n",
       "10                                     Cabbage Per Pc         23   \n",
       "11                             Capsicum Green 500 gms         22   \n",
       "12                                    Carrots 500 Gms         32   \n",
       "13                                 Cauliflower Per Pc         42   \n",
       "14                               Chiku/ Sapota per Kg         20   \n",
       "15                                    Coconut  per pc         15   \n",
       "16           Coriander Leaves per bunch 250 - 300 gms         45   \n",
       "17                                   Cucumber 500 Gms         43   \n",
       "18                             Curry Leaves per bunch         17   \n",
       "19                                 Drumsticks 250 gms         18   \n",
       "20                                     Garlic 250 Gms          9   \n",
       "21                        Gawar/Cluster Beans 300 gms         16   \n",
       "22                                     Ginger 250 Gms         34   \n",
       "23                                Green Apples Per Kg          3   \n",
       "24                               Green Chilly 200 Gms         14   \n",
       "25                         Kiwi Imported Pack of 3 Pc         12   \n",
       "26                              Lemongrass  per bunch         17   \n",
       "27                                   Lemons pack of 5         49   \n",
       "28           Methi Leaves per bunch 450 gms - 500 gms         27   \n",
       "29                              Mint Leaves per bunch         28   \n",
       "30                                     Onion Red 1 Kg         59   \n",
       "31                       Orange Imported pack of 4 Pc          8   \n",
       "32  Palak/ Spinach Leaves per bunch 400 gms - 500 gms         44   \n",
       "33                                        Pear per Kg         20   \n",
       "34                              Peeled Garlic 250 Gms          4   \n",
       "35                             Pineapple Whole per pc          5   \n",
       "36                                        Potato 1 Kg         55   \n",
       "37                                    Pumpkin 500 gms         21   \n",
       "39                                Ridge Gourd 500 Gms         19   \n",
       "40                       Shepu/ Dill Leaves per bunch          8   \n",
       "41                     Sweet Tamarind Pack of 225 gms          3   \n",
       "42                                        Tomato 1 Kg         67   \n",
       "43                                     Tondli 300 gms         26   \n",
       "44                             Red Bell Pepper per pc         12   \n",
       "45                          Yellow Bell Pepper per pc         12   \n",
       "\n",
       "    qty_per_packet  total_qty     unit  \n",
       "0                1         11      kgs  \n",
       "1                1         12      kgs  \n",
       "2              300       1800      gms  \n",
       "3                6        156      pcs  \n",
       "4              100       1800      gms  \n",
       "5              500      10500      gms  \n",
       "6              500      19000      gms  \n",
       "7              300       5700      gms  \n",
       "8                1         23      pcs  \n",
       "9              500       8000      gms  \n",
       "10               1         23      pcs  \n",
       "11             500      11000      gms  \n",
       "12             500      16000      gms  \n",
       "13               1         42      pcs  \n",
       "14               1         20      kgs  \n",
       "15               1         15      pcs  \n",
       "16             300      13500      gms  \n",
       "17             500      21500      gms  \n",
       "18               1         17  bunches  \n",
       "19             250       4500      gms  \n",
       "20             250       2250      gms  \n",
       "21             300       4800      gms  \n",
       "22             250       8500      gms  \n",
       "23               1          3      kgs  \n",
       "24             200       2800      gms  \n",
       "25               3         36      pcs  \n",
       "26               1         17  bunches  \n",
       "27               5        245      kgs  \n",
       "28             500      13500      gms  \n",
       "29               1         28  bunches  \n",
       "30               1         59      kgs  \n",
       "31               4         32      pcs  \n",
       "32             500      22000      gms  \n",
       "33               1         20      kgs  \n",
       "34             250       1000      gms  \n",
       "35               1          5      pcs  \n",
       "36               1         55      kgs  \n",
       "37             500      10500      gms  \n",
       "39             500       9500      gms  \n",
       "40               1          8  bunches  \n",
       "41             225        675      gms  \n",
       "42               1         67      kgs  \n",
       "43             300       7800      gms  \n",
       "44               1         12      pcs  \n",
       "45               1         12      pcs  "
      ]
     },
     "execution_count": 64,
     "metadata": {},
     "output_type": "execute_result"
    }
   ],
   "source": [
    "cleaned_df"
   ]
  },
  {
   "cell_type": "code",
   "execution_count": null,
   "metadata": {},
   "outputs": [],
   "source": []
  },
  {
   "cell_type": "code",
   "execution_count": null,
   "metadata": {},
   "outputs": [],
   "source": []
  }
 ],
 "metadata": {
  "kernelspec": {
   "display_name": "Python [conda env:fastaiv1] *",
   "language": "python",
   "name": "conda-env-fastaiv1-py"
  },
  "language_info": {
   "codemirror_mode": {
    "name": "ipython",
    "version": 3
   },
   "file_extension": ".py",
   "mimetype": "text/x-python",
   "name": "python",
   "nbconvert_exporter": "python",
   "pygments_lexer": "ipython3",
   "version": "3.6.9"
  },
  "toc": {
   "base_numbering": 1,
   "nav_menu": {},
   "number_sections": true,
   "sideBar": true,
   "skip_h1_title": false,
   "title_cell": "Table of Contents",
   "title_sidebar": "Contents",
   "toc_cell": false,
   "toc_position": {},
   "toc_section_display": true,
   "toc_window_display": false
  }
 },
 "nbformat": 4,
 "nbformat_minor": 2
}
