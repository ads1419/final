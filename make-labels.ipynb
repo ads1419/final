{
 "cells": [
  {
   "cell_type": "markdown",
   "metadata": {},
   "source": [
    "# Labels | Dropwise Count"
   ]
  },
  {
   "cell_type": "code",
   "execution_count": 1,
   "metadata": {
    "ExecuteTime": {
     "end_time": "2020-07-22T06:40:14.981725Z",
     "start_time": "2020-07-22T06:40:12.943401Z"
    }
   },
   "outputs": [],
   "source": [
    "import pandas as pd\n",
    "import re\n",
    "from pathlib import Path\n",
    "import os"
   ]
  },
  {
   "cell_type": "code",
   "execution_count": 2,
   "metadata": {
    "ExecuteTime": {
     "end_time": "2020-07-22T06:40:14.988608Z",
     "start_time": "2020-07-22T06:40:14.983620Z"
    }
   },
   "outputs": [],
   "source": [
    "OUTPUT_DIR = Path(\"C:/Playground/bhaiya-orders/outputs/\")"
   ]
  },
  {
   "cell_type": "code",
   "execution_count": 3,
   "metadata": {
    "ExecuteTime": {
     "end_time": "2020-07-22T06:40:17.516511Z",
     "start_time": "2020-07-22T06:40:17.415660Z"
    }
   },
   "outputs": [],
   "source": [
    "from ipyfilechooser import FileChooser"
   ]
  },
  {
   "cell_type": "code",
   "execution_count": 4,
   "metadata": {
    "ExecuteTime": {
     "end_time": "2020-07-22T06:40:18.249539Z",
     "start_time": "2020-07-22T06:40:18.176762Z"
    }
   },
   "outputs": [
    {
     "data": {
      "application/vnd.jupyter.widget-view+json": {
       "model_id": "bf32190e356e450e88d33b90ec48ce8d",
       "version_major": 2,
       "version_minor": 0
      },
      "text/plain": [
       "FileChooser(path='C:/Playground/bhaiya-orders/inputs', filename='', show_hidden='False')"
      ]
     },
     "metadata": {},
     "output_type": "display_data"
    }
   ],
   "source": [
    "fc = FileChooser(\"C:/Playground/bhaiya-orders/inputs\")\n",
    "fc.use_dir_icons = True\n",
    "display(fc)"
   ]
  },
  {
   "cell_type": "code",
   "execution_count": 5,
   "metadata": {
    "ExecuteTime": {
     "end_time": "2020-07-22T06:40:33.098142Z",
     "start_time": "2020-07-22T06:40:33.095139Z"
    }
   },
   "outputs": [],
   "source": [
    "FILE = Path(fc.selected)"
   ]
  },
  {
   "cell_type": "code",
   "execution_count": 6,
   "metadata": {
    "ExecuteTime": {
     "end_time": "2020-07-22T06:40:33.866262Z",
     "start_time": "2020-07-22T06:40:33.770763Z"
    }
   },
   "outputs": [],
   "source": [
    "try:\n",
    "    if 'csv' in FILE.suffix: df = pd.read_csv(FILE)\n",
    "    else: df = pd.read_excel(FILE)\n",
    "except OSError:\n",
    "    print(\"Error occured, invalid file!\")"
   ]
  },
  {
   "cell_type": "code",
   "execution_count": 7,
   "metadata": {
    "ExecuteTime": {
     "end_time": "2020-07-22T06:40:34.357897Z",
     "start_time": "2020-07-22T06:40:34.307033Z"
    }
   },
   "outputs": [
    {
     "data": {
      "text/html": [
       "<div>\n",
       "<style scoped>\n",
       "    .dataframe tbody tr th:only-of-type {\n",
       "        vertical-align: middle;\n",
       "    }\n",
       "\n",
       "    .dataframe tbody tr th {\n",
       "        vertical-align: top;\n",
       "    }\n",
       "\n",
       "    .dataframe thead th {\n",
       "        text-align: right;\n",
       "    }\n",
       "</style>\n",
       "<table border=\"1\" class=\"dataframe\">\n",
       "  <thead>\n",
       "    <tr style=\"text-align: right;\">\n",
       "      <th></th>\n",
       "      <th>Submission Date</th>\n",
       "      <th>Order Number#</th>\n",
       "      <th>Token</th>\n",
       "      <th>First Name</th>\n",
       "      <th>Last Name</th>\n",
       "      <th>Select Drop Point and Building</th>\n",
       "      <th>Select Wing</th>\n",
       "      <th>Flat No.</th>\n",
       "      <th>Phone Number</th>\n",
       "      <th>Email</th>\n",
       "      <th>Delivery Date</th>\n",
       "      <th>Your Order: Products</th>\n",
       "    </tr>\n",
       "  </thead>\n",
       "  <tbody>\n",
       "    <tr>\n",
       "      <th>0</th>\n",
       "      <td>2020-07-21 08:27:15</td>\n",
       "      <td>BHORS-0557</td>\n",
       "      <td>1</td>\n",
       "      <td>Rashmita</td>\n",
       "      <td>Sundaram</td>\n",
       "      <td>Aeon/Zeon - Aeon</td>\n",
       "      <td>A</td>\n",
       "      <td>1202</td>\n",
       "      <td>9004913659</td>\n",
       "      <td>rashmita.sundaram@gmail.com</td>\n",
       "      <td>Wed 22nd July</td>\n",
       "      <td>Sitaphal/Custard Apple Per KG (Amount: 130.00 ...</td>\n",
       "    </tr>\n",
       "    <tr>\n",
       "      <th>1</th>\n",
       "      <td>2020-07-20 21:53:06</td>\n",
       "      <td>BHORS-0548</td>\n",
       "      <td>2</td>\n",
       "      <td>Heena</td>\n",
       "      <td>Parekh</td>\n",
       "      <td>Aeon/Zeon - Aeon</td>\n",
       "      <td>A</td>\n",
       "      <td>1101</td>\n",
       "      <td>9892404976</td>\n",
       "      <td>heenaparekh75@gmail.com</td>\n",
       "      <td>Wed 22nd July</td>\n",
       "      <td>Muskmelon Per Pc (Amount: 110.00 INR, Special ...</td>\n",
       "    </tr>\n",
       "  </tbody>\n",
       "</table>\n",
       "</div>"
      ],
      "text/plain": [
       "      Submission Date Order Number#  Token First Name Last Name  \\\n",
       "0 2020-07-21 08:27:15    BHORS-0557      1   Rashmita  Sundaram   \n",
       "1 2020-07-20 21:53:06    BHORS-0548      2      Heena    Parekh   \n",
       "\n",
       "  Select Drop Point and Building Select Wing Flat No.  Phone Number  \\\n",
       "0               Aeon/Zeon - Aeon           A     1202    9004913659   \n",
       "1               Aeon/Zeon - Aeon           A     1101    9892404976   \n",
       "\n",
       "                         Email  Delivery Date  \\\n",
       "0  rashmita.sundaram@gmail.com  Wed 22nd July   \n",
       "1      heenaparekh75@gmail.com  Wed 22nd July   \n",
       "\n",
       "                                Your Order: Products  \n",
       "0  Sitaphal/Custard Apple Per KG (Amount: 130.00 ...  \n",
       "1  Muskmelon Per Pc (Amount: 110.00 INR, Special ...  "
      ]
     },
     "execution_count": 7,
     "metadata": {},
     "output_type": "execute_result"
    }
   ],
   "source": [
    "df.head(2)"
   ]
  },
  {
   "cell_type": "markdown",
   "metadata": {
    "heading_collapsed": true
   },
   "source": [
    "# Manual (Obsolete)"
   ]
  },
  {
   "cell_type": "markdown",
   "metadata": {
    "hidden": true
   },
   "source": [
    "This section creates labels from the Pipe Separated File, which was done manually earlier."
   ]
  },
  {
   "cell_type": "code",
   "execution_count": 45,
   "metadata": {
    "ExecuteTime": {
     "end_time": "2020-07-18T09:37:15.200729Z",
     "start_time": "2020-07-18T09:37:15.195742Z"
    },
    "hidden": true
   },
   "outputs": [],
   "source": [
    "# ITEMS = 'Your Order: Products'"
   ]
  },
  {
   "cell_type": "code",
   "execution_count": 46,
   "metadata": {
    "ExecuteTime": {
     "end_time": "2020-07-18T09:37:15.353534Z",
     "start_time": "2020-07-18T09:37:15.349546Z"
    },
    "hidden": true
   },
   "outputs": [],
   "source": [
    "# df[ITEMS][0]"
   ]
  },
  {
   "cell_type": "code",
   "execution_count": 47,
   "metadata": {
    "ExecuteTime": {
     "end_time": "2020-07-18T09:37:15.501139Z",
     "start_time": "2020-07-18T09:37:15.497150Z"
    },
    "hidden": true
   },
   "outputs": [],
   "source": [
    "# cols = df.columns"
   ]
  },
  {
   "cell_type": "code",
   "execution_count": 48,
   "metadata": {
    "ExecuteTime": {
     "end_time": "2020-07-18T09:37:15.644754Z",
     "start_time": "2020-07-18T09:37:15.640766Z"
    },
    "hidden": true
   },
   "outputs": [],
   "source": [
    "# # splitting on pipe\n",
    "# new_df = pd.DataFrame(columns=df.columns)\n",
    "\n",
    "# for index, row in df.iterrows():\n",
    "#     row_dict = {}\n",
    "    \n",
    "#     for col in cols:\n",
    "#         row_dict[col] = row[col]\n",
    "        \n",
    "#     spl = row[ITEMS].split('|')\n",
    "#     for item in spl:\n",
    "#         item = item.strip()\n",
    "#         if len(item) > 2:\n",
    "#             row_dict[ITEMS] = item\n",
    "#             new_df = new_df.append(row_dict, ignore_index=True)"
   ]
  },
  {
   "cell_type": "code",
   "execution_count": 49,
   "metadata": {
    "ExecuteTime": {
     "end_time": "2020-07-18T09:37:16.878455Z",
     "start_time": "2020-07-18T09:37:16.874467Z"
    },
    "hidden": true
   },
   "outputs": [],
   "source": [
    "# new_df.to_csv('separate-pipe.csv', index=False)"
   ]
  },
  {
   "cell_type": "code",
   "execution_count": 50,
   "metadata": {
    "ExecuteTime": {
     "end_time": "2020-07-18T09:37:17.034039Z",
     "start_time": "2020-07-18T09:37:17.030048Z"
    },
    "hidden": true
   },
   "outputs": [],
   "source": [
    "# # replicate count number of times\n",
    "# brand_new_df = pd.DataFrame(columns=new_df.columns)\n",
    "\n",
    "# for index, row in new_df.iterrows():\n",
    "#     spl = row[ITEMS].split('-')\n",
    "#     for i in range(int(spl[-1])):\n",
    "#         brand_new_df = brand_new_df.append(row, ignore_index=True)\n",
    "\n",
    "# brand_new_df[ITEMS] = brand_new_df[ITEMS].apply(lambda x: x.split('-')[0])"
   ]
  },
  {
   "cell_type": "code",
   "execution_count": 51,
   "metadata": {
    "ExecuteTime": {
     "end_time": "2020-07-18T09:37:17.605510Z",
     "start_time": "2020-07-18T09:37:17.601521Z"
    },
    "hidden": true
   },
   "outputs": [],
   "source": [
    "# brand_new_df.to_csv('separate-pipe-make-labels.csv', index=False)"
   ]
  },
  {
   "cell_type": "markdown",
   "metadata": {},
   "source": [
    "# Use This"
   ]
  },
  {
   "cell_type": "code",
   "execution_count": 8,
   "metadata": {
    "ExecuteTime": {
     "end_time": "2020-07-22T06:40:38.056550Z",
     "start_time": "2020-07-22T06:40:38.051562Z"
    }
   },
   "outputs": [],
   "source": [
    "# df[\"Token\"] = list(range(len(df)))"
   ]
  },
  {
   "cell_type": "code",
   "execution_count": 9,
   "metadata": {
    "ExecuteTime": {
     "end_time": "2020-07-22T06:40:38.639201Z",
     "start_time": "2020-07-22T06:40:38.634242Z"
    }
   },
   "outputs": [],
   "source": [
    "for col in df.columns:\n",
    "    if \"Your Order\" in col:\n",
    "        your_order = col\n",
    "        \n",
    "    if \"token\" in col.lower():\n",
    "        token = col\n",
    "        \n",
    "    if \"flat\" in col.lower():\n",
    "        flat = col\n",
    "        \n",
    "    if \"order number\" in col.lower():\n",
    "        order_number = col"
   ]
  },
  {
   "cell_type": "code",
   "execution_count": 10,
   "metadata": {
    "ExecuteTime": {
     "end_time": "2020-07-22T06:40:39.483527Z",
     "start_time": "2020-07-22T06:40:39.465550Z"
    }
   },
   "outputs": [
    {
     "data": {
      "text/plain": [
       "'Sitaphal/Custard Apple Per KG (Amount: 130.00 INR, Special Quantity: 1)\\nElaichi Banana One Dozen (Amount: 80.00 INR, Special Quantity: 1)\\nSubtotal: \\nTax: \\n\\nTotal: 210.00'"
      ]
     },
     "execution_count": 10,
     "metadata": {},
     "output_type": "execute_result"
    }
   ],
   "source": [
    "df[your_order][0]"
   ]
  },
  {
   "cell_type": "code",
   "execution_count": 11,
   "metadata": {
    "ExecuteTime": {
     "end_time": "2020-07-22T06:40:42.599553Z",
     "start_time": "2020-07-22T06:40:42.587559Z"
    }
   },
   "outputs": [],
   "source": [
    "def get_item_name(order):\n",
    "    '''\n",
    "    Return the Item Name, Final Weight, Num Packets, Unit\n",
    "    '''\n",
    "    \n",
    "    stopwords = ['per', 'gms', 'gm', 'kgs', 'kg', 'pack', 'each', '-']\n",
    "    \n",
    "    # parse the key, stop when you encounter a number, unit, keyword like 'per', 'pack'\n",
    "    item = order.split('(')[0].strip()\n",
    "    item = re.sub('[0-9]+', ' ', item)\n",
    "    item = item.split()\n",
    "#     print(item)\n",
    "    final_item = ''\n",
    "    for token in item:\n",
    "        if token.lower() in stopwords:\n",
    "            break\n",
    "        final_item += ' ' + token\n",
    "    \n",
    "    return final_item.strip()\n",
    "\n",
    "\n",
    "def get_qty(txt):\n",
    "    \n",
    "    \"\"\"\n",
    "        Returns the Special Quantity key for a given order. \n",
    "            Sample input string: '...no. of 500 gm packets required: 1)'\n",
    "            Returns: 1\n",
    "    \"\"\"\n",
    "    \n",
    "    if txt[-1] != ')':  txt = txt + ')'\n",
    "    \n",
    "    match = re.search(\": ([0-9]+?)\\)\", txt)\n",
    "\n",
    "    # temporary fix for VNR Guava\n",
    "    if \"VNR Guava Per Kg (\" in txt: match = re.search(\"\\(([0-9]+?)\", txt)\n",
    "    \n",
    "    if match:\n",
    "        return int(match.group(1))\n",
    "    \n",
    "    \n",
    "def extract_num(txt):\n",
    "    \n",
    "    \"\"\"\n",
    "        Searches a string and returns the last number found, if present. \n",
    "        Otherwise return 1.\n",
    "        Use case: For an item key such as 'Tondli 300 gms ', return 300 (to calculate total qty required)\n",
    "    \"\"\"\n",
    "    \n",
    "    match = re.findall(\"([0-9]+)\", txt)\n",
    "    if match:\n",
    "        return int(match[-1])\n",
    "    else:\n",
    "        return 1\n",
    "    \n",
    "    \n",
    "    \n",
    "def get_unit(txt):\n",
    "    \"\"\"\n",
    "        Gets unit from an item string.\n",
    "        Assumption: standard occurence of units all across the board. \n",
    "    \"\"\"\n",
    "    txt = txt.lower()\n",
    "    if txt.find(' gm') != -1: unit = 'gms'\n",
    "    elif (txt.find(' pc') != -1) or (txt.find(' pack') != -1): unit = 'pcs'\n",
    "    elif txt.find(' bunch') != -1: unit = 'bunches'\n",
    "    else: unit = 'kgs'\n",
    "    return unit"
   ]
  },
  {
   "cell_type": "code",
   "execution_count": 12,
   "metadata": {
    "ExecuteTime": {
     "end_time": "2020-07-22T06:40:43.883333Z",
     "start_time": "2020-07-22T06:40:43.877294Z"
    }
   },
   "outputs": [],
   "source": [
    "def parse_order(order):\n",
    "    '''\n",
    "    Return the Item Name, Final Weight, Num Packets, Unit\n",
    "    '''\n",
    "    if len(order.split('(')) < 2: return None\n",
    "    \n",
    "    item_name = get_item_name(order)\n",
    "    num_packets = get_qty(order)\n",
    "    unit = get_unit(order)\n",
    "    qty_per_pack = extract_num(order.split('(')[0])\n",
    "    final_weight = qty_per_pack * num_packets\n",
    "\n",
    "    return {\"item_name\": item_name,\n",
    "            \"num_packets\": num_packets,\n",
    "            \"unit\": unit,\n",
    "            \"final_weight\": final_weight}"
   ]
  },
  {
   "cell_type": "code",
   "execution_count": 13,
   "metadata": {
    "ExecuteTime": {
     "end_time": "2020-07-22T06:40:44.429689Z",
     "start_time": "2020-07-22T06:40:44.378817Z"
    }
   },
   "outputs": [],
   "source": [
    "rows_list = []\n",
    "for index, row in df.iterrows():\n",
    "    for order in row[your_order].split(')'):\n",
    "        parsed = parse_order(order)\n",
    "        if parsed:\n",
    "            for q in range(parsed['num_packets']):\n",
    "                row_dict = {}\n",
    "                row_dict['token_no'] = row[token]\n",
    "                row_dict['order_no'] = row[order_number]\n",
    "                row_dict['first_name'] = row[\"First Name\"]\n",
    "                row_dict['last_name'] = row[\"Last Name\"]\n",
    "                row_dict['item_name'] = parsed['item_name']\n",
    "                row_dict['drop_point'] = row['Select Drop Point and Building'].split('-')[0]\n",
    "\n",
    "    #             # TEMP\n",
    "    #             row_dict['final_weight'] = parsed['final_weight']\n",
    "    #             row_dict['num_packets'] = parsed['num_packets']\n",
    "\n",
    "                row_dict['building'] = row['Select Drop Point and Building']\n",
    "                row_dict['wing'] = row['Select Wing']\n",
    "                row_dict['flat_no'] = row[flat]\n",
    "                row_dict['phone_number'] = row['Phone Number']\n",
    "                row_dict['email_id'] = row['Email']\n",
    "\n",
    "    #             if 'tondli' in row_dict['item_name'].lower() or 'palak' in row_dict['item_name'].lower() or 'raw banana' in row_dict['item_name'].lower():\n",
    "                rows_list.append(row_dict)"
   ]
  },
  {
   "cell_type": "code",
   "execution_count": 14,
   "metadata": {
    "ExecuteTime": {
     "end_time": "2020-07-22T06:40:45.841614Z",
     "start_time": "2020-07-22T06:40:45.835658Z"
    }
   },
   "outputs": [],
   "source": [
    "new_df = pd.DataFrame(rows_list)"
   ]
  },
  {
   "cell_type": "code",
   "execution_count": 15,
   "metadata": {
    "ExecuteTime": {
     "end_time": "2020-07-22T06:40:46.208278Z",
     "start_time": "2020-07-22T06:40:46.193318Z"
    }
   },
   "outputs": [
    {
     "data": {
      "text/html": [
       "<div>\n",
       "<style scoped>\n",
       "    .dataframe tbody tr th:only-of-type {\n",
       "        vertical-align: middle;\n",
       "    }\n",
       "\n",
       "    .dataframe tbody tr th {\n",
       "        vertical-align: top;\n",
       "    }\n",
       "\n",
       "    .dataframe thead th {\n",
       "        text-align: right;\n",
       "    }\n",
       "</style>\n",
       "<table border=\"1\" class=\"dataframe\">\n",
       "  <thead>\n",
       "    <tr style=\"text-align: right;\">\n",
       "      <th></th>\n",
       "      <th>token_no</th>\n",
       "      <th>order_no</th>\n",
       "      <th>first_name</th>\n",
       "      <th>last_name</th>\n",
       "      <th>item_name</th>\n",
       "      <th>drop_point</th>\n",
       "      <th>building</th>\n",
       "      <th>wing</th>\n",
       "      <th>flat_no</th>\n",
       "      <th>phone_number</th>\n",
       "      <th>email_id</th>\n",
       "    </tr>\n",
       "  </thead>\n",
       "  <tbody>\n",
       "    <tr>\n",
       "      <th>243</th>\n",
       "      <td>74</td>\n",
       "      <td>BHORS-0545</td>\n",
       "      <td>Deepti</td>\n",
       "      <td>Sanghi</td>\n",
       "      <td>Kiwi</td>\n",
       "      <td>Sector 1/2</td>\n",
       "      <td>Sector 1/2 - Silver Arch</td>\n",
       "      <td>A</td>\n",
       "      <td>501</td>\n",
       "      <td>9819336770</td>\n",
       "      <td>sanghideepti@yahoo.in</td>\n",
       "    </tr>\n",
       "    <tr>\n",
       "      <th>244</th>\n",
       "      <td>74</td>\n",
       "      <td>BHORS-0545</td>\n",
       "      <td>Deepti</td>\n",
       "      <td>Sanghi</td>\n",
       "      <td>Papaya</td>\n",
       "      <td>Sector 1/2</td>\n",
       "      <td>Sector 1/2 - Silver Arch</td>\n",
       "      <td>A</td>\n",
       "      <td>501</td>\n",
       "      <td>9819336770</td>\n",
       "      <td>sanghideepti@yahoo.in</td>\n",
       "    </tr>\n",
       "    <tr>\n",
       "      <th>245</th>\n",
       "      <td>74</td>\n",
       "      <td>BHORS-0545</td>\n",
       "      <td>Deepti</td>\n",
       "      <td>Sanghi</td>\n",
       "      <td>Papaya</td>\n",
       "      <td>Sector 1/2</td>\n",
       "      <td>Sector 1/2 - Silver Arch</td>\n",
       "      <td>A</td>\n",
       "      <td>501</td>\n",
       "      <td>9819336770</td>\n",
       "      <td>sanghideepti@yahoo.in</td>\n",
       "    </tr>\n",
       "    <tr>\n",
       "      <th>246</th>\n",
       "      <td>75</td>\n",
       "      <td>BHORS-0574</td>\n",
       "      <td>Rohan</td>\n",
       "      <td>Goel</td>\n",
       "      <td>Chausa Mangoes</td>\n",
       "      <td>Sector 1/2</td>\n",
       "      <td>Sector 1/2 - Topaz</td>\n",
       "      <td>NaN</td>\n",
       "      <td>202</td>\n",
       "      <td>9619935777</td>\n",
       "      <td>rohangoel68@gmail.com</td>\n",
       "    </tr>\n",
       "    <tr>\n",
       "      <th>247</th>\n",
       "      <td>76</td>\n",
       "      <td>BHORS-0558</td>\n",
       "      <td>Mithila</td>\n",
       "      <td>Naik</td>\n",
       "      <td>Sitaphal/Custard Apple</td>\n",
       "      <td>Sector 1/2</td>\n",
       "      <td>Sector 1/2 - Topaz</td>\n",
       "      <td>NaN</td>\n",
       "      <td>601</td>\n",
       "      <td>9870851416</td>\n",
       "      <td>mithila_lad@yahoo.com</td>\n",
       "    </tr>\n",
       "  </tbody>\n",
       "</table>\n",
       "</div>"
      ],
      "text/plain": [
       "     token_no    order_no first_name last_name               item_name  \\\n",
       "243        74  BHORS-0545     Deepti    Sanghi                    Kiwi   \n",
       "244        74  BHORS-0545     Deepti    Sanghi                  Papaya   \n",
       "245        74  BHORS-0545     Deepti    Sanghi                  Papaya   \n",
       "246        75  BHORS-0574      Rohan      Goel          Chausa Mangoes   \n",
       "247        76  BHORS-0558    Mithila      Naik  Sitaphal/Custard Apple   \n",
       "\n",
       "      drop_point                  building wing flat_no  phone_number  \\\n",
       "243  Sector 1/2   Sector 1/2 - Silver Arch    A     501    9819336770   \n",
       "244  Sector 1/2   Sector 1/2 - Silver Arch    A     501    9819336770   \n",
       "245  Sector 1/2   Sector 1/2 - Silver Arch    A     501    9819336770   \n",
       "246  Sector 1/2         Sector 1/2 - Topaz  NaN     202    9619935777   \n",
       "247  Sector 1/2         Sector 1/2 - Topaz  NaN     601    9870851416   \n",
       "\n",
       "                  email_id  \n",
       "243  sanghideepti@yahoo.in  \n",
       "244  sanghideepti@yahoo.in  \n",
       "245  sanghideepti@yahoo.in  \n",
       "246  rohangoel68@gmail.com  \n",
       "247  mithila_lad@yahoo.com  "
      ]
     },
     "execution_count": 15,
     "metadata": {},
     "output_type": "execute_result"
    }
   ],
   "source": [
    "new_df.tail()"
   ]
  },
  {
   "cell_type": "code",
   "execution_count": 16,
   "metadata": {
    "ExecuteTime": {
     "end_time": "2020-07-22T06:40:49.238472Z",
     "start_time": "2020-07-22T06:40:49.233486Z"
    }
   },
   "outputs": [],
   "source": [
    "save_pth = OUTPUT_DIR/FILE.stem\n",
    "os.makedirs(save_pth, exist_ok=True)"
   ]
  },
  {
   "cell_type": "markdown",
   "metadata": {},
   "source": [
    "### Save DropWise"
   ]
  },
  {
   "cell_type": "code",
   "execution_count": 17,
   "metadata": {
    "ExecuteTime": {
     "end_time": "2020-07-22T06:40:50.599527Z",
     "start_time": "2020-07-22T06:40:50.595537Z"
    }
   },
   "outputs": [],
   "source": [
    "fname = save_pth/('dropwise-'+ str(FILE.stem) + '.csv')"
   ]
  },
  {
   "cell_type": "code",
   "execution_count": 18,
   "metadata": {
    "ExecuteTime": {
     "end_time": "2020-07-22T06:40:52.936116Z",
     "start_time": "2020-07-22T06:40:52.911059Z"
    }
   },
   "outputs": [],
   "source": [
    "new_df.groupby(['drop_point', 'item_name']).count().token_no.to_csv(fname, header=['count'])"
   ]
  },
  {
   "cell_type": "markdown",
   "metadata": {
    "ExecuteTime": {
     "end_time": "2020-07-18T09:30:41.960646Z",
     "start_time": "2020-07-18T09:30:41.955660Z"
    }
   },
   "source": [
    "### Save Labels"
   ]
  },
  {
   "cell_type": "code",
   "execution_count": 17,
   "metadata": {
    "ExecuteTime": {
     "end_time": "2020-07-21T17:30:13.703156Z",
     "start_time": "2020-07-21T17:30:13.699170Z"
    }
   },
   "outputs": [],
   "source": [
    "fname = save_pth/('labels-' + str(FILE.stem) + '.csv')"
   ]
  },
  {
   "cell_type": "code",
   "execution_count": 18,
   "metadata": {
    "ExecuteTime": {
     "end_time": "2020-07-21T17:30:14.151961Z",
     "start_time": "2020-07-21T17:30:14.140981Z"
    }
   },
   "outputs": [],
   "source": [
    "new_df.to_csv(fname, index=False)"
   ]
  },
  {
   "cell_type": "code",
   "execution_count": null,
   "metadata": {},
   "outputs": [],
   "source": []
  }
 ],
 "metadata": {
  "kernelspec": {
   "display_name": "Python [conda env:fastaiv1] *",
   "language": "python",
   "name": "conda-env-fastaiv1-py"
  },
  "language_info": {
   "codemirror_mode": {
    "name": "ipython",
    "version": 3
   },
   "file_extension": ".py",
   "mimetype": "text/x-python",
   "name": "python",
   "nbconvert_exporter": "python",
   "pygments_lexer": "ipython3",
   "version": "3.6.9"
  },
  "toc": {
   "base_numbering": 1,
   "nav_menu": {},
   "number_sections": true,
   "sideBar": true,
   "skip_h1_title": false,
   "title_cell": "Table of Contents",
   "title_sidebar": "Contents",
   "toc_cell": false,
   "toc_position": {},
   "toc_section_display": true,
   "toc_window_display": false
  }
 },
 "nbformat": 4,
 "nbformat_minor": 2
}
